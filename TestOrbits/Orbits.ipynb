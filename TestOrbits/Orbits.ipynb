{
 "cells": [
  {
   "cell_type": "code",
   "execution_count": 10,
   "metadata": {},
   "outputs": [],
   "source": [
    "import numpy as np\n",
    "import scipy\n",
    "import matplotlib.pyplot as plt\n",
    "from astropy.io import fits"
   ]
  },
  {
   "cell_type": "code",
   "execution_count": 11,
   "metadata": {},
   "outputs": [],
   "source": [
    "import photutils"
   ]
  },
  {
   "cell_type": "code",
   "execution_count": 12,
   "metadata": {},
   "outputs": [],
   "source": [
    "dir='C:/Users/tvfer/Documents/AstroLab/TestOrbits/Jupiter/'"
   ]
  },
  {
   "cell_type": "code",
   "execution_count": 13,
   "metadata": {},
   "outputs": [],
   "source": [
    "Blue22dir,Red22dir,Green22dir = dir+'22/jupiter_2019-10-22_18-56-17_Blue_0055.fits',dir+'22/jupiter_2019-10-22_18-53-24_Red_0035.fits', dir+'22/jupiter_2019-10-22_18-54-57_Green_0042.fits'"
   ]
  },
  {
   "cell_type": "code",
   "execution_count": 14,
   "metadata": {},
   "outputs": [],
   "source": [
    "Red23dir = dir+'23/jupiter_2019-10-23_19-14-42_Red_0114.fits'"
   ]
  },
  {
   "cell_type": "code",
   "execution_count": 15,
   "metadata": {},
   "outputs": [],
   "source": [
    "Black24dir,Blue24dir,Red24dir,Green24dir = dir+'24/jupiter_2019-10-24_18-23-22_black_0075.fits',dir+'24/jupiter_2019-10-24_18-27-28_Blue_0083.fits',dir+'24/jupiter_2019-10-24_18-32-06_Red_0109.fits',dir+'24/jupiter_2019-10-24_18-29-54_Green_0095.fits'"
   ]
  },
  {
   "cell_type": "code",
   "execution_count": 16,
   "metadata": {},
   "outputs": [],
   "source": [
    "Black251dir,Blue251dir,Red251dir,Green251dir= dir+'25/jupiter_2019-10-25_18-24-58_black_0082.fits',dir+'25/jupiter_2019-10-25_18-25-41_Blue_0088.fits',dir+'25/jupiter_2019-10-25_18-29-40_Red_0103.fits',dir+'25/jupiter_2019-10-25_18-28-40_Green_0096.fits'\n",
    "Black252dir,Blue252dir,Green252dir = dir+'25/jupiter_2019-10-25_19-26-54_black_0225.fits',dir+'25/jupiter_2019-10-25_19-27-22_Blue_0226.fits',dir+'25/jupiter_2019-10-25_19-34-01_Green_0242.fits'"
   ]
  },
  {
   "cell_type": "code",
   "execution_count": 17,
   "metadata": {},
   "outputs": [],
   "source": [
    "Blue22,Red22,Green22 = fits.open(Blue22dir),fits.open(Red22dir),fits.open(Green22dir)\n",
    "Red23 = fits.open(Red23dir)\n",
    "Black24,Blue24,Red24,Green24 = fits.open(Black24dir),fits.open(Blue24dir), fits.open(Red24dir),fits.open(Green24dir)\n",
    "Black251,Blue251,Red251,Green251 = fits.open(Black251dir),fits.open(Blue251dir),fits.open(Red251dir), fits.open(Green251dir)\n",
    "Black252,Blue252,Green252 = fits.open(Black252dir),fits.open(Blue252dir), fits.open(Green252dir)"
   ]
  },
  {
   "cell_type": "code",
   "execution_count": 18,
   "metadata": {},
   "outputs": [],
   "source": [
    "dictionaryDATA = [[-1,Red22,Blue22,Green22],[-1,Red23,-1,-1],[Black24,Red24,Green24,Blue24],[Black251,Red251,Green251,Blue251],[Black252,-1,Green252,Blue252]]"
   ]
  },
  {
   "cell_type": "code",
   "execution_count": 19,
   "metadata": {},
   "outputs": [],
   "source": [
    "TestRed22Centroids = [[716,631],[670,631],[915,609],-1,-1]\n",
    "TestGreen22Centroids = [[718,632],[671,637],[674,632],[915,617],-1]\n",
    "TestBlue22Centroids = [[714,637],[670,640],[910,623],-1,-1]\n",
    "TestRed23Centroids = [[725,725],[281,690],[412,715],[580,682],-1]\n",
    "TestBlack24Centroids = [[898,554],[406,524],[444,492],[996,567],[1017,577]]\n",
    "TestRed24Centroids = [[907,563],[415,532],[453,502],[1010,576],[1031,584]]\n",
    "TestGreen24Centroids = [[898,588],[405,560],[444,527],[1000,603],[1021,611]]\n",
    "TestBlue24Centroids = [[891,562],[400,534],[441,502],[994,576],[1013,585]]\n",
    "TestBlack251Centroids = [[761,483],[568,480],[592,458],[1030,510],-1]\n",
    "TestRed251Centroids = [[767,498],[578,496],[604,475],[1037,522],-1]\n",
    "TestGreen251Centroids = [[764,497],[575,495],[603,472],[1035,522],[69,388]]\n",
    "TestBlue251Centroids = [[762,489],[571,487],[602,466],[1037,519],-1]\n",
    "TestBlack252Centroids = [[686,586],[512,580],[505,556],[936,610],-1]\n",
    "TestBlue252Centroids = [[684,585],[515,581],[507,554],[939,605],-1]\n",
    "TestGreen252Centroids = [[770,418],[590,391],[600,418],[1024,439],[72,307]]\n",
    "dictestC = [[-1,TestRed22Centroids,TestGreen22Centroids,TestBlue22Centroids],[-1,TestRed23Centroids,-1,-1],[TestBlack24Centroids,TestRed24Centroids,TestGreen24Centroids,TestBlue24Centroids],[TestBlack251Centroids,TestRed251Centroids,TestGreen251Centroids,TestBlue251Centroids],[TestBlack252Centroids,-1,TestGreen252Centroids,TestBlue252Centroids]]"
   ]
  },
  {
   "cell_type": "code",
   "execution_count": null,
   "metadata": {},
   "outputs": [],
   "source": [
    "for j in range(0,len(dictionaryDATA)):\n",
    "    for s in range(0,len(dictionaryDATA[j])):\n",
    "        if dictionaryDATA[j][i] != -1:\n",
    "            \n",
    "\n",
    "    \n",
    "        "
   ]
  }
 ],
 "metadata": {
  "kernelspec": {
   "display_name": "Python 3",
   "language": "python",
   "name": "python3"
  },
  "language_info": {
   "codemirror_mode": {
    "name": "ipython",
    "version": 3
   },
   "file_extension": ".py",
   "mimetype": "text/x-python",
   "name": "python",
   "nbconvert_exporter": "python",
   "pygments_lexer": "ipython3",
   "version": "3.7.4"
  }
 },
 "nbformat": 4,
 "nbformat_minor": 2
}
