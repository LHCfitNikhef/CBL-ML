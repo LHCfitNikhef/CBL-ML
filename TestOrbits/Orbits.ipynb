{
 "cells": [
  {
   "cell_type": "code",
   "execution_count": 67,
   "metadata": {},
   "outputs": [],
   "source": [
    "import numpy as np\n",
    "import scipy\n",
    "import matplotlib.pyplot as plt\n",
    "from astropy.io import fits\n",
    "from scipy import optimize"
   ]
  },
  {
   "cell_type": "code",
   "execution_count": 2,
   "metadata": {},
   "outputs": [],
   "source": [
    "import photutils\n",
    "from photutils import centroid_com, centroid_2dg"
   ]
  },
  {
   "cell_type": "code",
   "execution_count": 83,
   "metadata": {},
   "outputs": [],
   "source": [
    "def selectdata(array,position):\n",
    "    Data = []\n",
    "    for s in range(0,len(array)):\n",
    "        Data.append(array[s][position])\n",
    "    return Data"
   ]
  },
  {
   "cell_type": "code",
   "execution_count": 49,
   "metadata": {},
   "outputs": [],
   "source": [
    "def ChooseMoreMoons(DayObv):\n",
    "    if len(DayObv)!=0:\n",
    "        Counts = []\n",
    "        for h in range(0,len(DayObv)):\n",
    "            s = 0\n",
    "            if isinstance(DayObv[h],int): \n",
    "                s = 10\n",
    "            else:\n",
    "                for h1 in range(0,len(DayObv[h])):\n",
    "                    if isinstance(DayObv[h][h1],int): s+=1\n",
    "            Counts.append(s)\n",
    "        for i in range(0,len(Counts)):\n",
    "            if Counts[i] == min(Counts): return i"
   ]
  },
  {
   "cell_type": "code",
   "execution_count": 59,
   "metadata": {},
   "outputs": [],
   "source": [
    "def distance(r1,r2,width):\n",
    "    return (r2-r1)/width"
   ]
  },
  {
   "cell_type": "code",
   "execution_count": 47,
   "metadata": {},
   "outputs": [],
   "source": [
    "class moon:\n",
    "    def __init__(self,name,centroid,black,red,green,blue):\n",
    "        self.centroid = centroid\n",
    "        self.name = name\n",
    "        self.rgb = [(red/np.sqrt(red*red + green*green + blue*blue)),(green/np.sqrt(red*red + green*green + blue*blue)),(blue/np.sqrt(red*red + green*green + blue*blue))]\n",
    "        \n",
    "class planet:\n",
    "    def __init__(self,name,centroid,width):\n",
    "        self.centroid = centroid\n",
    "        self.name = name\n",
    "        self.width = width"
   ]
  },
  {
   "cell_type": "code",
   "execution_count": 5,
   "metadata": {},
   "outputs": [],
   "source": [
    "class OrbitTime:\n",
    "    def __init__(self,Day):\n",
    "        self.day = Day\n",
    "        self.planet = []\n",
    "        self.moon = []\n",
    "        \n",
    "    def addmoon(self,name,centroid,black,red,green,blue):\n",
    "        self.moon.append(moon(name,centroid,black,red,green,blue))\n",
    "        \n",
    "    def addplanet(self,name,centroid,width):\n",
    "        self.planet.append(planet(name,centroid,width))"
   ]
  },
  {
   "cell_type": "code",
   "execution_count": 6,
   "metadata": {},
   "outputs": [],
   "source": [
    "dir='C:/Users/tvfer/Documents/AstroLab/TestOrbits/Jupiter/'"
   ]
  },
  {
   "cell_type": "code",
   "execution_count": 7,
   "metadata": {},
   "outputs": [],
   "source": [
    "Blue22dir,Red22dir,Green22dir = dir+'22/jupiter_2019-10-22_18-56-17_Blue_0055.fits',dir+'22/jupiter_2019-10-22_18-53-24_Red_0035.fits', dir+'22/jupiter_2019-10-22_18-54-57_Green_0042.fits'"
   ]
  },
  {
   "cell_type": "code",
   "execution_count": 8,
   "metadata": {},
   "outputs": [],
   "source": [
    "Red23dir = dir+'23/jupiter_2019-10-23_19-14-42_Red_0114.fits'"
   ]
  },
  {
   "cell_type": "code",
   "execution_count": 9,
   "metadata": {},
   "outputs": [],
   "source": [
    "Black24dir,Blue24dir,Red24dir,Green24dir = dir+'24/jupiter_2019-10-24_18-23-22_black_0075.fits',dir+'24/jupiter_2019-10-24_18-27-28_Blue_0083.fits',dir+'24/jupiter_2019-10-24_18-32-06_Red_0109.fits',dir+'24/jupiter_2019-10-24_18-29-54_Green_0095.fits'"
   ]
  },
  {
   "cell_type": "code",
   "execution_count": 10,
   "metadata": {},
   "outputs": [],
   "source": [
    "Black251dir,Blue251dir,Red251dir,Green251dir= dir+'25/jupiter_2019-10-25_18-24-58_black_0082.fits',dir+'25/jupiter_2019-10-25_18-25-41_Blue_0088.fits',dir+'25/jupiter_2019-10-25_18-29-40_Red_0103.fits',dir+'25/jupiter_2019-10-25_18-28-40_Green_0096.fits'\n",
    "Black252dir,Blue252dir,Green252dir = dir+'25/jupiter_2019-10-25_19-26-54_black_0225.fits',dir+'25/jupiter_2019-10-25_19-27-22_Blue_0226.fits',dir+'25/jupiter_2019-10-25_19-34-01_Green_0242.fits'"
   ]
  },
  {
   "cell_type": "code",
   "execution_count": 11,
   "metadata": {},
   "outputs": [],
   "source": [
    "Blue22,Red22,Green22 = fits.open(Blue22dir),fits.open(Red22dir),fits.open(Green22dir)\n",
    "Red23 = fits.open(Red23dir)\n",
    "Black24,Blue24,Red24,Green24 = fits.open(Black24dir),fits.open(Blue24dir), fits.open(Red24dir),fits.open(Green24dir)\n",
    "Black251,Blue251,Red251,Green251 = fits.open(Black251dir),fits.open(Blue251dir),fits.open(Red251dir), fits.open(Green251dir)\n",
    "Black252,Blue252,Green252 = fits.open(Black252dir),fits.open(Blue252dir), fits.open(Green252dir)"
   ]
  },
  {
   "cell_type": "code",
   "execution_count": 12,
   "metadata": {},
   "outputs": [
    {
     "data": {
      "text/plain": [
       "(2458779.2890561, 2458782.31064054)"
      ]
     },
     "execution_count": 12,
     "metadata": {},
     "output_type": "execute_result"
    }
   ],
   "source": [
    "\n",
    "dictionaryDATA = [[-1,Red22,Blue22,Green22],[-1,Red23,-1,-1],[Black24,Red24,Green24,Blue24],[Black251,Red251,Green251,Blue251],[Black252,-1,Green252,Blue252]]\n",
    "Blue22[0].header['JD'],Blue252[0].header['JD']"
   ]
  },
  {
   "cell_type": "code",
   "execution_count": 21,
   "metadata": {},
   "outputs": [],
   "source": [
    "TestRed22Centroids = [['Jupiter',716,631],['Io',670,631],['Calisto',915,609],-1,-1]\n",
    "TestGreen22Centroids = [['Jupiter',718,632],['Io',671,637],['Calisto',915,617],-1,-1]\n",
    "TestBlue22Centroids = [['Jupiter',714,637],['Io',670,640],['Calisto',910,623],-1,-1]\n",
    "TestRed23Centroids = [['Jupiter',725,725],['Ganimedes',281,690],['Europa',412,715],['Calisto',580,682],-1]\n",
    "TestBlack24Centroids = [['Jupiter',898,554],['Ganimedes',406,524],['Calisto',444,492],['Io',996,567],['Europa',1017,577]]\n",
    "TestRed24Centroids = [['Jupiter',907,563],['Ganimedes',415,532],['Calisto',453,502],['Io',1010,576],['Europa',1031,584]]\n",
    "TestGreen24Centroids = [['Jupiter',898,588],['Ganimedes',405,560],['Calisto',444,527],['Io',1000,603],['Europa',1021,611]]\n",
    "TestBlue24Centroids = [['Jupiter',891,562],['Ganimedes',400,534],['Calisto',441,502],['Io',994,576],['Europa',1013,585]]\n",
    "TestBlack251Centroids = [['Jupiter',761,483],['Ganimedes',568,480],['Io',592,458],['Europa',1030,510],-1]\n",
    "TestRed251Centroids = [['Jupiter',767,498],['Ganimedes',578,496],['Io',604,475],['Europa',1037,522],-1]\n",
    "TestGreen251Centroids = [['Jupiter',764,497],['Ganimedes',575,495],['Io',603,472],['Europa',1035,522],['Calisto',69,388]]\n",
    "TestBlue251Centroids = [['Jupiter',762,489],['Ganimedes',571,487],['Io',602,466],['Europa',1037,519],-1]\n",
    "TestBlack252Centroids = [['Jupiter',686,586],['Ganimedes',512,580],['Io',505,556],['Europa',936,610],-1]\n",
    "TestBlue252Centroids = [['Jupiter',684,585],['Ganimedes',515,581],['Io',507,554],['Europa',939,605],-1]\n",
    "TestGreen252Centroids = [['Jupiter',770,418],['Ganimedes',590,391],['Io',600,418],['Europa',1024,439],['Calisto',72,307]]\n",
    "dictestC = [[-1,TestRed22Centroids,TestGreen22Centroids,TestBlue22Centroids],[-1,TestRed23Centroids,-1,-1],[TestBlack24Centroids,TestRed24Centroids,TestGreen24Centroids,TestBlue24Centroids],[TestBlack251Centroids,TestRed251Centroids,TestGreen251Centroids,TestBlue251Centroids],[TestBlack252Centroids,-1,TestGreen252Centroids,TestBlue252Centroids]]"
   ]
  },
  {
   "cell_type": "code",
   "execution_count": 39,
   "metadata": {},
   "outputs": [
    {
     "data": {
      "text/plain": [
       "1"
      ]
     },
     "execution_count": 39,
     "metadata": {},
     "output_type": "execute_result"
    }
   ],
   "source": [
    "Red22[0].data[716,631],(Red22[0].data[631-30:631+30,716-30:716+30])\n",
    "jh = 0\n",
    "jh+=1\n",
    "jh"
   ]
  },
  {
   "cell_type": "code",
   "execution_count": 20,
   "metadata": {},
   "outputs": [
    {
     "data": {
      "text/plain": [
       "690"
      ]
     },
     "execution_count": 20,
     "metadata": {},
     "output_type": "execute_result"
    }
   ],
   "source": [
    "T = [1,1]\n",
    "not isinstance(T,list)\n",
    "dictestC[1][1][1][2]"
   ]
  },
  {
   "cell_type": "code",
   "execution_count": 52,
   "metadata": {},
   "outputs": [],
   "source": [
    "ListofOrbitTimes = []\n",
    "\n",
    "for j in range(0,len(dictionaryDATA)):\n",
    "    dayinit = 0\n",
    "    Blackl= []\n",
    "    Redl= []\n",
    "    Greenl = []\n",
    "    Bluel = []\n",
    "    centroidOrbit = []\n",
    "    names = []\n",
    "    filterno = ChooseMoreMoons(dictestC[j])\n",
    "    for s in range(0,len(dictionaryDATA[j])):\n",
    "        centroids = []\n",
    "        namestemp = []\n",
    "        if dictionaryDATA[j][s] == -1:\n",
    "            if s == 0: Blackl = [-1,-1,-1,-1]\n",
    "            if s == 1: Redl = [-1,-1,-1,-1]\n",
    "            if s == 2: Greenl = [-1,-1,-1,-1]\n",
    "            if s == 3: Bluel = [-1,-1,-1,-1]\n",
    "        if dictionaryDATA[j][s]!=-1:\n",
    "            \n",
    "            if dayinit == 0:\n",
    "                ListofOrbitTimes.append(OrbitTime(dictionaryDATA[j][filterno][0].header['JD']-2458779))\n",
    "                centroidinit = 0\n",
    "                dayinit = 1\n",
    "            for s1 in range(0,5):\n",
    "                if dictestC[j][s][s1]==-1:\n",
    "                    centroids.append(-1)\n",
    "                    namestemp.append(-1)\n",
    "                if dictestC[j][s][s1]!=-1:\n",
    "                    subdata = dictionaryDATA[j][s][0].data[dictestC[j][s][s1][2]-30:dictestC[j][s][s1][2]+30,dictestC[j][s][s1][1]-30:dictestC[j][s][s1][1]+30]\n",
    "                    centroids.append(centroid_2dg(subdata) + [dictestC[j][s][s1][1],dictestC[j][s][s1][2]] - [30,30])\n",
    "                    namestemp.append(dictestC[j][s][s1][0])\n",
    "            if s == filterno:\n",
    "                centroidOrbit = centroids\n",
    "                names = namestemp\n",
    "            for s2 in range(0,5):\n",
    "                if s2 == 0 and s == filterno:\n",
    "                    ListofOrbitTimes[j].addplanet(names[s2],centroidOrbit[s2] if dictionaryDATA[j][s][0].data[dictestC[j][s][s2][2],dictestC[j][s][s2][1]] < 65535 else [dictestC[j][s][s2][1],dictestC[j][s][s2][2]],66)\n",
    "                    centroidinit = 1\n",
    "                if s2 != 0 and not isinstance(centroids[s2],int):\n",
    "                    if s == 0: Blackl.append(dictionaryDATA[j][s][0].data[int(centroids[s2][1]),int(centroids[s2][0])]/dictionaryDATA[j][s][0].header['EXPTIME'])\n",
    "                    if s == 1: Redl.append(dictionaryDATA[j][s][0].data[int(centroids[s2][1]),int(centroids[s2][0])]/dictionaryDATA[j][s][0].header['EXPTIME'])\n",
    "                    if s == 2: Greenl.append(dictionaryDATA[j][s][0].data[int(centroids[s2][1]),int(centroids[s2][0])]/dictionaryDATA[j][s][0].header['EXPTIME'])\n",
    "                    if s == 3: Bluel.append(dictionaryDATA[j][s][0].data[int(centroids[s2][1]),int(centroids[s2][0])]/dictionaryDATA[j][s][0].header['EXPTIME'])\n",
    "                if s2 != 0 and (isinstance(centroids[s2],int)):\n",
    "                    if s == 0: Blackl.append(-1)\n",
    "                    if s == 1: Redl.append(-1)\n",
    "                    if s == 2: Greenl.append(-1)\n",
    "                    if s == 3: Bluel.append(-1)\n",
    "    for g in range(1,len(centroidOrbit)):\n",
    "        if not isinstance(names[g],int):\n",
    "            ListofOrbitTimes[j].addmoon(names[g],centroidOrbit[g],Blackl[g-1],Redl[g-1], Greenl[g-1], Bluel[g-1]) "
   ]
  },
  {
   "cell_type": "code",
   "execution_count": 167,
   "metadata": {},
   "outputs": [
    {
     "data": {
      "text/plain": [
       "([0.9517879366870481, 0.2967979125389315, 0.0775288506914975],\n",
       " [0.9421582380862961, 0.32421747552244373, 0.08497577873711863],\n",
       " [0.9399496360324815, 0.2987521504414686, 0.1650510052347565],\n",
       " [0.9890683342727309, 0.1461408004448699, 0.019664602317312235])"
      ]
     },
     "execution_count": 167,
     "metadata": {},
     "output_type": "execute_result"
    }
   ],
   "source": [
    "ListofOrbitTimes[2].moon[0].rgb, ListofOrbitTimes[2].moon[1].rgb, ListofOrbitTimes[2].moon[2].rgb, ListofOrbitTimes[2].moon[3].rgb"
   ]
  },
  {
   "cell_type": "code",
   "execution_count": 168,
   "metadata": {},
   "outputs": [
    {
     "data": {
      "text/plain": [
       "([0.8047765408161456, 0.32296394428783887, 0.4980251098509396],\n",
       " [0.0972373289267898, 0.036068724652721824, 0.9946074346017676],\n",
       " [0.7733387693166658, 0.24674132016130992, 0.5840084492512405],\n",
       " [-0.5773502691896258, -0.5773502691896258, -0.5773502691896258])"
      ]
     },
     "execution_count": 168,
     "metadata": {},
     "output_type": "execute_result"
    }
   ],
   "source": [
    "ListofOrbitTimes[3].moon[0].rgb, ListofOrbitTimes[3].moon[1].rgb, ListofOrbitTimes[3].moon[2].rgb, ListofOrbitTimes[3].moon[3].rgb"
   ]
  },
  {
   "cell_type": "code",
   "execution_count": 169,
   "metadata": {},
   "outputs": [
    {
     "data": {
      "text/plain": [
       "([0.9999895741662015, -0.0032288975594646483, -0.0032288975594646483],\n",
       " [0.9999817220430867, -0.004275253193856719, -0.004275253193856719],\n",
       " [0.9999607437643281, -0.006265418194012081, -0.006265418194012081],\n",
       " [-0.5773502691896258, -0.5773502691896258, -0.5773502691896258])"
      ]
     },
     "execution_count": 169,
     "metadata": {},
     "output_type": "execute_result"
    }
   ],
   "source": [
    "ListofOrbitTimes[1].moon[0].rgb, ListofOrbitTimes[1].moon[1].rgb, ListofOrbitTimes[1].moon[2].rgb, ListofOrbitTimes[1].moon[3].rgb"
   ]
  },
  {
   "cell_type": "code",
   "execution_count": 53,
   "metadata": {},
   "outputs": [
    {
     "name": "stdout",
     "output_type": "stream",
     "text": [
      "[716, 631]\n",
      "[724.72077741 724.12794826]\n",
      "[898, 554]\n",
      "[764, 497]\n",
      "[770, 418]\n"
     ]
    }
   ],
   "source": [
    "for s in range(0,len(ListofOrbitTimes)):\n",
    "    print(ListofOrbitTimes[s].planet[0].centroid)"
   ]
  },
  {
   "cell_type": "code",
   "execution_count": 62,
   "metadata": {},
   "outputs": [],
   "source": [
    "ganidat = []\n",
    "calistdat = []\n",
    "iodat = []\n",
    "eurodat = []\n",
    "for s in range(0,len(ListofOrbitTimes)):\n",
    "    for s1 in range(0,len(ListofOrbitTimes[s].moon)):\n",
    "        if ListofOrbitTimes[s].moon[s1].name == 'Ganimedes': ganidat.append([ListofOrbitTimes[s].day,distance(ListofOrbitTimes[s].moon[s1].centroid,ListofOrbitTimes[s].planet[0].centroid,ListofOrbitTimes[s].planet[0].width)[0],distance(ListofOrbitTimes[s].moon[s1].centroid,ListofOrbitTimes[s].planet[0].centroid,ListofOrbitTimes[s].planet[0].width)[1]])\n",
    "        if ListofOrbitTimes[s].moon[s1].name == 'Calisto': calistdat.append([ListofOrbitTimes[s].day,distance(ListofOrbitTimes[s].moon[s1].centroid,ListofOrbitTimes[s].planet[0].centroid,ListofOrbitTimes[s].planet[0].width)[0],distance(ListofOrbitTimes[s].moon[s1].centroid,ListofOrbitTimes[s].planet[0].centroid,ListofOrbitTimes[s].planet[0].width)[1]])\n",
    "        if ListofOrbitTimes[s].moon[s1].name == 'Io': iodat.append([ListofOrbitTimes[s].day,distance(ListofOrbitTimes[s].moon[s1].centroid,ListofOrbitTimes[s].planet[0].centroid,ListofOrbitTimes[s].planet[0].width)[0],distance(ListofOrbitTimes[s].moon[s1].centroid,ListofOrbitTimes[s].planet[0].centroid,ListofOrbitTimes[s].planet[0].width)[1]])\n",
    "        if ListofOrbitTimes[s].moon[s1].name == 'Europa': eurodat.append([ListofOrbitTimes[s].day,distance(ListofOrbitTimes[s].moon[s1].centroid,ListofOrbitTimes[s].planet[0].centroid,ListofOrbitTimes[s].planet[0].width)[0],distance(ListofOrbitTimes[s].moon[s1].centroid,ListofOrbitTimes[s].planet[0].centroid,ListofOrbitTimes[s].planet[0].width)[1]])\n"
   ]
  },
  {
   "cell_type": "code",
   "execution_count": 63,
   "metadata": {},
   "outputs": [
    {
     "data": {
      "text/plain": [
       "[[1.30173770012334, 6.74666305009538, 0.4858189700013189],\n",
       " [2.2661990500055254, 7.45163088104327, 0.4598650462169534],\n",
       " [3.269851880148053, 2.856389809721167, 0.03082191372030338],\n",
       " [3.315214639995247, 2.4352076474972555, -0.21425612124103696]]"
      ]
     },
     "execution_count": 63,
     "metadata": {},
     "output_type": "execute_result"
    }
   ],
   "source": [
    "ganidat"
   ]
  },
  {
   "cell_type": "code",
   "execution_count": 64,
   "metadata": {},
   "outputs": [
    {
     "data": {
      "text/plain": [
       "[[0.28705404978245497, -2.992106615117231, 0.29196263709475156],\n",
       " [1.30173770012334, 2.227519282278951, 0.6088160260476325],\n",
       " [2.2661990500055254, 6.867953489808129, 0.962051346188599],\n",
       " [3.269851880148053, 10.590447278612467, 1.6369377699282424],\n",
       " [3.315214639995247, 10.592591462266162, 1.7641671989358276]]"
      ]
     },
     "execution_count": 64,
     "metadata": {},
     "output_type": "execute_result"
    }
   ],
   "source": [
    "calistdat"
   ]
  },
  {
   "cell_type": "code",
   "execution_count": 65,
   "metadata": {},
   "outputs": [
    {
     "data": {
      "text/plain": [
       "[[0.28705404978245497, 0.26399785296004985, 0.0658843046403645],\n",
       " [2.2661990500055254, -1.4751319228941102, -0.1763096355847369],\n",
       " [3.269851880148053, 4.499924776154132, -1.4270766264675723],\n",
       " [3.315214639995247, 2.5386067387942752, 0.058327117564710367]]"
      ]
     },
     "execution_count": 65,
     "metadata": {},
     "output_type": "execute_result"
    }
   ],
   "source": [
    "iodat"
   ]
  },
  {
   "cell_type": "code",
   "execution_count": 95,
   "metadata": {},
   "outputs": [
    {
     "data": {
      "text/plain": [
       "[[1.30173770012334, 4.7365127934404665, 0.12735483338735948],\n",
       " [2.2661990500055254, -1.5083533861960736, -0.19527033109167144],\n",
       " [3.269851880148053, -4.082886879051633, -0.39251574793807764],\n",
       " [3.315214639995247, -3.865373758633909, -0.29975160649584004]]"
      ]
     },
     "execution_count": 95,
     "metadata": {},
     "output_type": "execute_result"
    }
   ],
   "source": [
    "eurodat"
   ]
  },
  {
   "cell_type": "code",
   "execution_count": 103,
   "metadata": {},
   "outputs": [],
   "source": [
    "fitfunc = lambda p, t: p[0]*np.cos(2*np.pi/p[1]*t + p[2])# Target function\n",
    "errfunc = lambda p, t, y: fitfunc(p, t) - y # Distance to the target function\n",
    "p0ganix = [7, 7, 0.] # Initial guess for the parameters\n",
    "p0ganiy = [0.5, 7, 0.]\n",
    "p0calistx = [10, 16, 0.]\n",
    "p0calisty = [2, 16, 0.]\n",
    "p0iox = [4, 1.7, 0.]\n",
    "p0ioy = [2,1.7,0.]\n",
    "p0eurox = [5, 3.55, 0.]\n",
    "p0euroy = [0.4, 3.55, 0.]\n",
    "\n",
    "p1ganix, successganix = optimize.leastsq(errfunc, p0ganix[:], args=(np.asarray(selectdata(ganidat,0), dtype=np.float64), np.asarray(selectdata(ganidat,1), dtype=np.float64)))\n",
    "p1ganiy, successganiy = optimize.leastsq(errfunc, p0ganiy[:], args=(np.asarray(selectdata(ganidat,0), dtype=np.float64), np.asarray(selectdata(ganidat,2), dtype=np.float64)))\n",
    "\n",
    "p1calistx, successcalistx = optimize.leastsq(errfunc, p0calistx[:], args=(np.asarray(selectdata(calistdat,0), dtype=np.float64), np.asarray(selectdata(calistdat,1), dtype=np.float64)))\n",
    "p1calisty, successcalisty = optimize.leastsq(errfunc, p0calisty[:], args=(np.asarray(selectdata(calistdat,0), dtype=np.float64), np.asarray(selectdata(calistdat,2), dtype=np.float64)))\n",
    "\n",
    "p1iox, successiox = optimize.leastsq(errfunc, p0iox[:], args=(np.asarray(selectdata(iodat,0), dtype=np.float64), np.asarray(selectdata(iodat,1), dtype=np.float64)))\n",
    "p1ioy, successioy = optimize.leastsq(errfunc, p0ioy[:], args=(np.asarray(selectdata(iodat,0), dtype=np.float64), np.asarray(selectdata(iodat,2), dtype=np.float64)))\n",
    "\n",
    "p1geurox, successeurox = optimize.leastsq(errfunc, p0eurox[:], args=(np.asarray(selectdata(eurodat,0), dtype=np.float64), np.asarray(selectdata(eurodat,1), dtype=np.float64)))\n",
    "p1geuroy, successeuroy = optimize.leastsq(errfunc, p0euroy[:], args=(np.asarray(selectdata(eurodat,0), dtype=np.float64), np.asarray(selectdata(eurodat,2), dtype=np.float64)))"
   ]
  },
  {
   "cell_type": "code",
   "execution_count": 104,
   "metadata": {},
   "outputs": [
    {
     "data": {
      "text/plain": [
       "(array([ 7.84923858,  7.0915995 , -1.6900779 ]),\n",
       " array([ 0.55702531,  5.54908126, -1.98877699]))"
      ]
     },
     "execution_count": 104,
     "metadata": {},
     "output_type": "execute_result"
    }
   ],
   "source": [
    "p1ganix,p1ganiy"
   ]
  },
  {
   "cell_type": "code",
   "execution_count": 105,
   "metadata": {},
   "outputs": [
    {
     "data": {
      "text/plain": [
       "(array([12.5588966 , 15.17595769, -1.93064587]),\n",
       " array([ 5.82683684e+02,  7.61718551e+03, -1.57071187e+00]))"
      ]
     },
     "execution_count": 105,
     "metadata": {},
     "output_type": "execute_result"
    }
   ],
   "source": [
    "p1calistx,p1calisty"
   ]
  },
  {
   "cell_type": "code",
   "execution_count": 106,
   "metadata": {},
   "outputs": [
    {
     "data": {
      "text/plain": [
       "(array([3.48582972, 1.75583385, 0.41570132]),\n",
       " array([ 0.76605956,  1.28008689, -0.04125767]))"
      ]
     },
     "execution_count": 106,
     "metadata": {},
     "output_type": "execute_result"
    }
   ],
   "source": [
    "p1iox,p1ioy"
   ]
  },
  {
   "cell_type": "code",
   "execution_count": 102,
   "metadata": {},
   "outputs": [
    {
     "data": {
      "text/plain": [
       "(array([ 4.79621489,  3.49740305, -2.18057996]),\n",
       " array([ 0.34652985,  6.06807884, -0.16047318]))"
      ]
     },
     "execution_count": 102,
     "metadata": {},
     "output_type": "execute_result"
    }
   ],
   "source": [
    "p1geurox,p1geuroy"
   ]
  },
  {
   "cell_type": "code",
   "execution_count": 124,
   "metadata": {},
   "outputs": [
    {
     "data": {
      "text/plain": [
       "487.2536321820674"
      ]
     },
     "execution_count": 124,
     "metadata": {},
     "output_type": "execute_result"
    }
   ],
   "source": [
    "Djupiter = 71492e+03\n",
    "G = 6.674e-11\n",
    "alpha = np.power(Djupiter,3)*4*np.pi*np.pi/(G*(60*60*24)*(60*60*24))\n",
    "alpha\n",
    "np.power(p1ganix[0]*p1ganix[0] + p1ganiy[0]*p1ganiy[0],3/2)"
   ]
  },
  {
   "cell_type": "code",
   "execution_count": 125,
   "metadata": {},
   "outputs": [],
   "source": [
    "M = [alpha*np.power(p1ganix[0]*p1ganix[0] + p1ganiy[0]*p1ganiy[0],3/2)/(p1ganix[1]),alpha*np.power(p1calistx[0]*p1calistx[0],3/2)/(p1calistx[1]),alpha*np.power(p1iox[0]*p1iox[0] + p1ioy[0]*p1ioy[0],3/2)/(p1iox[1]),alpha*np.power(p1geurox[0]*p1geurox[0] + p1geuroy[0]*p1geuroy[0],3/2)/(p1geurox[1])]"
   ]
  },
  {
   "cell_type": "code",
   "execution_count": 126,
   "metadata": {},
   "outputs": [
    {
     "data": {
      "text/plain": [
       "[1.98943280152367e+27,\n",
       " 3.7793467247917327e+27,\n",
       " 7.496861360095206e+26,\n",
       " 9.236823998032709e+26]"
      ]
     },
     "execution_count": 126,
     "metadata": {},
     "output_type": "execute_result"
    }
   ],
   "source": [
    "M"
   ]
  },
  {
   "cell_type": "code",
   "execution_count": 123,
   "metadata": {},
   "outputs": [],
   "source": [
    "MJup = 1.8982e+27"
   ]
  },
  {
   "cell_type": "code",
   "execution_count": null,
   "metadata": {},
   "outputs": [],
   "source": []
  }
 ],
 "metadata": {
  "kernelspec": {
   "display_name": "Python 3",
   "language": "python",
   "name": "python3"
  },
  "language_info": {
   "codemirror_mode": {
    "name": "ipython",
    "version": 3
   },
   "file_extension": ".py",
   "mimetype": "text/x-python",
   "name": "python",
   "nbconvert_exporter": "python",
   "pygments_lexer": "ipython3",
   "version": "3.7.4"
  }
 },
 "nbformat": 4,
 "nbformat_minor": 2
}
