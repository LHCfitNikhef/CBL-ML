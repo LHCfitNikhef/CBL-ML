{
 "cells": [
  {
   "cell_type": "code",
   "execution_count": 50,
   "metadata": {},
   "outputs": [],
   "source": [
    "import numpy as np\n",
    "import scipy\n",
    "import matplotlib.pyplot as plt\n",
    "from astropy.io import fits\n",
    "from scipy import optimize\n",
    "import plotly.graph_objects as go\n",
    "import plotly.express as px"
   ]
  },
  {
   "cell_type": "code",
   "execution_count": 45,
   "metadata": {},
   "outputs": [],
   "source": [
    "import photutils\n",
    "from photutils import centroid_com, centroid_2dg"
   ]
  },
  {
   "cell_type": "code",
   "execution_count": 4,
   "metadata": {},
   "outputs": [],
   "source": [
    "def selectdata(array,position):\n",
    "    Data = []\n",
    "    for s in range(0,len(array)):\n",
    "        Data.append(array[s][position])\n",
    "    return Data"
   ]
  },
  {
   "cell_type": "code",
   "execution_count": 5,
   "metadata": {},
   "outputs": [],
   "source": [
    "def ChooseMoreMoons(DayObv):\n",
    "    if len(DayObv)!=0:\n",
    "        Counts = []\n",
    "        for h in range(0,len(DayObv)):\n",
    "            s = 0\n",
    "            if isinstance(DayObv[h],int): \n",
    "                s = 10\n",
    "            else:\n",
    "                for h1 in range(0,len(DayObv[h])):\n",
    "                    if isinstance(DayObv[h][h1],int): s+=1\n",
    "            Counts.append(s)\n",
    "        for i in range(0,len(Counts)):\n",
    "            if Counts[i] == min(Counts): return i"
   ]
  },
  {
   "cell_type": "code",
   "execution_count": 6,
   "metadata": {},
   "outputs": [],
   "source": [
    "def distance(r1,r2,width):\n",
    "    return (r2-r1)/width"
   ]
  },
  {
   "cell_type": "code",
   "execution_count": 7,
   "metadata": {},
   "outputs": [],
   "source": [
    "class moon:\n",
    "    def __init__(self,name,centroid,black,red,green,blue):\n",
    "        self.centroid = centroid\n",
    "        self.name = name\n",
    "        self.rgb = [(red/np.sqrt(red*red + green*green + blue*blue)),(green/np.sqrt(red*red + green*green + blue*blue)),(blue/np.sqrt(red*red + green*green + blue*blue))]\n",
    "        \n",
    "class planet:\n",
    "    def __init__(self,name,centroid,width):\n",
    "        self.centroid = centroid\n",
    "        self.name = name\n",
    "        self.width = width"
   ]
  },
  {
   "cell_type": "code",
   "execution_count": 8,
   "metadata": {},
   "outputs": [],
   "source": [
    "class OrbitTime:\n",
    "    def __init__(self,Day):\n",
    "        self.day = Day\n",
    "        self.planet = []\n",
    "        self.moon = []\n",
    "        \n",
    "    def addmoon(self,name,centroid,black,red,green,blue):\n",
    "        self.moon.append(moon(name,centroid,black,red,green,blue))\n",
    "        \n",
    "    def addplanet(self,name,centroid,width):\n",
    "        self.planet.append(planet(name,centroid,width))"
   ]
  },
  {
   "cell_type": "code",
   "execution_count": 9,
   "metadata": {},
   "outputs": [],
   "source": [
    "dir='C:/Users/tvfer/Documents/AstroLab/TestOrbits/Jupiter/'"
   ]
  },
  {
   "cell_type": "code",
   "execution_count": 10,
   "metadata": {},
   "outputs": [],
   "source": [
    "Blue22dir,Red22dir,Green22dir = dir+'22/jupiter_2019-10-22_18-56-17_Blue_0055.fits',dir+'22/jupiter_2019-10-22_18-53-24_Red_0035.fits', dir+'22/jupiter_2019-10-22_18-54-57_Green_0042.fits'"
   ]
  },
  {
   "cell_type": "code",
   "execution_count": 11,
   "metadata": {},
   "outputs": [],
   "source": [
    "Red23dir = dir+'23/jupiter_2019-10-23_19-14-42_Red_0114.fits'"
   ]
  },
  {
   "cell_type": "code",
   "execution_count": 12,
   "metadata": {},
   "outputs": [],
   "source": [
    "Black24dir,Blue24dir,Red24dir,Green24dir = dir+'24/jupiter_2019-10-24_18-23-22_black_0075.fits',dir+'24/jupiter_2019-10-24_18-27-28_Blue_0083.fits',dir+'24/jupiter_2019-10-24_18-32-06_Red_0109.fits',dir+'24/jupiter_2019-10-24_18-29-54_Green_0095.fits'"
   ]
  },
  {
   "cell_type": "code",
   "execution_count": 13,
   "metadata": {},
   "outputs": [],
   "source": [
    "Black251dir,Blue251dir,Red251dir,Green251dir= dir+'25/jupiter_2019-10-25_18-24-58_black_0082.fits',dir+'25/jupiter_2019-10-25_18-25-41_Blue_0088.fits',dir+'25/jupiter_2019-10-25_18-29-40_Red_0103.fits',dir+'25/jupiter_2019-10-25_18-28-40_Green_0096.fits'\n",
    "Black252dir,Blue252dir,Green252dir = dir+'25/jupiter_2019-10-25_19-26-54_black_0225.fits',dir+'25/jupiter_2019-10-25_19-27-22_Blue_0226.fits',dir+'25/jupiter_2019-10-25_19-34-01_Green_0242.fits'"
   ]
  },
  {
   "cell_type": "code",
   "execution_count": 14,
   "metadata": {},
   "outputs": [],
   "source": [
    "Blue22,Red22,Green22 = fits.open(Blue22dir),fits.open(Red22dir),fits.open(Green22dir)\n",
    "Red23 = fits.open(Red23dir)\n",
    "Black24,Blue24,Red24,Green24 = fits.open(Black24dir),fits.open(Blue24dir), fits.open(Red24dir),fits.open(Green24dir)\n",
    "Black251,Blue251,Red251,Green251 = fits.open(Black251dir),fits.open(Blue251dir),fits.open(Red251dir), fits.open(Green251dir)\n",
    "Black252,Blue252,Green252 = fits.open(Black252dir),fits.open(Blue252dir), fits.open(Green252dir)"
   ]
  },
  {
   "cell_type": "code",
   "execution_count": 15,
   "metadata": {},
   "outputs": [
    {
     "data": {
      "text/plain": [
       "(2458779.2890561, 2458782.31064054)"
      ]
     },
     "execution_count": 15,
     "metadata": {},
     "output_type": "execute_result"
    }
   ],
   "source": [
    "\n",
    "dictionaryDATA = [[-1,Red22,Blue22,Green22],[-1,Red23,-1,-1],[Black24,Red24,Green24,Blue24],[Black251,Red251,Green251,Blue251],[Black252,-1,Green252,Blue252]]\n",
    "Blue22[0].header['JD'],Blue252[0].header['JD']"
   ]
  },
  {
   "cell_type": "code",
   "execution_count": 16,
   "metadata": {},
   "outputs": [],
   "source": [
    "TestRed22Centroids = [['Jupiter',716,631],['Io',670,631],['Calisto',915,609],-1,-1]\n",
    "TestGreen22Centroids = [['Jupiter',718,632],['Io',671,637],['Calisto',915,617],-1,-1]\n",
    "TestBlue22Centroids = [['Jupiter',714,637],['Io',670,640],['Calisto',910,623],-1,-1]\n",
    "TestRed23Centroids = [['Jupiter',725,725],['Ganimedes',281,690],['Europa',412,715],['Calisto',580,682],-1]\n",
    "TestBlack24Centroids = [['Jupiter',898,554],['Ganimedes',406,524],['Calisto',444,492],['Io',996,567],['Europa',1017,577]]\n",
    "TestRed24Centroids = [['Jupiter',907,563],['Ganimedes',415,532],['Calisto',453,502],['Io',1010,576],['Europa',1031,584]]\n",
    "TestGreen24Centroids = [['Jupiter',898,588],['Ganimedes',405,560],['Calisto',444,527],['Io',1000,603],['Europa',1021,611]]\n",
    "TestBlue24Centroids = [['Jupiter',891,562],['Ganimedes',400,534],['Calisto',441,502],['Io',994,576],['Europa',1013,585]]\n",
    "TestBlack251Centroids = [['Jupiter',761,483],['Ganimedes',568,480],['Io',592,458],['Europa',1030,510],-1]\n",
    "TestRed251Centroids = [['Jupiter',767,498],['Ganimedes',578,496],['Io',604,475],['Europa',1037,522],-1]\n",
    "TestGreen251Centroids = [['Jupiter',764,497],['Ganimedes',575,495],['Io',603,472],['Europa',1035,522],['Calisto',69,388]]\n",
    "TestBlue251Centroids = [['Jupiter',762,489],['Ganimedes',571,487],['Io',602,466],['Europa',1037,519],-1]\n",
    "TestBlack252Centroids = [['Jupiter',686,586],['Ganimedes',512,580],['Io',505,556],['Europa',936,610],-1]\n",
    "TestBlue252Centroids = [['Jupiter',684,585],['Ganimedes',515,581],['Io',507,554],['Europa',939,605],-1]\n",
    "TestGreen252Centroids = [['Jupiter',770,418],['Ganimedes',590,391],['Io',600,418],['Europa',1024,439],['Calisto',72,307]]\n",
    "dictestC = [[-1,TestRed22Centroids,TestGreen22Centroids,TestBlue22Centroids],[-1,TestRed23Centroids,-1,-1],[TestBlack24Centroids,TestRed24Centroids,TestGreen24Centroids,TestBlue24Centroids],[TestBlack251Centroids,TestRed251Centroids,TestGreen251Centroids,TestBlue251Centroids],[TestBlack252Centroids,-1,TestGreen252Centroids,TestBlue252Centroids]]"
   ]
  },
  {
   "cell_type": "code",
   "execution_count": 17,
   "metadata": {},
   "outputs": [
    {
     "data": {
      "text/plain": [
       "1"
      ]
     },
     "execution_count": 17,
     "metadata": {},
     "output_type": "execute_result"
    }
   ],
   "source": [
    "Red22[0].data[716,631],(Red22[0].data[631-30:631+30,716-30:716+30])\n",
    "jh = 0\n",
    "jh+=1\n",
    "jh"
   ]
  },
  {
   "cell_type": "code",
   "execution_count": 18,
   "metadata": {},
   "outputs": [
    {
     "data": {
      "text/plain": [
       "690"
      ]
     },
     "execution_count": 18,
     "metadata": {},
     "output_type": "execute_result"
    }
   ],
   "source": [
    "T = [1,1]\n",
    "not isinstance(T,list)\n",
    "dictestC[1][1][1][2]"
   ]
  },
  {
   "cell_type": "code",
   "execution_count": 131,
   "metadata": {},
   "outputs": [
    {
     "name": "stderr",
     "output_type": "stream",
     "text": [
      "C:\\Users\\tvfer\\Anaconda3\\lib\\site-packages\\ipykernel_launcher.py:44: RuntimeWarning:\n",
      "\n",
      "overflow encountered in ushort_scalars\n",
      "\n"
     ]
    }
   ],
   "source": [
    "ListofOrbitTimes = []\n",
    "\n",
    "for j in range(0,len(dictionaryDATA)):\n",
    "    dayinit = 0\n",
    "    Blackl= []\n",
    "    Redl= []\n",
    "    Greenl = []\n",
    "    Bluel = []\n",
    "    centroidOrbit = []\n",
    "    names = []\n",
    "    filterno = ChooseMoreMoons(dictestC[j])\n",
    "    for s in range(0,len(dictionaryDATA[j])):\n",
    "        centroids = []\n",
    "        namestemp = []\n",
    "        if dictionaryDATA[j][s] == -1:\n",
    "            if s == 0: Blackl = [-1,-1,-1,-1]\n",
    "            if s == 1: Redl = [-1,-1,-1,-1]\n",
    "            if s == 2: Greenl = [-1,-1,-1,-1]\n",
    "            if s == 3: Bluel = [-1,-1,-1,-1]\n",
    "        if dictionaryDATA[j][s]!=-1:\n",
    "            \n",
    "            if dayinit == 0:\n",
    "                ListofOrbitTimes.append(OrbitTime(dictionaryDATA[j][filterno][0].header['JD']-2458779))\n",
    "                centroidinit = 0\n",
    "                dayinit = 1\n",
    "            for s1 in range(0,5):\n",
    "                if dictestC[j][s][s1]==-1:\n",
    "                    centroids.append(-1)\n",
    "                    namestemp.append(-1)\n",
    "                if dictestC[j][s][s1]!=-1:\n",
    "                    subdata = dictionaryDATA[j][s][0].data[dictestC[j][s][s1][2]-10:dictestC[j][s][s1][2]+10,dictestC[j][s][s1][1]-10:dictestC[j][s][s1][1]+10]\n",
    "                    centroids.append(centroid_2dg(subdata) + [dictestC[j][s][s1][1],dictestC[j][s][s1][2]] - [10,10])\n",
    "                    namestemp.append(dictestC[j][s][s1][0])\n",
    "            if s == filterno:\n",
    "                centroidOrbit = centroids\n",
    "                names = namestemp\n",
    "            for s2 in range(0,5):\n",
    "                if s2 == 0 and s == filterno:\n",
    "                    ListofOrbitTimes[j].addplanet(names[s2],centroidOrbit[s2] if dictionaryDATA[j][s][0].data[dictestC[j][s][s2][2],dictestC[j][s][s2][1]] < 65535 else [dictestC[j][s][s2][1],dictestC[j][s][s2][2]],66)\n",
    "                    centroidinit = 1\n",
    "                if s2 != 0 and not isinstance(centroids[s2],int):\n",
    "                    if s == 0: Blackl.append((dictionaryDATA[j][s][0].data[int(centroids[s2][1]),int(centroids[s2][0])]-dictionaryDATA[j][s][0].data[10,10])/dictionaryDATA[j][s][0].header['EXPTIME'])\n",
    "                    if s == 1: Redl.append((dictionaryDATA[j][s][0].data[int(centroids[s2][1]),int(centroids[s2][0])]-dictionaryDATA[j][s][0].data[10,10])/dictionaryDATA[j][s][0].header['EXPTIME'])\n",
    "                    if s == 2: Greenl.append((dictionaryDATA[j][s][0].data[int(centroids[s2][1]),int(centroids[s2][0])]-dictionaryDATA[j][s][0].data[10,10])/dictionaryDATA[j][s][0].header['EXPTIME'])\n",
    "                    if s == 3: Bluel.append((dictionaryDATA[j][s][0].data[int(centroids[s2][1]),int(centroids[s2][0])]-dictionaryDATA[j][s][0].data[10,10])/dictionaryDATA[j][s][0].header['EXPTIME'])\n",
    "                if s2 != 0 and (isinstance(centroids[s2],int)):\n",
    "                    if s == 0: Blackl.append(-1)\n",
    "                    if s == 1: Redl.append(-1)\n",
    "                    if s == 2: Greenl.append(-1)\n",
    "                    if s == 3: Bluel.append(-1)\n",
    "    for g in range(1,len(centroidOrbit)):\n",
    "        if not isinstance(names[g],int):\n",
    "            ListofOrbitTimes[j].addmoon(names[g],centroidOrbit[g],Blackl[g-1],Redl[g-1], Greenl[g-1], Bluel[g-1]) "
   ]
  },
  {
   "cell_type": "code",
   "execution_count": 24,
   "metadata": {},
   "outputs": [
    {
     "data": {
      "text/plain": [
       "([0.9550744842797942, 0.2879472699169431, 0.07013629035716243],\n",
       " [0.9515856940049027, 0.3009165326702296, 0.06272086838472567],\n",
       " [0.9719975087518797, 0.19358724756478943, 0.13320968643619077],\n",
       " [0.9923724901692692, 0.12314363984601212, 0.005699536886404418])"
      ]
     },
     "execution_count": 24,
     "metadata": {},
     "output_type": "execute_result"
    }
   ],
   "source": [
    "ListofOrbitTimes[2].moon[0].rgb, ListofOrbitTimes[2].moon[1].rgb, ListofOrbitTimes[2].moon[2].rgb, ListofOrbitTimes[2].moon[3].rgb"
   ]
  },
  {
   "cell_type": "code",
   "execution_count": 25,
   "metadata": {},
   "outputs": [
    {
     "data": {
      "text/plain": [
       "([0.921404706468336, 0.3717623096046203, 0.1131642702244742],\n",
       " [0.02173267777795916, 0.011011223407499307, 0.9997031777861215],\n",
       " [0.947834723596181, 0.2989236388117388, 0.11069776377551781],\n",
       " [-0.0008090609590777915, 0.9999993454201502, -0.0008090609590777915])"
      ]
     },
     "execution_count": 25,
     "metadata": {},
     "output_type": "execute_result"
    }
   ],
   "source": [
    "ListofOrbitTimes[3].moon[0].rgb, ListofOrbitTimes[3].moon[1].rgb, ListofOrbitTimes[3].moon[2].rgb, ListofOrbitTimes[3].moon[3].rgb"
   ]
  },
  {
   "cell_type": "code",
   "execution_count": 27,
   "metadata": {},
   "outputs": [
    {
     "data": {
      "text/plain": [
       "([0.9999737832752457, -0.0051201934627508735, -0.0051201934627508735],\n",
       " [0.9999299805695223, -0.008367614900163366, -0.008367614900163366],\n",
       " [0.9995108923964211, -0.022113072840628783, -0.022113072840628783])"
      ]
     },
     "execution_count": 27,
     "metadata": {},
     "output_type": "execute_result"
    }
   ],
   "source": [
    "ListofOrbitTimes[1].moon[0].rgb, ListofOrbitTimes[1].moon[1].rgb, ListofOrbitTimes[1].moon[2].rgb"
   ]
  },
  {
   "cell_type": "code",
   "execution_count": 28,
   "metadata": {},
   "outputs": [
    {
     "name": "stdout",
     "output_type": "stream",
     "text": [
      "[716, 631]\n",
      "[724.72077741 724.12794826]\n",
      "[898, 554]\n",
      "[764, 497]\n",
      "[770, 418]\n"
     ]
    }
   ],
   "source": [
    "for s in range(0,len(ListofOrbitTimes)):\n",
    "    print(ListofOrbitTimes[s].planet[0].centroid)"
   ]
  },
  {
   "cell_type": "code",
   "execution_count": 132,
   "metadata": {},
   "outputs": [],
   "source": [
    "ganidat = []\n",
    "calistdat = []\n",
    "iodat = []\n",
    "eurodat = []\n",
    "for s in range(0,len(ListofOrbitTimes)):\n",
    "    for s1 in range(0,len(ListofOrbitTimes[s].moon)):\n",
    "        if ListofOrbitTimes[s].moon[s1].name == 'Ganimedes': ganidat.append([ListofOrbitTimes[s].day,distance(ListofOrbitTimes[s].moon[s1].centroid,ListofOrbitTimes[s].planet[0].centroid,ListofOrbitTimes[s].planet[0].width)[0],distance(ListofOrbitTimes[s].moon[s1].centroid,ListofOrbitTimes[s].planet[0].centroid,ListofOrbitTimes[s].planet[0].width)[1]])\n",
    "        if ListofOrbitTimes[s].moon[s1].name == 'Calisto': calistdat.append([ListofOrbitTimes[s].day,distance(ListofOrbitTimes[s].moon[s1].centroid,ListofOrbitTimes[s].planet[0].centroid,ListofOrbitTimes[s].planet[0].width)[0],distance(ListofOrbitTimes[s].moon[s1].centroid,ListofOrbitTimes[s].planet[0].centroid,ListofOrbitTimes[s].planet[0].width)[1]])\n",
    "        if ListofOrbitTimes[s].moon[s1].name == 'Io': iodat.append([ListofOrbitTimes[s].day,distance(ListofOrbitTimes[s].moon[s1].centroid,ListofOrbitTimes[s].planet[0].centroid,ListofOrbitTimes[s].planet[0].width)[0],distance(ListofOrbitTimes[s].moon[s1].centroid,ListofOrbitTimes[s].planet[0].centroid,ListofOrbitTimes[s].planet[0].width)[1]])\n",
    "        if ListofOrbitTimes[s].moon[s1].name == 'Europa': eurodat.append([ListofOrbitTimes[s].day,distance(ListofOrbitTimes[s].moon[s1].centroid,ListofOrbitTimes[s].planet[0].centroid,ListofOrbitTimes[s].planet[0].width)[0],distance(ListofOrbitTimes[s].moon[s1].centroid,ListofOrbitTimes[s].planet[0].centroid,ListofOrbitTimes[s].planet[0].width)[1]])\n"
   ]
  },
  {
   "cell_type": "code",
   "execution_count": 255,
   "metadata": {},
   "outputs": [
    {
     "data": {
      "text/plain": [
       "[[1.30173770012334, 6.763124520022277, 0.453089406018638],\n",
       " [2.2661990500055254, 7.451086328023904, 0.4601305122319197],\n",
       " [3.269851880148053, 2.8555042865520823, 0.031071171540808316],\n",
       " [3.315214639995247, 2.6791594188914365, 0.45394733468599857]]"
      ]
     },
     "execution_count": 255,
     "metadata": {},
     "output_type": "execute_result"
    }
   ],
   "source": [
    "ganidat"
   ]
  },
  {
   "cell_type": "code",
   "execution_count": 256,
   "metadata": {},
   "outputs": [
    {
     "data": {
      "text/plain": [
       "[[0.28705404978245497, -2.992241370183759, 0.2921679177602493],\n",
       " [1.30173770012334, 2.2446202243990725, 0.5757951449764305],\n",
       " [2.2661990500055254, 6.867652706918825, 0.9624961276386719],\n",
       " [3.269851880148053, 10.586245687233989, 1.6386617099680079],\n",
       " [3.315214639995247, 10.579822424333448, 1.7725021867124664]]"
      ]
     },
     "execution_count": 256,
     "metadata": {},
     "output_type": "execute_result"
    }
   ],
   "source": [
    "calistdat"
   ]
  },
  {
   "cell_type": "code",
   "execution_count": 257,
   "metadata": {},
   "outputs": [
    {
     "data": {
      "text/plain": [
       "[[0.28705404978245497, -0.19269239112486847, 0.12687492372046535],\n",
       " [2.2661990500055254, -1.4751151714330673, -0.1763254632450002],\n",
       " [3.269851880148053, 2.4752683038999246, 0.3652063300990123],\n",
       " [3.315214639995247, 2.5203794733504705, 0.06405986614675618]]"
      ]
     },
     "execution_count": 257,
     "metadata": {},
     "output_type": "execute_result"
    }
   ],
   "source": [
    "iodat"
   ]
  },
  {
   "cell_type": "code",
   "execution_count": 258,
   "metadata": {},
   "outputs": [
    {
     "data": {
      "text/plain": [
       "[[1.30173770012334, 4.7531103734446365, 0.09426215811150356],\n",
       " [2.2661990500055254, -1.784004474800206, -0.29523202621384936],\n",
       " [3.269851880148053, -4.083418285821129, -0.3920135921782799],\n",
       " [3.315214639995247, -3.8756075624468993, -0.28896269908188266]]"
      ]
     },
     "execution_count": 258,
     "metadata": {},
     "output_type": "execute_result"
    }
   ],
   "source": [
    "eurodat"
   ]
  },
  {
   "cell_type": "code",
   "execution_count": 259,
   "metadata": {},
   "outputs": [],
   "source": [
    "fitfunc = lambda p, t: p[0]*np.cos(2*np.pi*t/p[1] + p[2])# Target function\n",
    "errfunc = lambda p, t, y: (fitfunc(p, t) - y) # Distance to the target function\n",
    "p0ganix = [8, 7, 1] # Initial guess for the parameters\n",
    "p0ganiy = [0.5, 7, 0]\n",
    "p0calistx = [10, 16, 0]\n",
    "p0calisty = [2, 5, 0]\n",
    "p0iox = [4, 1.7, 0]\n",
    "p0ioy = [2,1.7,0.]\n",
    "p0eurox = [5, 3.55, 3]\n",
    "p0euroy = [0.4, 3.55, 0]\n",
    "\n",
    "p1ganix, successganix = optimize.leastsq(errfunc, p0ganix[:], args=(np.asarray(selectdata(ganidat,0), dtype=np.float64), np.asarray(selectdata(ganidat,1), dtype=np.float64)))\n",
    "p1ganiy, successganiy = optimize.leastsq(errfunc, p0ganiy[:], args=(np.asarray(selectdata(ganidat,0), dtype=np.float64), np.asarray(selectdata(ganidat,2), dtype=np.float64)))\n",
    "\n",
    "p1calistx, successcalistx = optimize.leastsq(errfunc, p0calistx[:], args=(np.asarray(selectdata(calistdat,0), dtype=np.float64), np.asarray(selectdata(calistdat,1), dtype=np.float64)))\n",
    "p1calisty, successcalisty = optimize.leastsq(errfunc, p0calisty[:], args=(np.asarray(selectdata(calistdat,0), dtype=np.float64), np.asarray(selectdata(calistdat,2), dtype=np.float64)))\n",
    "\n",
    "p1iox, successiox = optimize.leastsq(errfunc, p0iox[:], args=(np.asarray(selectdata(iodat,0), dtype=np.float64), np.asarray(selectdata(iodat,1), dtype=np.float64)))\n",
    "p1ioy, successioy = optimize.leastsq(errfunc, p0ioy[:], args=(np.asarray(selectdata(iodat,0), dtype=np.float64), np.asarray(selectdata(iodat,2), dtype=np.float64)))\n",
    "\n",
    "p1geurox, successeurox = optimize.leastsq(errfunc, p0eurox[:], args=(np.asarray(selectdata(eurodat,0), dtype=np.float64), np.asarray(selectdata(eurodat,1), dtype=np.float64)))\n",
    "p1geuroy, successeuroy = optimize.leastsq(errfunc, p0euroy[:], args=(np.asarray(selectdata(eurodat,0), dtype=np.float64), np.asarray(selectdata(eurodat,2), dtype=np.float64)))"
   ]
  },
  {
   "cell_type": "code",
   "execution_count": 273,
   "metadata": {},
   "outputs": [
    {
     "data": {
      "text/plain": [
       "(array([-7.82916416,  7.20145464,  1.47815354]),\n",
       " array([-0.47323783,  9.79673839,  2.0474309 ]))"
      ]
     },
     "execution_count": 273,
     "metadata": {},
     "output_type": "execute_result"
    }
   ],
   "source": [
    "p1ganix,p1ganiy"
   ]
  },
  {
   "cell_type": "code",
   "execution_count": 261,
   "metadata": {},
   "outputs": [
    {
     "data": {
      "text/plain": [
       "(array([12.49902252, 15.09077649, -1.93216968]),\n",
       " array([ 349.83934167, 4520.78540516,    4.71248357]))"
      ]
     },
     "execution_count": 261,
     "metadata": {},
     "output_type": "execute_result"
    }
   ],
   "source": [
    "p1calistx,p1calisty"
   ]
  },
  {
   "cell_type": "code",
   "execution_count": 262,
   "metadata": {},
   "outputs": [
    {
     "data": {
      "text/plain": [
       "(array([3.09135293, 1.83466448, 0.6383013 ]),\n",
       " array([ 0.2357581 ,  1.55574774, -0.195911  ]))"
      ]
     },
     "execution_count": 262,
     "metadata": {},
     "output_type": "execute_result"
    }
   ],
   "source": [
    "p1iox,p1ioy"
   ]
  },
  {
   "cell_type": "code",
   "execution_count": 263,
   "metadata": {},
   "outputs": [
    {
     "data": {
      "text/plain": [
       "(array([4.8893537 , 3.55103326, 4.21760168]),\n",
       " array([ 0.38869264,  5.36587851, -0.20358643]))"
      ]
     },
     "execution_count": 263,
     "metadata": {},
     "output_type": "execute_result"
    }
   ],
   "source": [
    "p1geurox,p1geuroy"
   ]
  },
  {
   "cell_type": "code",
   "execution_count": 268,
   "metadata": {},
   "outputs": [
    {
     "data": {
      "text/plain": [
       "2.3163723728837372e+26"
      ]
     },
     "execution_count": 268,
     "metadata": {},
     "output_type": "execute_result"
    }
   ],
   "source": [
    "Djupiter = 142984e+03\n",
    "G = 6.674e-11\n",
    "alpha = np.power(Djupiter,3)*4*np.pi*np.pi/(G*(60*60*24)*(60*60*24))\n",
    "alpha"
   ]
  },
  {
   "cell_type": "code",
   "execution_count": 269,
   "metadata": {},
   "outputs": [],
   "source": [
    "M = [alpha*np.power(p1ganix[0]*p1ganix[0] + p1ganiy[0]*p1ganiy[0],3/2)/(p1ganix[1]*p1ganix[1]),alpha*np.power(p1calistx[0]*p1calistx[0],3/2)/(p1calistx[1]*p1calistx[1]),alpha*np.power(p1iox[0]*p1iox[0] + p1ioy[0]*p1ioy[0],3/2)/(p1iox[1]*p1iox[1]),alpha*np.power(p1geurox[0]*p1geurox[0] + p1geuroy[0]*p1geuroy[0],3/2)/(p1geurox[1]*p1geurox[1])]"
   ]
  },
  {
   "cell_type": "code",
   "execution_count": 270,
   "metadata": {},
   "outputs": [
    {
     "data": {
      "text/plain": [
       "[2.155211637849715e+27,\n",
       " 1.986155990083772e+27,\n",
       " 2.050778483324687e+27,\n",
       " 2.16749122661886e+27]"
      ]
     },
     "execution_count": 270,
     "metadata": {},
     "output_type": "execute_result"
    }
   ],
   "source": [
    "M"
   ]
  },
  {
   "cell_type": "code",
   "execution_count": 267,
   "metadata": {},
   "outputs": [],
   "source": [
    "MJup = 1.8982e+27"
   ]
  },
  {
   "cell_type": "code",
   "execution_count": 274,
   "metadata": {},
   "outputs": [
    {
     "data": {
      "application/vnd.plotly.v1+json": {
       "config": {
        "plotlyServerURL": "https://plot.ly"
       },
       "data": [
        {
         "mode": "lines",
         "name": "Ganimedes(fit)",
         "type": "scatter",
         "x": [
          1,
          1.0242424242424242,
          1.0484848484848486,
          1.0727272727272728,
          1.096969696969697,
          1.121212121212121,
          1.1454545454545455,
          1.1696969696969697,
          1.1939393939393939,
          1.2181818181818183,
          1.2424242424242424,
          1.2666666666666666,
          1.290909090909091,
          1.3151515151515152,
          1.3393939393939394,
          1.3636363636363638,
          1.387878787878788,
          1.412121212121212,
          1.4363636363636363,
          1.4606060606060607,
          1.4848484848484849,
          1.509090909090909,
          1.5333333333333332,
          1.5575757575757576,
          1.5818181818181818,
          1.606060606060606,
          1.6303030303030304,
          1.6545454545454545,
          1.6787878787878787,
          1.7030303030303031,
          1.7272727272727273,
          1.7515151515151515,
          1.7757575757575759,
          1.8,
          1.8242424242424242,
          1.8484848484848486,
          1.8727272727272726,
          1.896969696969697,
          1.9212121212121214,
          1.9454545454545453,
          1.9696969696969697,
          1.993939393939394,
          2.018181818181818,
          2.0424242424242425,
          2.0666666666666664,
          2.090909090909091,
          2.1151515151515152,
          2.1393939393939396,
          2.1636363636363636,
          2.187878787878788,
          2.212121212121212,
          2.2363636363636363,
          2.2606060606060607,
          2.284848484848485,
          2.309090909090909,
          2.333333333333333,
          2.3575757575757574,
          2.381818181818182,
          2.4060606060606062,
          2.4303030303030306,
          2.4545454545454546,
          2.4787878787878785,
          2.503030303030303,
          2.5272727272727273,
          2.5515151515151517,
          2.5757575757575757,
          2.6,
          2.624242424242424,
          2.6484848484848484,
          2.672727272727273,
          2.6969696969696972,
          2.721212121212121,
          2.745454545454545,
          2.7696969696969695,
          2.793939393939394,
          2.8181818181818183,
          2.8424242424242427,
          2.8666666666666667,
          2.8909090909090907,
          2.915151515151515,
          2.9393939393939394,
          2.963636363636364,
          2.987878787878788,
          3.012121212121212,
          3.036363636363636,
          3.0606060606060606,
          3.084848484848485,
          3.109090909090909,
          3.1333333333333333,
          3.1575757575757577,
          3.1818181818181817,
          3.206060606060606,
          3.2303030303030305,
          3.2545454545454544,
          3.278787878787879,
          3.303030303030303,
          3.327272727272727,
          3.3515151515151516,
          3.375757575757576,
          3.4
         ],
         "y": [
          5.509661590900995,
          5.626070418570375,
          5.739962378790138,
          5.851286521083996,
          5.959993043709485,
          6.066033315937158,
          6.169359899805941,
          6.269926571344879,
          6.367688341251795,
          6.4626014750196275,
          6.554623512501382,
          6.643713286905049,
          6.729830943209874,
          6.812937955995828,
          6.892997146678257,
          6.969972700140023,
          7.04383018075368,
          7.114536547786526,
          7.182060170181636,
          7.246370840708271,
          7.307439789475322,
          7.365239696801753,
          7.419744705438271,
          7.470930432134781,
          7.51877397854842,
          7.563253941487318,
          7.604350422485485,
          7.642045036704549,
          7.676320921158361,
          7.707162742256778,
          7.734556702665283,
          7.7584905474773125,
          7.778953569696607,
          7.795936615027055,
          7.809432085967949,
          7.8194339452127855,
          7.825937718350103,
          7.828940495865142,
          7.8284409344414465,
          7.824439257561802,
          7.816937255408257,
          7.805938284061279,
          7.791447263998377,
          7.77347067789289,
          7.752016567713913,
          7.727094531128652,
          7.69871571720884,
          7.6668928214431045,
          7.631640080057538,
          7.592973263647017,
          7.550909670120092,
          7.505468116960634,
          7.456668932809682,
          7.404533948371268,
          7.3490864866462715,
          7.290351352498691,
          7.2283548215589875,
          7.163124628469482,
          7.094689954477029,
          7.023081414378566,
          6.948331042825326,
          6.870472279991889,
          6.789539956616459,
          6.705570278419041,
          6.6186008099045415,
          6.5286704575579675,
          6.435819452439314,
          6.340089332185881,
          6.241522922430067,
          6.1401643176409975,
          6.036058861398491,
          5.929253126108276,
          5.819794892167425,
          5.707733126589428,
          5.593117961098419,
          5.476000669702315,
          5.35643364575503,
          5.234470378517838,
          5.110165429230565,
          4.983574406703149,
          4.854753942438654,
          4.723761665298642,
          4.590656175722486,
          4.455497019511989,
          4.318344661193101,
          4.179260456966608,
          4.038306627259984,
          3.8955462288925453,
          3.7510431268665028,
          3.604861965796451,
          3.457068140990074,
          3.3077277691930225,
          3.156907659011071,
          3.0046752810227755,
          2.8510987375959265,
          2.6962467324214647,
          2.5401885397782924,
          2.3829939735428898,
          2.2247333559575346,
          2.065477486171076
         ]
        },
        {
         "mode": "markers",
         "name": "Ganimedes(data)",
         "type": "scatter",
         "x": [
          1.30173770012334,
          2.2661990500055254,
          3.269851880148053,
          3.315214639995247
         ],
         "y": [
          6.763124520022277,
          7.451086328023904,
          2.8555042865520823,
          2.6791594188914365
         ]
        }
       ],
       "layout": {
        "template": {
         "data": {
          "bar": [
           {
            "error_x": {
             "color": "#2a3f5f"
            },
            "error_y": {
             "color": "#2a3f5f"
            },
            "marker": {
             "line": {
              "color": "#E5ECF6",
              "width": 0.5
             }
            },
            "type": "bar"
           }
          ],
          "barpolar": [
           {
            "marker": {
             "line": {
              "color": "#E5ECF6",
              "width": 0.5
             }
            },
            "type": "barpolar"
           }
          ],
          "carpet": [
           {
            "aaxis": {
             "endlinecolor": "#2a3f5f",
             "gridcolor": "white",
             "linecolor": "white",
             "minorgridcolor": "white",
             "startlinecolor": "#2a3f5f"
            },
            "baxis": {
             "endlinecolor": "#2a3f5f",
             "gridcolor": "white",
             "linecolor": "white",
             "minorgridcolor": "white",
             "startlinecolor": "#2a3f5f"
            },
            "type": "carpet"
           }
          ],
          "choropleth": [
           {
            "colorbar": {
             "outlinewidth": 0,
             "ticks": ""
            },
            "type": "choropleth"
           }
          ],
          "contour": [
           {
            "colorbar": {
             "outlinewidth": 0,
             "ticks": ""
            },
            "colorscale": [
             [
              0,
              "#0d0887"
             ],
             [
              0.1111111111111111,
              "#46039f"
             ],
             [
              0.2222222222222222,
              "#7201a8"
             ],
             [
              0.3333333333333333,
              "#9c179e"
             ],
             [
              0.4444444444444444,
              "#bd3786"
             ],
             [
              0.5555555555555556,
              "#d8576b"
             ],
             [
              0.6666666666666666,
              "#ed7953"
             ],
             [
              0.7777777777777778,
              "#fb9f3a"
             ],
             [
              0.8888888888888888,
              "#fdca26"
             ],
             [
              1,
              "#f0f921"
             ]
            ],
            "type": "contour"
           }
          ],
          "contourcarpet": [
           {
            "colorbar": {
             "outlinewidth": 0,
             "ticks": ""
            },
            "type": "contourcarpet"
           }
          ],
          "heatmap": [
           {
            "colorbar": {
             "outlinewidth": 0,
             "ticks": ""
            },
            "colorscale": [
             [
              0,
              "#0d0887"
             ],
             [
              0.1111111111111111,
              "#46039f"
             ],
             [
              0.2222222222222222,
              "#7201a8"
             ],
             [
              0.3333333333333333,
              "#9c179e"
             ],
             [
              0.4444444444444444,
              "#bd3786"
             ],
             [
              0.5555555555555556,
              "#d8576b"
             ],
             [
              0.6666666666666666,
              "#ed7953"
             ],
             [
              0.7777777777777778,
              "#fb9f3a"
             ],
             [
              0.8888888888888888,
              "#fdca26"
             ],
             [
              1,
              "#f0f921"
             ]
            ],
            "type": "heatmap"
           }
          ],
          "heatmapgl": [
           {
            "colorbar": {
             "outlinewidth": 0,
             "ticks": ""
            },
            "colorscale": [
             [
              0,
              "#0d0887"
             ],
             [
              0.1111111111111111,
              "#46039f"
             ],
             [
              0.2222222222222222,
              "#7201a8"
             ],
             [
              0.3333333333333333,
              "#9c179e"
             ],
             [
              0.4444444444444444,
              "#bd3786"
             ],
             [
              0.5555555555555556,
              "#d8576b"
             ],
             [
              0.6666666666666666,
              "#ed7953"
             ],
             [
              0.7777777777777778,
              "#fb9f3a"
             ],
             [
              0.8888888888888888,
              "#fdca26"
             ],
             [
              1,
              "#f0f921"
             ]
            ],
            "type": "heatmapgl"
           }
          ],
          "histogram": [
           {
            "marker": {
             "colorbar": {
              "outlinewidth": 0,
              "ticks": ""
             }
            },
            "type": "histogram"
           }
          ],
          "histogram2d": [
           {
            "colorbar": {
             "outlinewidth": 0,
             "ticks": ""
            },
            "colorscale": [
             [
              0,
              "#0d0887"
             ],
             [
              0.1111111111111111,
              "#46039f"
             ],
             [
              0.2222222222222222,
              "#7201a8"
             ],
             [
              0.3333333333333333,
              "#9c179e"
             ],
             [
              0.4444444444444444,
              "#bd3786"
             ],
             [
              0.5555555555555556,
              "#d8576b"
             ],
             [
              0.6666666666666666,
              "#ed7953"
             ],
             [
              0.7777777777777778,
              "#fb9f3a"
             ],
             [
              0.8888888888888888,
              "#fdca26"
             ],
             [
              1,
              "#f0f921"
             ]
            ],
            "type": "histogram2d"
           }
          ],
          "histogram2dcontour": [
           {
            "colorbar": {
             "outlinewidth": 0,
             "ticks": ""
            },
            "colorscale": [
             [
              0,
              "#0d0887"
             ],
             [
              0.1111111111111111,
              "#46039f"
             ],
             [
              0.2222222222222222,
              "#7201a8"
             ],
             [
              0.3333333333333333,
              "#9c179e"
             ],
             [
              0.4444444444444444,
              "#bd3786"
             ],
             [
              0.5555555555555556,
              "#d8576b"
             ],
             [
              0.6666666666666666,
              "#ed7953"
             ],
             [
              0.7777777777777778,
              "#fb9f3a"
             ],
             [
              0.8888888888888888,
              "#fdca26"
             ],
             [
              1,
              "#f0f921"
             ]
            ],
            "type": "histogram2dcontour"
           }
          ],
          "mesh3d": [
           {
            "colorbar": {
             "outlinewidth": 0,
             "ticks": ""
            },
            "type": "mesh3d"
           }
          ],
          "parcoords": [
           {
            "line": {
             "colorbar": {
              "outlinewidth": 0,
              "ticks": ""
             }
            },
            "type": "parcoords"
           }
          ],
          "pie": [
           {
            "automargin": true,
            "type": "pie"
           }
          ],
          "scatter": [
           {
            "marker": {
             "colorbar": {
              "outlinewidth": 0,
              "ticks": ""
             }
            },
            "type": "scatter"
           }
          ],
          "scatter3d": [
           {
            "line": {
             "colorbar": {
              "outlinewidth": 0,
              "ticks": ""
             }
            },
            "marker": {
             "colorbar": {
              "outlinewidth": 0,
              "ticks": ""
             }
            },
            "type": "scatter3d"
           }
          ],
          "scattercarpet": [
           {
            "marker": {
             "colorbar": {
              "outlinewidth": 0,
              "ticks": ""
             }
            },
            "type": "scattercarpet"
           }
          ],
          "scattergeo": [
           {
            "marker": {
             "colorbar": {
              "outlinewidth": 0,
              "ticks": ""
             }
            },
            "type": "scattergeo"
           }
          ],
          "scattergl": [
           {
            "marker": {
             "colorbar": {
              "outlinewidth": 0,
              "ticks": ""
             }
            },
            "type": "scattergl"
           }
          ],
          "scattermapbox": [
           {
            "marker": {
             "colorbar": {
              "outlinewidth": 0,
              "ticks": ""
             }
            },
            "type": "scattermapbox"
           }
          ],
          "scatterpolar": [
           {
            "marker": {
             "colorbar": {
              "outlinewidth": 0,
              "ticks": ""
             }
            },
            "type": "scatterpolar"
           }
          ],
          "scatterpolargl": [
           {
            "marker": {
             "colorbar": {
              "outlinewidth": 0,
              "ticks": ""
             }
            },
            "type": "scatterpolargl"
           }
          ],
          "scatterternary": [
           {
            "marker": {
             "colorbar": {
              "outlinewidth": 0,
              "ticks": ""
             }
            },
            "type": "scatterternary"
           }
          ],
          "surface": [
           {
            "colorbar": {
             "outlinewidth": 0,
             "ticks": ""
            },
            "colorscale": [
             [
              0,
              "#0d0887"
             ],
             [
              0.1111111111111111,
              "#46039f"
             ],
             [
              0.2222222222222222,
              "#7201a8"
             ],
             [
              0.3333333333333333,
              "#9c179e"
             ],
             [
              0.4444444444444444,
              "#bd3786"
             ],
             [
              0.5555555555555556,
              "#d8576b"
             ],
             [
              0.6666666666666666,
              "#ed7953"
             ],
             [
              0.7777777777777778,
              "#fb9f3a"
             ],
             [
              0.8888888888888888,
              "#fdca26"
             ],
             [
              1,
              "#f0f921"
             ]
            ],
            "type": "surface"
           }
          ],
          "table": [
           {
            "cells": {
             "fill": {
              "color": "#EBF0F8"
             },
             "line": {
              "color": "white"
             }
            },
            "header": {
             "fill": {
              "color": "#C8D4E3"
             },
             "line": {
              "color": "white"
             }
            },
            "type": "table"
           }
          ]
         },
         "layout": {
          "annotationdefaults": {
           "arrowcolor": "#2a3f5f",
           "arrowhead": 0,
           "arrowwidth": 1
          },
          "coloraxis": {
           "colorbar": {
            "outlinewidth": 0,
            "ticks": ""
           }
          },
          "colorscale": {
           "diverging": [
            [
             0,
             "#8e0152"
            ],
            [
             0.1,
             "#c51b7d"
            ],
            [
             0.2,
             "#de77ae"
            ],
            [
             0.3,
             "#f1b6da"
            ],
            [
             0.4,
             "#fde0ef"
            ],
            [
             0.5,
             "#f7f7f7"
            ],
            [
             0.6,
             "#e6f5d0"
            ],
            [
             0.7,
             "#b8e186"
            ],
            [
             0.8,
             "#7fbc41"
            ],
            [
             0.9,
             "#4d9221"
            ],
            [
             1,
             "#276419"
            ]
           ],
           "sequential": [
            [
             0,
             "#0d0887"
            ],
            [
             0.1111111111111111,
             "#46039f"
            ],
            [
             0.2222222222222222,
             "#7201a8"
            ],
            [
             0.3333333333333333,
             "#9c179e"
            ],
            [
             0.4444444444444444,
             "#bd3786"
            ],
            [
             0.5555555555555556,
             "#d8576b"
            ],
            [
             0.6666666666666666,
             "#ed7953"
            ],
            [
             0.7777777777777778,
             "#fb9f3a"
            ],
            [
             0.8888888888888888,
             "#fdca26"
            ],
            [
             1,
             "#f0f921"
            ]
           ],
           "sequentialminus": [
            [
             0,
             "#0d0887"
            ],
            [
             0.1111111111111111,
             "#46039f"
            ],
            [
             0.2222222222222222,
             "#7201a8"
            ],
            [
             0.3333333333333333,
             "#9c179e"
            ],
            [
             0.4444444444444444,
             "#bd3786"
            ],
            [
             0.5555555555555556,
             "#d8576b"
            ],
            [
             0.6666666666666666,
             "#ed7953"
            ],
            [
             0.7777777777777778,
             "#fb9f3a"
            ],
            [
             0.8888888888888888,
             "#fdca26"
            ],
            [
             1,
             "#f0f921"
            ]
           ]
          },
          "colorway": [
           "#636efa",
           "#EF553B",
           "#00cc96",
           "#ab63fa",
           "#FFA15A",
           "#19d3f3",
           "#FF6692",
           "#B6E880",
           "#FF97FF",
           "#FECB52"
          ],
          "font": {
           "color": "#2a3f5f"
          },
          "geo": {
           "bgcolor": "white",
           "lakecolor": "white",
           "landcolor": "#E5ECF6",
           "showlakes": true,
           "showland": true,
           "subunitcolor": "white"
          },
          "hoverlabel": {
           "align": "left"
          },
          "hovermode": "closest",
          "mapbox": {
           "style": "light"
          },
          "paper_bgcolor": "white",
          "plot_bgcolor": "#E5ECF6",
          "polar": {
           "angularaxis": {
            "gridcolor": "white",
            "linecolor": "white",
            "ticks": ""
           },
           "bgcolor": "#E5ECF6",
           "radialaxis": {
            "gridcolor": "white",
            "linecolor": "white",
            "ticks": ""
           }
          },
          "scene": {
           "xaxis": {
            "backgroundcolor": "#E5ECF6",
            "gridcolor": "white",
            "gridwidth": 2,
            "linecolor": "white",
            "showbackground": true,
            "ticks": "",
            "zerolinecolor": "white"
           },
           "yaxis": {
            "backgroundcolor": "#E5ECF6",
            "gridcolor": "white",
            "gridwidth": 2,
            "linecolor": "white",
            "showbackground": true,
            "ticks": "",
            "zerolinecolor": "white"
           },
           "zaxis": {
            "backgroundcolor": "#E5ECF6",
            "gridcolor": "white",
            "gridwidth": 2,
            "linecolor": "white",
            "showbackground": true,
            "ticks": "",
            "zerolinecolor": "white"
           }
          },
          "shapedefaults": {
           "line": {
            "color": "#2a3f5f"
           }
          },
          "ternary": {
           "aaxis": {
            "gridcolor": "white",
            "linecolor": "white",
            "ticks": ""
           },
           "baxis": {
            "gridcolor": "white",
            "linecolor": "white",
            "ticks": ""
           },
           "bgcolor": "#E5ECF6",
           "caxis": {
            "gridcolor": "white",
            "linecolor": "white",
            "ticks": ""
           }
          },
          "title": {
           "x": 0.05
          },
          "xaxis": {
           "automargin": true,
           "gridcolor": "white",
           "linecolor": "white",
           "ticks": "",
           "title": {
            "standoff": 15
           },
           "zerolinecolor": "white",
           "zerolinewidth": 2
          },
          "yaxis": {
           "automargin": true,
           "gridcolor": "white",
           "linecolor": "white",
           "ticks": "",
           "title": {
            "standoff": 15
           },
           "zerolinecolor": "white",
           "zerolinewidth": 2
          }
         }
        }
       }
      },
      "text/html": [
       "<div>\n",
       "        \n",
       "        \n",
       "            <div id=\"87127ba9-035b-4472-bfea-0f61544b5a07\" class=\"plotly-graph-div\" style=\"height:525px; width:100%;\"></div>\n",
       "            <script type=\"text/javascript\">\n",
       "                require([\"plotly\"], function(Plotly) {\n",
       "                    window.PLOTLYENV=window.PLOTLYENV || {};\n",
       "                    \n",
       "                if (document.getElementById(\"87127ba9-035b-4472-bfea-0f61544b5a07\")) {\n",
       "                    Plotly.newPlot(\n",
       "                        '87127ba9-035b-4472-bfea-0f61544b5a07',\n",
       "                        [{\"mode\": \"lines\", \"name\": \"Ganimedes(fit)\", \"type\": \"scatter\", \"x\": [1.0, 1.0242424242424242, 1.0484848484848486, 1.0727272727272728, 1.096969696969697, 1.121212121212121, 1.1454545454545455, 1.1696969696969697, 1.1939393939393939, 1.2181818181818183, 1.2424242424242424, 1.2666666666666666, 1.290909090909091, 1.3151515151515152, 1.3393939393939394, 1.3636363636363638, 1.387878787878788, 1.412121212121212, 1.4363636363636363, 1.4606060606060607, 1.4848484848484849, 1.509090909090909, 1.5333333333333332, 1.5575757575757576, 1.5818181818181818, 1.606060606060606, 1.6303030303030304, 1.6545454545454545, 1.6787878787878787, 1.7030303030303031, 1.7272727272727273, 1.7515151515151515, 1.7757575757575759, 1.8, 1.8242424242424242, 1.8484848484848486, 1.8727272727272726, 1.896969696969697, 1.9212121212121214, 1.9454545454545453, 1.9696969696969697, 1.993939393939394, 2.018181818181818, 2.0424242424242425, 2.0666666666666664, 2.090909090909091, 2.1151515151515152, 2.1393939393939396, 2.1636363636363636, 2.187878787878788, 2.212121212121212, 2.2363636363636363, 2.2606060606060607, 2.284848484848485, 2.309090909090909, 2.333333333333333, 2.3575757575757574, 2.381818181818182, 2.4060606060606062, 2.4303030303030306, 2.4545454545454546, 2.4787878787878785, 2.503030303030303, 2.5272727272727273, 2.5515151515151517, 2.5757575757575757, 2.6, 2.624242424242424, 2.6484848484848484, 2.672727272727273, 2.6969696969696972, 2.721212121212121, 2.745454545454545, 2.7696969696969695, 2.793939393939394, 2.8181818181818183, 2.8424242424242427, 2.8666666666666667, 2.8909090909090907, 2.915151515151515, 2.9393939393939394, 2.963636363636364, 2.987878787878788, 3.012121212121212, 3.036363636363636, 3.0606060606060606, 3.084848484848485, 3.109090909090909, 3.1333333333333333, 3.1575757575757577, 3.1818181818181817, 3.206060606060606, 3.2303030303030305, 3.2545454545454544, 3.278787878787879, 3.303030303030303, 3.327272727272727, 3.3515151515151516, 3.375757575757576, 3.4], \"y\": [5.509661590900995, 5.626070418570375, 5.739962378790138, 5.851286521083996, 5.959993043709485, 6.066033315937158, 6.169359899805941, 6.269926571344879, 6.367688341251795, 6.4626014750196275, 6.554623512501382, 6.643713286905049, 6.729830943209874, 6.812937955995828, 6.892997146678257, 6.969972700140023, 7.04383018075368, 7.114536547786526, 7.182060170181636, 7.246370840708271, 7.307439789475322, 7.365239696801753, 7.419744705438271, 7.470930432134781, 7.51877397854842, 7.563253941487318, 7.604350422485485, 7.642045036704549, 7.676320921158361, 7.707162742256778, 7.734556702665283, 7.7584905474773125, 7.778953569696607, 7.795936615027055, 7.809432085967949, 7.8194339452127855, 7.825937718350103, 7.828940495865142, 7.8284409344414465, 7.824439257561802, 7.816937255408257, 7.805938284061279, 7.791447263998377, 7.77347067789289, 7.752016567713913, 7.727094531128652, 7.69871571720884, 7.6668928214431045, 7.631640080057538, 7.592973263647017, 7.550909670120092, 7.505468116960634, 7.456668932809682, 7.404533948371268, 7.3490864866462715, 7.290351352498691, 7.2283548215589875, 7.163124628469482, 7.094689954477029, 7.023081414378566, 6.948331042825326, 6.870472279991889, 6.789539956616459, 6.705570278419041, 6.6186008099045415, 6.5286704575579675, 6.435819452439314, 6.340089332185881, 6.241522922430067, 6.1401643176409975, 6.036058861398491, 5.929253126108276, 5.819794892167425, 5.707733126589428, 5.593117961098419, 5.476000669702315, 5.35643364575503, 5.234470378517838, 5.110165429230565, 4.983574406703149, 4.854753942438654, 4.723761665298642, 4.590656175722486, 4.455497019511989, 4.318344661193101, 4.179260456966608, 4.038306627259984, 3.8955462288925453, 3.7510431268665028, 3.604861965796451, 3.457068140990074, 3.3077277691930225, 3.156907659011071, 3.0046752810227755, 2.8510987375959265, 2.6962467324214647, 2.5401885397782924, 2.3829939735428898, 2.2247333559575346, 2.065477486171076]}, {\"mode\": \"markers\", \"name\": \"Ganimedes(data)\", \"type\": \"scatter\", \"x\": [1.30173770012334, 2.2661990500055254, 3.269851880148053, 3.315214639995247], \"y\": [6.763124520022277, 7.451086328023904, 2.8555042865520823, 2.6791594188914365]}],\n",
       "                        {\"template\": {\"data\": {\"bar\": [{\"error_x\": {\"color\": \"#2a3f5f\"}, \"error_y\": {\"color\": \"#2a3f5f\"}, \"marker\": {\"line\": {\"color\": \"#E5ECF6\", \"width\": 0.5}}, \"type\": \"bar\"}], \"barpolar\": [{\"marker\": {\"line\": {\"color\": \"#E5ECF6\", \"width\": 0.5}}, \"type\": \"barpolar\"}], \"carpet\": [{\"aaxis\": {\"endlinecolor\": \"#2a3f5f\", \"gridcolor\": \"white\", \"linecolor\": \"white\", \"minorgridcolor\": \"white\", \"startlinecolor\": \"#2a3f5f\"}, \"baxis\": {\"endlinecolor\": \"#2a3f5f\", \"gridcolor\": \"white\", \"linecolor\": \"white\", \"minorgridcolor\": \"white\", \"startlinecolor\": \"#2a3f5f\"}, \"type\": \"carpet\"}], \"choropleth\": [{\"colorbar\": {\"outlinewidth\": 0, \"ticks\": \"\"}, \"type\": \"choropleth\"}], \"contour\": [{\"colorbar\": {\"outlinewidth\": 0, \"ticks\": \"\"}, \"colorscale\": [[0.0, \"#0d0887\"], [0.1111111111111111, \"#46039f\"], [0.2222222222222222, \"#7201a8\"], [0.3333333333333333, \"#9c179e\"], [0.4444444444444444, \"#bd3786\"], [0.5555555555555556, \"#d8576b\"], [0.6666666666666666, \"#ed7953\"], [0.7777777777777778, \"#fb9f3a\"], [0.8888888888888888, \"#fdca26\"], [1.0, \"#f0f921\"]], \"type\": \"contour\"}], \"contourcarpet\": [{\"colorbar\": {\"outlinewidth\": 0, \"ticks\": \"\"}, \"type\": \"contourcarpet\"}], \"heatmap\": [{\"colorbar\": {\"outlinewidth\": 0, \"ticks\": \"\"}, \"colorscale\": [[0.0, \"#0d0887\"], [0.1111111111111111, \"#46039f\"], [0.2222222222222222, \"#7201a8\"], [0.3333333333333333, \"#9c179e\"], [0.4444444444444444, \"#bd3786\"], [0.5555555555555556, \"#d8576b\"], [0.6666666666666666, \"#ed7953\"], [0.7777777777777778, \"#fb9f3a\"], [0.8888888888888888, \"#fdca26\"], [1.0, \"#f0f921\"]], \"type\": \"heatmap\"}], \"heatmapgl\": [{\"colorbar\": {\"outlinewidth\": 0, \"ticks\": \"\"}, \"colorscale\": [[0.0, \"#0d0887\"], [0.1111111111111111, \"#46039f\"], [0.2222222222222222, \"#7201a8\"], [0.3333333333333333, \"#9c179e\"], [0.4444444444444444, \"#bd3786\"], [0.5555555555555556, \"#d8576b\"], [0.6666666666666666, \"#ed7953\"], [0.7777777777777778, \"#fb9f3a\"], [0.8888888888888888, \"#fdca26\"], [1.0, \"#f0f921\"]], \"type\": \"heatmapgl\"}], \"histogram\": [{\"marker\": {\"colorbar\": {\"outlinewidth\": 0, \"ticks\": \"\"}}, \"type\": \"histogram\"}], \"histogram2d\": [{\"colorbar\": {\"outlinewidth\": 0, \"ticks\": \"\"}, \"colorscale\": [[0.0, \"#0d0887\"], [0.1111111111111111, \"#46039f\"], [0.2222222222222222, \"#7201a8\"], [0.3333333333333333, \"#9c179e\"], [0.4444444444444444, \"#bd3786\"], [0.5555555555555556, \"#d8576b\"], [0.6666666666666666, \"#ed7953\"], [0.7777777777777778, \"#fb9f3a\"], [0.8888888888888888, \"#fdca26\"], [1.0, \"#f0f921\"]], \"type\": \"histogram2d\"}], \"histogram2dcontour\": [{\"colorbar\": {\"outlinewidth\": 0, \"ticks\": \"\"}, \"colorscale\": [[0.0, \"#0d0887\"], [0.1111111111111111, \"#46039f\"], [0.2222222222222222, \"#7201a8\"], [0.3333333333333333, \"#9c179e\"], [0.4444444444444444, \"#bd3786\"], [0.5555555555555556, \"#d8576b\"], [0.6666666666666666, \"#ed7953\"], [0.7777777777777778, \"#fb9f3a\"], [0.8888888888888888, \"#fdca26\"], [1.0, \"#f0f921\"]], \"type\": \"histogram2dcontour\"}], \"mesh3d\": [{\"colorbar\": {\"outlinewidth\": 0, \"ticks\": \"\"}, \"type\": \"mesh3d\"}], \"parcoords\": [{\"line\": {\"colorbar\": {\"outlinewidth\": 0, \"ticks\": \"\"}}, \"type\": \"parcoords\"}], \"pie\": [{\"automargin\": true, \"type\": \"pie\"}], \"scatter\": [{\"marker\": {\"colorbar\": {\"outlinewidth\": 0, \"ticks\": \"\"}}, \"type\": \"scatter\"}], \"scatter3d\": [{\"line\": {\"colorbar\": {\"outlinewidth\": 0, \"ticks\": \"\"}}, \"marker\": {\"colorbar\": {\"outlinewidth\": 0, \"ticks\": \"\"}}, \"type\": \"scatter3d\"}], \"scattercarpet\": [{\"marker\": {\"colorbar\": {\"outlinewidth\": 0, \"ticks\": \"\"}}, \"type\": \"scattercarpet\"}], \"scattergeo\": [{\"marker\": {\"colorbar\": {\"outlinewidth\": 0, \"ticks\": \"\"}}, \"type\": \"scattergeo\"}], \"scattergl\": [{\"marker\": {\"colorbar\": {\"outlinewidth\": 0, \"ticks\": \"\"}}, \"type\": \"scattergl\"}], \"scattermapbox\": [{\"marker\": {\"colorbar\": {\"outlinewidth\": 0, \"ticks\": \"\"}}, \"type\": \"scattermapbox\"}], \"scatterpolar\": [{\"marker\": {\"colorbar\": {\"outlinewidth\": 0, \"ticks\": \"\"}}, \"type\": \"scatterpolar\"}], \"scatterpolargl\": [{\"marker\": {\"colorbar\": {\"outlinewidth\": 0, \"ticks\": \"\"}}, \"type\": \"scatterpolargl\"}], \"scatterternary\": [{\"marker\": {\"colorbar\": {\"outlinewidth\": 0, \"ticks\": \"\"}}, \"type\": \"scatterternary\"}], \"surface\": [{\"colorbar\": {\"outlinewidth\": 0, \"ticks\": \"\"}, \"colorscale\": [[0.0, \"#0d0887\"], [0.1111111111111111, \"#46039f\"], [0.2222222222222222, \"#7201a8\"], [0.3333333333333333, \"#9c179e\"], [0.4444444444444444, \"#bd3786\"], [0.5555555555555556, \"#d8576b\"], [0.6666666666666666, \"#ed7953\"], [0.7777777777777778, \"#fb9f3a\"], [0.8888888888888888, \"#fdca26\"], [1.0, \"#f0f921\"]], \"type\": \"surface\"}], \"table\": [{\"cells\": {\"fill\": {\"color\": \"#EBF0F8\"}, \"line\": {\"color\": \"white\"}}, \"header\": {\"fill\": {\"color\": \"#C8D4E3\"}, \"line\": {\"color\": \"white\"}}, \"type\": \"table\"}]}, \"layout\": {\"annotationdefaults\": {\"arrowcolor\": \"#2a3f5f\", \"arrowhead\": 0, \"arrowwidth\": 1}, \"coloraxis\": {\"colorbar\": {\"outlinewidth\": 0, \"ticks\": \"\"}}, \"colorscale\": {\"diverging\": [[0, \"#8e0152\"], [0.1, \"#c51b7d\"], [0.2, \"#de77ae\"], [0.3, \"#f1b6da\"], [0.4, \"#fde0ef\"], [0.5, \"#f7f7f7\"], [0.6, \"#e6f5d0\"], [0.7, \"#b8e186\"], [0.8, \"#7fbc41\"], [0.9, \"#4d9221\"], [1, \"#276419\"]], \"sequential\": [[0.0, \"#0d0887\"], [0.1111111111111111, \"#46039f\"], [0.2222222222222222, \"#7201a8\"], [0.3333333333333333, \"#9c179e\"], [0.4444444444444444, \"#bd3786\"], [0.5555555555555556, \"#d8576b\"], [0.6666666666666666, \"#ed7953\"], [0.7777777777777778, \"#fb9f3a\"], [0.8888888888888888, \"#fdca26\"], [1.0, \"#f0f921\"]], \"sequentialminus\": [[0.0, \"#0d0887\"], [0.1111111111111111, \"#46039f\"], [0.2222222222222222, \"#7201a8\"], [0.3333333333333333, \"#9c179e\"], [0.4444444444444444, \"#bd3786\"], [0.5555555555555556, \"#d8576b\"], [0.6666666666666666, \"#ed7953\"], [0.7777777777777778, \"#fb9f3a\"], [0.8888888888888888, \"#fdca26\"], [1.0, \"#f0f921\"]]}, \"colorway\": [\"#636efa\", \"#EF553B\", \"#00cc96\", \"#ab63fa\", \"#FFA15A\", \"#19d3f3\", \"#FF6692\", \"#B6E880\", \"#FF97FF\", \"#FECB52\"], \"font\": {\"color\": \"#2a3f5f\"}, \"geo\": {\"bgcolor\": \"white\", \"lakecolor\": \"white\", \"landcolor\": \"#E5ECF6\", \"showlakes\": true, \"showland\": true, \"subunitcolor\": \"white\"}, \"hoverlabel\": {\"align\": \"left\"}, \"hovermode\": \"closest\", \"mapbox\": {\"style\": \"light\"}, \"paper_bgcolor\": \"white\", \"plot_bgcolor\": \"#E5ECF6\", \"polar\": {\"angularaxis\": {\"gridcolor\": \"white\", \"linecolor\": \"white\", \"ticks\": \"\"}, \"bgcolor\": \"#E5ECF6\", \"radialaxis\": {\"gridcolor\": \"white\", \"linecolor\": \"white\", \"ticks\": \"\"}}, \"scene\": {\"xaxis\": {\"backgroundcolor\": \"#E5ECF6\", \"gridcolor\": \"white\", \"gridwidth\": 2, \"linecolor\": \"white\", \"showbackground\": true, \"ticks\": \"\", \"zerolinecolor\": \"white\"}, \"yaxis\": {\"backgroundcolor\": \"#E5ECF6\", \"gridcolor\": \"white\", \"gridwidth\": 2, \"linecolor\": \"white\", \"showbackground\": true, \"ticks\": \"\", \"zerolinecolor\": \"white\"}, \"zaxis\": {\"backgroundcolor\": \"#E5ECF6\", \"gridcolor\": \"white\", \"gridwidth\": 2, \"linecolor\": \"white\", \"showbackground\": true, \"ticks\": \"\", \"zerolinecolor\": \"white\"}}, \"shapedefaults\": {\"line\": {\"color\": \"#2a3f5f\"}}, \"ternary\": {\"aaxis\": {\"gridcolor\": \"white\", \"linecolor\": \"white\", \"ticks\": \"\"}, \"baxis\": {\"gridcolor\": \"white\", \"linecolor\": \"white\", \"ticks\": \"\"}, \"bgcolor\": \"#E5ECF6\", \"caxis\": {\"gridcolor\": \"white\", \"linecolor\": \"white\", \"ticks\": \"\"}}, \"title\": {\"x\": 0.05}, \"xaxis\": {\"automargin\": true, \"gridcolor\": \"white\", \"linecolor\": \"white\", \"ticks\": \"\", \"title\": {\"standoff\": 15}, \"zerolinecolor\": \"white\", \"zerolinewidth\": 2}, \"yaxis\": {\"automargin\": true, \"gridcolor\": \"white\", \"linecolor\": \"white\", \"ticks\": \"\", \"title\": {\"standoff\": 15}, \"zerolinecolor\": \"white\", \"zerolinewidth\": 2}}}},\n",
       "                        {\"responsive\": true}\n",
       "                    ).then(function(){\n",
       "                            \n",
       "var gd = document.getElementById('87127ba9-035b-4472-bfea-0f61544b5a07');\n",
       "var x = new MutationObserver(function (mutations, observer) {{\n",
       "        var display = window.getComputedStyle(gd).display;\n",
       "        if (!display || display === 'none') {{\n",
       "            console.log([gd, 'removed!']);\n",
       "            Plotly.purge(gd);\n",
       "            observer.disconnect();\n",
       "        }}\n",
       "}});\n",
       "\n",
       "// Listen for the removal of the full notebook cells\n",
       "var notebookContainer = gd.closest('#notebook-container');\n",
       "if (notebookContainer) {{\n",
       "    x.observe(notebookContainer, {childList: true});\n",
       "}}\n",
       "\n",
       "// Listen for the clearing of the current output cell\n",
       "var outputEl = gd.closest('.output');\n",
       "if (outputEl) {{\n",
       "    x.observe(outputEl, {childList: true});\n",
       "}}\n",
       "\n",
       "                        })\n",
       "                };\n",
       "                });\n",
       "            </script>\n",
       "        </div>"
      ]
     },
     "metadata": {},
     "output_type": "display_data"
    }
   ],
   "source": [
    "fig1 = go.Figure()\n",
    "\n",
    "\n",
    "t1 = np.linspace(1,3.4,100)\n",
    "t0 = np.linspace(0,3.4,100)\n",
    "\n",
    "fig1.add_trace(go.Scatter(x = t1, y = -p1ganix[0]*np.sin(2*t1*np.pi/p1ganix[1] + p1ganix[2]-1.57),mode='lines', name='Ganimedes(fit)'))\n",
    "fig1.add_trace(go.Scatter(x = selectdata(ganidat,0), y = selectdata(ganidat,1), mode='markers', name='Ganimedes(data)'))"
   ]
  },
  {
   "cell_type": "code",
   "execution_count": 272,
   "metadata": {},
   "outputs": [
    {
     "data": {
      "application/vnd.plotly.v1+json": {
       "config": {
        "plotlyServerURL": "https://plot.ly"
       },
       "data": [
        {
         "mode": "lines",
         "name": "Callisto(fit)",
         "type": "scatter",
         "x": [
          0,
          0.03434343434343434,
          0.06868686868686869,
          0.10303030303030303,
          0.13737373737373737,
          0.1717171717171717,
          0.20606060606060606,
          0.2404040404040404,
          0.27474747474747474,
          0.3090909090909091,
          0.3434343434343434,
          0.37777777777777777,
          0.4121212121212121,
          0.44646464646464645,
          0.4808080808080808,
          0.5151515151515151,
          0.5494949494949495,
          0.5838383838383838,
          0.6181818181818182,
          0.6525252525252525,
          0.6868686868686869,
          0.7212121212121212,
          0.7555555555555555,
          0.7898989898989899,
          0.8242424242424242,
          0.8585858585858586,
          0.8929292929292929,
          0.9272727272727272,
          0.9616161616161616,
          0.9959595959595959,
          1.0303030303030303,
          1.0646464646464646,
          1.098989898989899,
          1.1333333333333333,
          1.1676767676767676,
          1.202020202020202,
          1.2363636363636363,
          1.2707070707070707,
          1.305050505050505,
          1.3393939393939394,
          1.3737373737373737,
          1.408080808080808,
          1.4424242424242424,
          1.4767676767676767,
          1.511111111111111,
          1.5454545454545454,
          1.5797979797979798,
          1.614141414141414,
          1.6484848484848484,
          1.6828282828282828,
          1.7171717171717171,
          1.7515151515151515,
          1.7858585858585858,
          1.8202020202020202,
          1.8545454545454545,
          1.8888888888888888,
          1.9232323232323232,
          1.9575757575757575,
          1.9919191919191919,
          2.026262626262626,
          2.0606060606060606,
          2.094949494949495,
          2.1292929292929292,
          2.1636363636363636,
          2.197979797979798,
          2.2323232323232323,
          2.2666666666666666,
          2.301010101010101,
          2.3353535353535353,
          2.3696969696969696,
          2.404040404040404,
          2.4383838383838383,
          2.4727272727272727,
          2.507070707070707,
          2.5414141414141413,
          2.5757575757575757,
          2.61010101010101,
          2.6444444444444444,
          2.6787878787878787,
          2.713131313131313,
          2.7474747474747474,
          2.7818181818181817,
          2.816161616161616,
          2.8505050505050504,
          2.8848484848484848,
          2.919191919191919,
          2.9535353535353535,
          2.987878787878788,
          3.022222222222222,
          3.0565656565656565,
          3.090909090909091,
          3.125252525252525,
          3.1595959595959595,
          3.193939393939394,
          3.228282828282828,
          3.2626262626262625,
          3.296969696969697,
          3.3313131313131312,
          3.3656565656565656,
          3.4
         ],
         "y": [
          -2.676529052553913,
          -2.5531616834944297,
          -2.4295342006980247,
          -2.3056591992176263,
          -2.1815492993231342,
          -2.0572171452156813,
          -1.9326754037394536,
          -1.8079367630912022,
          -1.683013931527582,
          -1.557919636070449,
          -1.4326666212102421,
          -1.3072676476075753,
          -1.1817354907932194,
          -1.0560829398665164,
          -0.9303227961924535,
          -0.8044678720974564,
          -0.6785309895641106,
          -0.5525249789248294,
          -0.4264626775547553,
          -0.3003569285638557,
          -0.17422057948852354,
          -0.04806648098263769,
          0.07809251449160538,
          0.20424355397313276,
          0.3303737853113985,
          0.45647035847579315,
          0.5825204268647511,
          0.7085111486145815,
          0.8344296879077678,
          0.9602632162806867,
          1.0859989139305308,
          1.211623971021408,
          1.3371255889893798,
          1.4624909818463707,
          1.5877073774827906,
          1.7127620189687582,
          1.8376421658537354,
          1.9623350954645535,
          2.0868281042015466,
          2.211108508832812,
          2.3351636477863535,
          2.458980882440032,
          2.5825475984091737,
          2.7058512068317278,
          2.8288791456507756,
          2.9516188808943826,
          3.0740579079525077,
          3.1961837528509913,
          3.3179839735223773,
          3.439446161073504,
          3.5605579410497055,
          3.6813069746955254,
          3.8016809602117494,
          3.9216676340087284,
          4.041254771955768,
          4.160430190626513,
          4.279181748540192,
          4.3974973473985655,
          4.515364933318499,
          4.6327724980600005,
          4.749708080249601,
          4.866159766598989,
          4.9821156931187,
          5.097564046326822,
          5.2124930644525405,
          5.326891038634414,
          5.440746314113269,
          5.554047291419562,
          5.666782427555144,
          5.7789402371692296,
          5.890509293728524,
          6.001478230681339,
          6.111835742615624,
          6.221570586410746,
          6.330671582382902,
          6.43912761542413,
          6.546927636134689,
          6.6540606619487646,
          6.760515778253359,
          6.8662821395002664,
          6.971348970311006,
          7.075705566574607,
          7.1793412965381265,
          7.282245601889822,
          7.384407998834799,
          7.485818079163112,
          7.5864655113101245,
          7.686340041409086,
          7.785431494335791,
          7.883729774745212,
          7.981224868099987,
          8.077906841690718,
          8.173765845647884,
          8.268792113945343,
          8.3629759653953,
          8.456307804634587,
          8.548778123102261,
          8.640377500008302,
          8.731096603293421,
          8.82092619057977
         ]
        },
        {
         "mode": "markers",
         "name": "Callisto(data)",
         "type": "scatter",
         "x": [
          0.28705404978245497,
          1.30173770012334,
          2.2661990500055254,
          3.269851880148053,
          3.315214639995247
         ],
         "y": [
          -2.992241370183759,
          2.2446202243990725,
          6.867652706918825,
          10.586245687233989,
          10.579822424333448
         ]
        }
       ],
       "layout": {
        "template": {
         "data": {
          "bar": [
           {
            "error_x": {
             "color": "#2a3f5f"
            },
            "error_y": {
             "color": "#2a3f5f"
            },
            "marker": {
             "line": {
              "color": "#E5ECF6",
              "width": 0.5
             }
            },
            "type": "bar"
           }
          ],
          "barpolar": [
           {
            "marker": {
             "line": {
              "color": "#E5ECF6",
              "width": 0.5
             }
            },
            "type": "barpolar"
           }
          ],
          "carpet": [
           {
            "aaxis": {
             "endlinecolor": "#2a3f5f",
             "gridcolor": "white",
             "linecolor": "white",
             "minorgridcolor": "white",
             "startlinecolor": "#2a3f5f"
            },
            "baxis": {
             "endlinecolor": "#2a3f5f",
             "gridcolor": "white",
             "linecolor": "white",
             "minorgridcolor": "white",
             "startlinecolor": "#2a3f5f"
            },
            "type": "carpet"
           }
          ],
          "choropleth": [
           {
            "colorbar": {
             "outlinewidth": 0,
             "ticks": ""
            },
            "type": "choropleth"
           }
          ],
          "contour": [
           {
            "colorbar": {
             "outlinewidth": 0,
             "ticks": ""
            },
            "colorscale": [
             [
              0,
              "#0d0887"
             ],
             [
              0.1111111111111111,
              "#46039f"
             ],
             [
              0.2222222222222222,
              "#7201a8"
             ],
             [
              0.3333333333333333,
              "#9c179e"
             ],
             [
              0.4444444444444444,
              "#bd3786"
             ],
             [
              0.5555555555555556,
              "#d8576b"
             ],
             [
              0.6666666666666666,
              "#ed7953"
             ],
             [
              0.7777777777777778,
              "#fb9f3a"
             ],
             [
              0.8888888888888888,
              "#fdca26"
             ],
             [
              1,
              "#f0f921"
             ]
            ],
            "type": "contour"
           }
          ],
          "contourcarpet": [
           {
            "colorbar": {
             "outlinewidth": 0,
             "ticks": ""
            },
            "type": "contourcarpet"
           }
          ],
          "heatmap": [
           {
            "colorbar": {
             "outlinewidth": 0,
             "ticks": ""
            },
            "colorscale": [
             [
              0,
              "#0d0887"
             ],
             [
              0.1111111111111111,
              "#46039f"
             ],
             [
              0.2222222222222222,
              "#7201a8"
             ],
             [
              0.3333333333333333,
              "#9c179e"
             ],
             [
              0.4444444444444444,
              "#bd3786"
             ],
             [
              0.5555555555555556,
              "#d8576b"
             ],
             [
              0.6666666666666666,
              "#ed7953"
             ],
             [
              0.7777777777777778,
              "#fb9f3a"
             ],
             [
              0.8888888888888888,
              "#fdca26"
             ],
             [
              1,
              "#f0f921"
             ]
            ],
            "type": "heatmap"
           }
          ],
          "heatmapgl": [
           {
            "colorbar": {
             "outlinewidth": 0,
             "ticks": ""
            },
            "colorscale": [
             [
              0,
              "#0d0887"
             ],
             [
              0.1111111111111111,
              "#46039f"
             ],
             [
              0.2222222222222222,
              "#7201a8"
             ],
             [
              0.3333333333333333,
              "#9c179e"
             ],
             [
              0.4444444444444444,
              "#bd3786"
             ],
             [
              0.5555555555555556,
              "#d8576b"
             ],
             [
              0.6666666666666666,
              "#ed7953"
             ],
             [
              0.7777777777777778,
              "#fb9f3a"
             ],
             [
              0.8888888888888888,
              "#fdca26"
             ],
             [
              1,
              "#f0f921"
             ]
            ],
            "type": "heatmapgl"
           }
          ],
          "histogram": [
           {
            "marker": {
             "colorbar": {
              "outlinewidth": 0,
              "ticks": ""
             }
            },
            "type": "histogram"
           }
          ],
          "histogram2d": [
           {
            "colorbar": {
             "outlinewidth": 0,
             "ticks": ""
            },
            "colorscale": [
             [
              0,
              "#0d0887"
             ],
             [
              0.1111111111111111,
              "#46039f"
             ],
             [
              0.2222222222222222,
              "#7201a8"
             ],
             [
              0.3333333333333333,
              "#9c179e"
             ],
             [
              0.4444444444444444,
              "#bd3786"
             ],
             [
              0.5555555555555556,
              "#d8576b"
             ],
             [
              0.6666666666666666,
              "#ed7953"
             ],
             [
              0.7777777777777778,
              "#fb9f3a"
             ],
             [
              0.8888888888888888,
              "#fdca26"
             ],
             [
              1,
              "#f0f921"
             ]
            ],
            "type": "histogram2d"
           }
          ],
          "histogram2dcontour": [
           {
            "colorbar": {
             "outlinewidth": 0,
             "ticks": ""
            },
            "colorscale": [
             [
              0,
              "#0d0887"
             ],
             [
              0.1111111111111111,
              "#46039f"
             ],
             [
              0.2222222222222222,
              "#7201a8"
             ],
             [
              0.3333333333333333,
              "#9c179e"
             ],
             [
              0.4444444444444444,
              "#bd3786"
             ],
             [
              0.5555555555555556,
              "#d8576b"
             ],
             [
              0.6666666666666666,
              "#ed7953"
             ],
             [
              0.7777777777777778,
              "#fb9f3a"
             ],
             [
              0.8888888888888888,
              "#fdca26"
             ],
             [
              1,
              "#f0f921"
             ]
            ],
            "type": "histogram2dcontour"
           }
          ],
          "mesh3d": [
           {
            "colorbar": {
             "outlinewidth": 0,
             "ticks": ""
            },
            "type": "mesh3d"
           }
          ],
          "parcoords": [
           {
            "line": {
             "colorbar": {
              "outlinewidth": 0,
              "ticks": ""
             }
            },
            "type": "parcoords"
           }
          ],
          "pie": [
           {
            "automargin": true,
            "type": "pie"
           }
          ],
          "scatter": [
           {
            "marker": {
             "colorbar": {
              "outlinewidth": 0,
              "ticks": ""
             }
            },
            "type": "scatter"
           }
          ],
          "scatter3d": [
           {
            "line": {
             "colorbar": {
              "outlinewidth": 0,
              "ticks": ""
             }
            },
            "marker": {
             "colorbar": {
              "outlinewidth": 0,
              "ticks": ""
             }
            },
            "type": "scatter3d"
           }
          ],
          "scattercarpet": [
           {
            "marker": {
             "colorbar": {
              "outlinewidth": 0,
              "ticks": ""
             }
            },
            "type": "scattercarpet"
           }
          ],
          "scattergeo": [
           {
            "marker": {
             "colorbar": {
              "outlinewidth": 0,
              "ticks": ""
             }
            },
            "type": "scattergeo"
           }
          ],
          "scattergl": [
           {
            "marker": {
             "colorbar": {
              "outlinewidth": 0,
              "ticks": ""
             }
            },
            "type": "scattergl"
           }
          ],
          "scattermapbox": [
           {
            "marker": {
             "colorbar": {
              "outlinewidth": 0,
              "ticks": ""
             }
            },
            "type": "scattermapbox"
           }
          ],
          "scatterpolar": [
           {
            "marker": {
             "colorbar": {
              "outlinewidth": 0,
              "ticks": ""
             }
            },
            "type": "scatterpolar"
           }
          ],
          "scatterpolargl": [
           {
            "marker": {
             "colorbar": {
              "outlinewidth": 0,
              "ticks": ""
             }
            },
            "type": "scatterpolargl"
           }
          ],
          "scatterternary": [
           {
            "marker": {
             "colorbar": {
              "outlinewidth": 0,
              "ticks": ""
             }
            },
            "type": "scatterternary"
           }
          ],
          "surface": [
           {
            "colorbar": {
             "outlinewidth": 0,
             "ticks": ""
            },
            "colorscale": [
             [
              0,
              "#0d0887"
             ],
             [
              0.1111111111111111,
              "#46039f"
             ],
             [
              0.2222222222222222,
              "#7201a8"
             ],
             [
              0.3333333333333333,
              "#9c179e"
             ],
             [
              0.4444444444444444,
              "#bd3786"
             ],
             [
              0.5555555555555556,
              "#d8576b"
             ],
             [
              0.6666666666666666,
              "#ed7953"
             ],
             [
              0.7777777777777778,
              "#fb9f3a"
             ],
             [
              0.8888888888888888,
              "#fdca26"
             ],
             [
              1,
              "#f0f921"
             ]
            ],
            "type": "surface"
           }
          ],
          "table": [
           {
            "cells": {
             "fill": {
              "color": "#EBF0F8"
             },
             "line": {
              "color": "white"
             }
            },
            "header": {
             "fill": {
              "color": "#C8D4E3"
             },
             "line": {
              "color": "white"
             }
            },
            "type": "table"
           }
          ]
         },
         "layout": {
          "annotationdefaults": {
           "arrowcolor": "#2a3f5f",
           "arrowhead": 0,
           "arrowwidth": 1
          },
          "coloraxis": {
           "colorbar": {
            "outlinewidth": 0,
            "ticks": ""
           }
          },
          "colorscale": {
           "diverging": [
            [
             0,
             "#8e0152"
            ],
            [
             0.1,
             "#c51b7d"
            ],
            [
             0.2,
             "#de77ae"
            ],
            [
             0.3,
             "#f1b6da"
            ],
            [
             0.4,
             "#fde0ef"
            ],
            [
             0.5,
             "#f7f7f7"
            ],
            [
             0.6,
             "#e6f5d0"
            ],
            [
             0.7,
             "#b8e186"
            ],
            [
             0.8,
             "#7fbc41"
            ],
            [
             0.9,
             "#4d9221"
            ],
            [
             1,
             "#276419"
            ]
           ],
           "sequential": [
            [
             0,
             "#0d0887"
            ],
            [
             0.1111111111111111,
             "#46039f"
            ],
            [
             0.2222222222222222,
             "#7201a8"
            ],
            [
             0.3333333333333333,
             "#9c179e"
            ],
            [
             0.4444444444444444,
             "#bd3786"
            ],
            [
             0.5555555555555556,
             "#d8576b"
            ],
            [
             0.6666666666666666,
             "#ed7953"
            ],
            [
             0.7777777777777778,
             "#fb9f3a"
            ],
            [
             0.8888888888888888,
             "#fdca26"
            ],
            [
             1,
             "#f0f921"
            ]
           ],
           "sequentialminus": [
            [
             0,
             "#0d0887"
            ],
            [
             0.1111111111111111,
             "#46039f"
            ],
            [
             0.2222222222222222,
             "#7201a8"
            ],
            [
             0.3333333333333333,
             "#9c179e"
            ],
            [
             0.4444444444444444,
             "#bd3786"
            ],
            [
             0.5555555555555556,
             "#d8576b"
            ],
            [
             0.6666666666666666,
             "#ed7953"
            ],
            [
             0.7777777777777778,
             "#fb9f3a"
            ],
            [
             0.8888888888888888,
             "#fdca26"
            ],
            [
             1,
             "#f0f921"
            ]
           ]
          },
          "colorway": [
           "#636efa",
           "#EF553B",
           "#00cc96",
           "#ab63fa",
           "#FFA15A",
           "#19d3f3",
           "#FF6692",
           "#B6E880",
           "#FF97FF",
           "#FECB52"
          ],
          "font": {
           "color": "#2a3f5f"
          },
          "geo": {
           "bgcolor": "white",
           "lakecolor": "white",
           "landcolor": "#E5ECF6",
           "showlakes": true,
           "showland": true,
           "subunitcolor": "white"
          },
          "hoverlabel": {
           "align": "left"
          },
          "hovermode": "closest",
          "mapbox": {
           "style": "light"
          },
          "paper_bgcolor": "white",
          "plot_bgcolor": "#E5ECF6",
          "polar": {
           "angularaxis": {
            "gridcolor": "white",
            "linecolor": "white",
            "ticks": ""
           },
           "bgcolor": "#E5ECF6",
           "radialaxis": {
            "gridcolor": "white",
            "linecolor": "white",
            "ticks": ""
           }
          },
          "scene": {
           "xaxis": {
            "backgroundcolor": "#E5ECF6",
            "gridcolor": "white",
            "gridwidth": 2,
            "linecolor": "white",
            "showbackground": true,
            "ticks": "",
            "zerolinecolor": "white"
           },
           "yaxis": {
            "backgroundcolor": "#E5ECF6",
            "gridcolor": "white",
            "gridwidth": 2,
            "linecolor": "white",
            "showbackground": true,
            "ticks": "",
            "zerolinecolor": "white"
           },
           "zaxis": {
            "backgroundcolor": "#E5ECF6",
            "gridcolor": "white",
            "gridwidth": 2,
            "linecolor": "white",
            "showbackground": true,
            "ticks": "",
            "zerolinecolor": "white"
           }
          },
          "shapedefaults": {
           "line": {
            "color": "#2a3f5f"
           }
          },
          "ternary": {
           "aaxis": {
            "gridcolor": "white",
            "linecolor": "white",
            "ticks": ""
           },
           "baxis": {
            "gridcolor": "white",
            "linecolor": "white",
            "ticks": ""
           },
           "bgcolor": "#E5ECF6",
           "caxis": {
            "gridcolor": "white",
            "linecolor": "white",
            "ticks": ""
           }
          },
          "title": {
           "x": 0.05
          },
          "xaxis": {
           "automargin": true,
           "gridcolor": "white",
           "linecolor": "white",
           "ticks": "",
           "title": {
            "standoff": 15
           },
           "zerolinecolor": "white",
           "zerolinewidth": 2
          },
          "yaxis": {
           "automargin": true,
           "gridcolor": "white",
           "linecolor": "white",
           "ticks": "",
           "title": {
            "standoff": 15
           },
           "zerolinecolor": "white",
           "zerolinewidth": 2
          }
         }
        }
       }
      },
      "text/html": [
       "<div>\n",
       "        \n",
       "        \n",
       "            <div id=\"ad463723-2dfa-4547-b1c0-eca9f065a5e3\" class=\"plotly-graph-div\" style=\"height:525px; width:100%;\"></div>\n",
       "            <script type=\"text/javascript\">\n",
       "                require([\"plotly\"], function(Plotly) {\n",
       "                    window.PLOTLYENV=window.PLOTLYENV || {};\n",
       "                    \n",
       "                if (document.getElementById(\"ad463723-2dfa-4547-b1c0-eca9f065a5e3\")) {\n",
       "                    Plotly.newPlot(\n",
       "                        'ad463723-2dfa-4547-b1c0-eca9f065a5e3',\n",
       "                        [{\"mode\": \"lines\", \"name\": \"Callisto(fit)\", \"type\": \"scatter\", \"x\": [0.0, 0.03434343434343434, 0.06868686868686869, 0.10303030303030303, 0.13737373737373737, 0.1717171717171717, 0.20606060606060606, 0.2404040404040404, 0.27474747474747474, 0.3090909090909091, 0.3434343434343434, 0.37777777777777777, 0.4121212121212121, 0.44646464646464645, 0.4808080808080808, 0.5151515151515151, 0.5494949494949495, 0.5838383838383838, 0.6181818181818182, 0.6525252525252525, 0.6868686868686869, 0.7212121212121212, 0.7555555555555555, 0.7898989898989899, 0.8242424242424242, 0.8585858585858586, 0.8929292929292929, 0.9272727272727272, 0.9616161616161616, 0.9959595959595959, 1.0303030303030303, 1.0646464646464646, 1.098989898989899, 1.1333333333333333, 1.1676767676767676, 1.202020202020202, 1.2363636363636363, 1.2707070707070707, 1.305050505050505, 1.3393939393939394, 1.3737373737373737, 1.408080808080808, 1.4424242424242424, 1.4767676767676767, 1.511111111111111, 1.5454545454545454, 1.5797979797979798, 1.614141414141414, 1.6484848484848484, 1.6828282828282828, 1.7171717171717171, 1.7515151515151515, 1.7858585858585858, 1.8202020202020202, 1.8545454545454545, 1.8888888888888888, 1.9232323232323232, 1.9575757575757575, 1.9919191919191919, 2.026262626262626, 2.0606060606060606, 2.094949494949495, 2.1292929292929292, 2.1636363636363636, 2.197979797979798, 2.2323232323232323, 2.2666666666666666, 2.301010101010101, 2.3353535353535353, 2.3696969696969696, 2.404040404040404, 2.4383838383838383, 2.4727272727272727, 2.507070707070707, 2.5414141414141413, 2.5757575757575757, 2.61010101010101, 2.6444444444444444, 2.6787878787878787, 2.713131313131313, 2.7474747474747474, 2.7818181818181817, 2.816161616161616, 2.8505050505050504, 2.8848484848484848, 2.919191919191919, 2.9535353535353535, 2.987878787878788, 3.022222222222222, 3.0565656565656565, 3.090909090909091, 3.125252525252525, 3.1595959595959595, 3.193939393939394, 3.228282828282828, 3.2626262626262625, 3.296969696969697, 3.3313131313131312, 3.3656565656565656, 3.4], \"y\": [-2.676529052553913, -2.5531616834944297, -2.4295342006980247, -2.3056591992176263, -2.1815492993231342, -2.0572171452156813, -1.9326754037394536, -1.8079367630912022, -1.683013931527582, -1.557919636070449, -1.4326666212102421, -1.3072676476075753, -1.1817354907932194, -1.0560829398665164, -0.9303227961924535, -0.8044678720974564, -0.6785309895641106, -0.5525249789248294, -0.4264626775547553, -0.3003569285638557, -0.17422057948852354, -0.04806648098263769, 0.07809251449160538, 0.20424355397313276, 0.3303737853113985, 0.45647035847579315, 0.5825204268647511, 0.7085111486145815, 0.8344296879077678, 0.9602632162806867, 1.0859989139305308, 1.211623971021408, 1.3371255889893798, 1.4624909818463707, 1.5877073774827906, 1.7127620189687582, 1.8376421658537354, 1.9623350954645535, 2.0868281042015466, 2.211108508832812, 2.3351636477863535, 2.458980882440032, 2.5825475984091737, 2.7058512068317278, 2.8288791456507756, 2.9516188808943826, 3.0740579079525077, 3.1961837528509913, 3.3179839735223773, 3.439446161073504, 3.5605579410497055, 3.6813069746955254, 3.8016809602117494, 3.9216676340087284, 4.041254771955768, 4.160430190626513, 4.279181748540192, 4.3974973473985655, 4.515364933318499, 4.6327724980600005, 4.749708080249601, 4.866159766598989, 4.9821156931187, 5.097564046326822, 5.2124930644525405, 5.326891038634414, 5.440746314113269, 5.554047291419562, 5.666782427555144, 5.7789402371692296, 5.890509293728524, 6.001478230681339, 6.111835742615624, 6.221570586410746, 6.330671582382902, 6.43912761542413, 6.546927636134689, 6.6540606619487646, 6.760515778253359, 6.8662821395002664, 6.971348970311006, 7.075705566574607, 7.1793412965381265, 7.282245601889822, 7.384407998834799, 7.485818079163112, 7.5864655113101245, 7.686340041409086, 7.785431494335791, 7.883729774745212, 7.981224868099987, 8.077906841690718, 8.173765845647884, 8.268792113945343, 8.3629759653953, 8.456307804634587, 8.548778123102261, 8.640377500008302, 8.731096603293421, 8.82092619057977]}, {\"mode\": \"markers\", \"name\": \"Callisto(data)\", \"type\": \"scatter\", \"x\": [0.28705404978245497, 1.30173770012334, 2.2661990500055254, 3.269851880148053, 3.315214639995247], \"y\": [-2.992241370183759, 2.2446202243990725, 6.867652706918825, 10.586245687233989, 10.579822424333448]}],\n",
       "                        {\"template\": {\"data\": {\"bar\": [{\"error_x\": {\"color\": \"#2a3f5f\"}, \"error_y\": {\"color\": \"#2a3f5f\"}, \"marker\": {\"line\": {\"color\": \"#E5ECF6\", \"width\": 0.5}}, \"type\": \"bar\"}], \"barpolar\": [{\"marker\": {\"line\": {\"color\": \"#E5ECF6\", \"width\": 0.5}}, \"type\": \"barpolar\"}], \"carpet\": [{\"aaxis\": {\"endlinecolor\": \"#2a3f5f\", \"gridcolor\": \"white\", \"linecolor\": \"white\", \"minorgridcolor\": \"white\", \"startlinecolor\": \"#2a3f5f\"}, \"baxis\": {\"endlinecolor\": \"#2a3f5f\", \"gridcolor\": \"white\", \"linecolor\": \"white\", \"minorgridcolor\": \"white\", \"startlinecolor\": \"#2a3f5f\"}, \"type\": \"carpet\"}], \"choropleth\": [{\"colorbar\": {\"outlinewidth\": 0, \"ticks\": \"\"}, \"type\": \"choropleth\"}], \"contour\": [{\"colorbar\": {\"outlinewidth\": 0, \"ticks\": \"\"}, \"colorscale\": [[0.0, \"#0d0887\"], [0.1111111111111111, \"#46039f\"], [0.2222222222222222, \"#7201a8\"], [0.3333333333333333, \"#9c179e\"], [0.4444444444444444, \"#bd3786\"], [0.5555555555555556, \"#d8576b\"], [0.6666666666666666, \"#ed7953\"], [0.7777777777777778, \"#fb9f3a\"], [0.8888888888888888, \"#fdca26\"], [1.0, \"#f0f921\"]], \"type\": \"contour\"}], \"contourcarpet\": [{\"colorbar\": {\"outlinewidth\": 0, \"ticks\": \"\"}, \"type\": \"contourcarpet\"}], \"heatmap\": [{\"colorbar\": {\"outlinewidth\": 0, \"ticks\": \"\"}, \"colorscale\": [[0.0, \"#0d0887\"], [0.1111111111111111, \"#46039f\"], [0.2222222222222222, \"#7201a8\"], [0.3333333333333333, \"#9c179e\"], [0.4444444444444444, \"#bd3786\"], [0.5555555555555556, \"#d8576b\"], [0.6666666666666666, \"#ed7953\"], [0.7777777777777778, \"#fb9f3a\"], [0.8888888888888888, \"#fdca26\"], [1.0, \"#f0f921\"]], \"type\": \"heatmap\"}], \"heatmapgl\": [{\"colorbar\": {\"outlinewidth\": 0, \"ticks\": \"\"}, \"colorscale\": [[0.0, \"#0d0887\"], [0.1111111111111111, \"#46039f\"], [0.2222222222222222, \"#7201a8\"], [0.3333333333333333, \"#9c179e\"], [0.4444444444444444, \"#bd3786\"], [0.5555555555555556, \"#d8576b\"], [0.6666666666666666, \"#ed7953\"], [0.7777777777777778, \"#fb9f3a\"], [0.8888888888888888, \"#fdca26\"], [1.0, \"#f0f921\"]], \"type\": \"heatmapgl\"}], \"histogram\": [{\"marker\": {\"colorbar\": {\"outlinewidth\": 0, \"ticks\": \"\"}}, \"type\": \"histogram\"}], \"histogram2d\": [{\"colorbar\": {\"outlinewidth\": 0, \"ticks\": \"\"}, \"colorscale\": [[0.0, \"#0d0887\"], [0.1111111111111111, \"#46039f\"], [0.2222222222222222, \"#7201a8\"], [0.3333333333333333, \"#9c179e\"], [0.4444444444444444, \"#bd3786\"], [0.5555555555555556, \"#d8576b\"], [0.6666666666666666, \"#ed7953\"], [0.7777777777777778, \"#fb9f3a\"], [0.8888888888888888, \"#fdca26\"], [1.0, \"#f0f921\"]], \"type\": \"histogram2d\"}], \"histogram2dcontour\": [{\"colorbar\": {\"outlinewidth\": 0, \"ticks\": \"\"}, \"colorscale\": [[0.0, \"#0d0887\"], [0.1111111111111111, \"#46039f\"], [0.2222222222222222, \"#7201a8\"], [0.3333333333333333, \"#9c179e\"], [0.4444444444444444, \"#bd3786\"], [0.5555555555555556, \"#d8576b\"], [0.6666666666666666, \"#ed7953\"], [0.7777777777777778, \"#fb9f3a\"], [0.8888888888888888, \"#fdca26\"], [1.0, \"#f0f921\"]], \"type\": \"histogram2dcontour\"}], \"mesh3d\": [{\"colorbar\": {\"outlinewidth\": 0, \"ticks\": \"\"}, \"type\": \"mesh3d\"}], \"parcoords\": [{\"line\": {\"colorbar\": {\"outlinewidth\": 0, \"ticks\": \"\"}}, \"type\": \"parcoords\"}], \"pie\": [{\"automargin\": true, \"type\": \"pie\"}], \"scatter\": [{\"marker\": {\"colorbar\": {\"outlinewidth\": 0, \"ticks\": \"\"}}, \"type\": \"scatter\"}], \"scatter3d\": [{\"line\": {\"colorbar\": {\"outlinewidth\": 0, \"ticks\": \"\"}}, \"marker\": {\"colorbar\": {\"outlinewidth\": 0, \"ticks\": \"\"}}, \"type\": \"scatter3d\"}], \"scattercarpet\": [{\"marker\": {\"colorbar\": {\"outlinewidth\": 0, \"ticks\": \"\"}}, \"type\": \"scattercarpet\"}], \"scattergeo\": [{\"marker\": {\"colorbar\": {\"outlinewidth\": 0, \"ticks\": \"\"}}, \"type\": \"scattergeo\"}], \"scattergl\": [{\"marker\": {\"colorbar\": {\"outlinewidth\": 0, \"ticks\": \"\"}}, \"type\": \"scattergl\"}], \"scattermapbox\": [{\"marker\": {\"colorbar\": {\"outlinewidth\": 0, \"ticks\": \"\"}}, \"type\": \"scattermapbox\"}], \"scatterpolar\": [{\"marker\": {\"colorbar\": {\"outlinewidth\": 0, \"ticks\": \"\"}}, \"type\": \"scatterpolar\"}], \"scatterpolargl\": [{\"marker\": {\"colorbar\": {\"outlinewidth\": 0, \"ticks\": \"\"}}, \"type\": \"scatterpolargl\"}], \"scatterternary\": [{\"marker\": {\"colorbar\": {\"outlinewidth\": 0, \"ticks\": \"\"}}, \"type\": \"scatterternary\"}], \"surface\": [{\"colorbar\": {\"outlinewidth\": 0, \"ticks\": \"\"}, \"colorscale\": [[0.0, \"#0d0887\"], [0.1111111111111111, \"#46039f\"], [0.2222222222222222, \"#7201a8\"], [0.3333333333333333, \"#9c179e\"], [0.4444444444444444, \"#bd3786\"], [0.5555555555555556, \"#d8576b\"], [0.6666666666666666, \"#ed7953\"], [0.7777777777777778, \"#fb9f3a\"], [0.8888888888888888, \"#fdca26\"], [1.0, \"#f0f921\"]], \"type\": \"surface\"}], \"table\": [{\"cells\": {\"fill\": {\"color\": \"#EBF0F8\"}, \"line\": {\"color\": \"white\"}}, \"header\": {\"fill\": {\"color\": \"#C8D4E3\"}, \"line\": {\"color\": \"white\"}}, \"type\": \"table\"}]}, \"layout\": {\"annotationdefaults\": {\"arrowcolor\": \"#2a3f5f\", \"arrowhead\": 0, \"arrowwidth\": 1}, \"coloraxis\": {\"colorbar\": {\"outlinewidth\": 0, \"ticks\": \"\"}}, \"colorscale\": {\"diverging\": [[0, \"#8e0152\"], [0.1, \"#c51b7d\"], [0.2, \"#de77ae\"], [0.3, \"#f1b6da\"], [0.4, \"#fde0ef\"], [0.5, \"#f7f7f7\"], [0.6, \"#e6f5d0\"], [0.7, \"#b8e186\"], [0.8, \"#7fbc41\"], [0.9, \"#4d9221\"], [1, \"#276419\"]], \"sequential\": [[0.0, \"#0d0887\"], [0.1111111111111111, \"#46039f\"], [0.2222222222222222, \"#7201a8\"], [0.3333333333333333, \"#9c179e\"], [0.4444444444444444, \"#bd3786\"], [0.5555555555555556, \"#d8576b\"], [0.6666666666666666, \"#ed7953\"], [0.7777777777777778, \"#fb9f3a\"], [0.8888888888888888, \"#fdca26\"], [1.0, \"#f0f921\"]], \"sequentialminus\": [[0.0, \"#0d0887\"], [0.1111111111111111, \"#46039f\"], [0.2222222222222222, \"#7201a8\"], [0.3333333333333333, \"#9c179e\"], [0.4444444444444444, \"#bd3786\"], [0.5555555555555556, \"#d8576b\"], [0.6666666666666666, \"#ed7953\"], [0.7777777777777778, \"#fb9f3a\"], [0.8888888888888888, \"#fdca26\"], [1.0, \"#f0f921\"]]}, \"colorway\": [\"#636efa\", \"#EF553B\", \"#00cc96\", \"#ab63fa\", \"#FFA15A\", \"#19d3f3\", \"#FF6692\", \"#B6E880\", \"#FF97FF\", \"#FECB52\"], \"font\": {\"color\": \"#2a3f5f\"}, \"geo\": {\"bgcolor\": \"white\", \"lakecolor\": \"white\", \"landcolor\": \"#E5ECF6\", \"showlakes\": true, \"showland\": true, \"subunitcolor\": \"white\"}, \"hoverlabel\": {\"align\": \"left\"}, \"hovermode\": \"closest\", \"mapbox\": {\"style\": \"light\"}, \"paper_bgcolor\": \"white\", \"plot_bgcolor\": \"#E5ECF6\", \"polar\": {\"angularaxis\": {\"gridcolor\": \"white\", \"linecolor\": \"white\", \"ticks\": \"\"}, \"bgcolor\": \"#E5ECF6\", \"radialaxis\": {\"gridcolor\": \"white\", \"linecolor\": \"white\", \"ticks\": \"\"}}, \"scene\": {\"xaxis\": {\"backgroundcolor\": \"#E5ECF6\", \"gridcolor\": \"white\", \"gridwidth\": 2, \"linecolor\": \"white\", \"showbackground\": true, \"ticks\": \"\", \"zerolinecolor\": \"white\"}, \"yaxis\": {\"backgroundcolor\": \"#E5ECF6\", \"gridcolor\": \"white\", \"gridwidth\": 2, \"linecolor\": \"white\", \"showbackground\": true, \"ticks\": \"\", \"zerolinecolor\": \"white\"}, \"zaxis\": {\"backgroundcolor\": \"#E5ECF6\", \"gridcolor\": \"white\", \"gridwidth\": 2, \"linecolor\": \"white\", \"showbackground\": true, \"ticks\": \"\", \"zerolinecolor\": \"white\"}}, \"shapedefaults\": {\"line\": {\"color\": \"#2a3f5f\"}}, \"ternary\": {\"aaxis\": {\"gridcolor\": \"white\", \"linecolor\": \"white\", \"ticks\": \"\"}, \"baxis\": {\"gridcolor\": \"white\", \"linecolor\": \"white\", \"ticks\": \"\"}, \"bgcolor\": \"#E5ECF6\", \"caxis\": {\"gridcolor\": \"white\", \"linecolor\": \"white\", \"ticks\": \"\"}}, \"title\": {\"x\": 0.05}, \"xaxis\": {\"automargin\": true, \"gridcolor\": \"white\", \"linecolor\": \"white\", \"ticks\": \"\", \"title\": {\"standoff\": 15}, \"zerolinecolor\": \"white\", \"zerolinewidth\": 2}, \"yaxis\": {\"automargin\": true, \"gridcolor\": \"white\", \"linecolor\": \"white\", \"ticks\": \"\", \"title\": {\"standoff\": 15}, \"zerolinecolor\": \"white\", \"zerolinewidth\": 2}}}},\n",
       "                        {\"responsive\": true}\n",
       "                    ).then(function(){\n",
       "                            \n",
       "var gd = document.getElementById('ad463723-2dfa-4547-b1c0-eca9f065a5e3');\n",
       "var x = new MutationObserver(function (mutations, observer) {{\n",
       "        var display = window.getComputedStyle(gd).display;\n",
       "        if (!display || display === 'none') {{\n",
       "            console.log([gd, 'removed!']);\n",
       "            Plotly.purge(gd);\n",
       "            observer.disconnect();\n",
       "        }}\n",
       "}});\n",
       "\n",
       "// Listen for the removal of the full notebook cells\n",
       "var notebookContainer = gd.closest('#notebook-container');\n",
       "if (notebookContainer) {{\n",
       "    x.observe(notebookContainer, {childList: true});\n",
       "}}\n",
       "\n",
       "// Listen for the clearing of the current output cell\n",
       "var outputEl = gd.closest('.output');\n",
       "if (outputEl) {{\n",
       "    x.observe(outputEl, {childList: true});\n",
       "}}\n",
       "\n",
       "                        })\n",
       "                };\n",
       "                });\n",
       "            </script>\n",
       "        </div>"
      ]
     },
     "metadata": {},
     "output_type": "display_data"
    }
   ],
   "source": [
    "fig2 = go.Figure()\n",
    "\n",
    "\n",
    "fig2.add_trace(go.Scatter(x = t0, y = (p1calistx[0])*np.sin(2*t1*np.pi/p1calistx[1] + p1calistx[2]+1.3),mode='lines', name='Callisto(fit)'))\n",
    "fig2.add_trace(go.Scatter(x = selectdata(calistdat,0), y = selectdata(calistdat,1), mode='markers', name='Callisto(data)'))"
   ]
  },
  {
   "cell_type": "code",
   "execution_count": 183,
   "metadata": {},
   "outputs": [
    {
     "data": {
      "application/vnd.plotly.v1+json": {
       "config": {
        "plotlyServerURL": "https://plot.ly"
       },
       "data": [
        {
         "mode": "lines",
         "name": "Io(fit)",
         "type": "scatter",
         "x": [
          0,
          0.03434343434343434,
          0.06868686868686869,
          0.10303030303030303,
          0.13737373737373737,
          0.1717171717171717,
          0.20606060606060606,
          0.2404040404040404,
          0.27474747474747474,
          0.3090909090909091,
          0.3434343434343434,
          0.37777777777777777,
          0.4121212121212121,
          0.44646464646464645,
          0.4808080808080808,
          0.5151515151515151,
          0.5494949494949495,
          0.5838383838383838,
          0.6181818181818182,
          0.6525252525252525,
          0.6868686868686869,
          0.7212121212121212,
          0.7555555555555555,
          0.7898989898989899,
          0.8242424242424242,
          0.8585858585858586,
          0.8929292929292929,
          0.9272727272727272,
          0.9616161616161616,
          0.9959595959595959,
          1.0303030303030303,
          1.0646464646464646,
          1.098989898989899,
          1.1333333333333333,
          1.1676767676767676,
          1.202020202020202,
          1.2363636363636363,
          1.2707070707070707,
          1.305050505050505,
          1.3393939393939394,
          1.3737373737373737,
          1.408080808080808,
          1.4424242424242424,
          1.4767676767676767,
          1.511111111111111,
          1.5454545454545454,
          1.5797979797979798,
          1.614141414141414,
          1.6484848484848484,
          1.6828282828282828,
          1.7171717171717171,
          1.7515151515151515,
          1.7858585858585858,
          1.8202020202020202,
          1.8545454545454545,
          1.8888888888888888,
          1.9232323232323232,
          1.9575757575757575,
          1.9919191919191919,
          2.026262626262626,
          2.0606060606060606,
          2.094949494949495,
          2.1292929292929292,
          2.1636363636363636,
          2.197979797979798,
          2.2323232323232323,
          2.2666666666666666,
          2.301010101010101,
          2.3353535353535353,
          2.3696969696969696,
          2.404040404040404,
          2.4383838383838383,
          2.4727272727272727,
          2.507070707070707,
          2.5414141414141413,
          2.5757575757575757,
          2.61010101010101,
          2.6444444444444444,
          2.6787878787878787,
          2.713131313131313,
          2.7474747474747474,
          2.7818181818181817,
          2.816161616161616,
          2.8505050505050504,
          2.8848484848484848,
          2.919191919191919,
          2.9535353535353535,
          2.987878787878788,
          3.022222222222222,
          3.0565656565656565,
          3.090909090909091,
          3.125252525252525,
          3.1595959595959595,
          3.193939393939394,
          3.228282828282828,
          3.2626262626262625,
          3.296969696969697,
          3.3313131313131312,
          3.3656565656565656,
          3.4
         ],
         "y": [
          -2.0388058548985115,
          -1.8390812265608514,
          -1.6266873757609701,
          -1.4030874597028733,
          -1.16982183290607,
          -0.9284974358775843,
          -0.6807767250806566,
          -0.42836622046027867,
          -0.17300474942040187,
          0.08354853176128506,
          0.339526256561887,
          0.5931650234012974,
          0.842717543516126,
          1.0864646778342666,
          1.3227272799294525,
          1.5498777634709584,
          1.766351314481658,
          1.970656671164448,
          2.161386397036013,
          2.3372265765975073,
          2.4969658667497248,
          2.63950384159866,
          2.7638585731649505,
          2.8691733957746264,
          2.954722807531986,
          3.0199174682200742,
          3.064308259198735,
          3.0875893773321086,
          3.08960044163183,
          3.070327598103508,
          3.0299036151853227,
          2.968606969121283,
          2.8868599255698912,
          2.78522563066381,
          2.664404231559861,
          2.5252280532045144,
          2.368655864541508,
          2.195766273661065,
          2.0077502973908494,
          1.8059031565157988,
          1.5916153531486896,
          1.3663630917184404,
          1.1316981095648648,
          0.8892369871956761,
          0.640650011846364,
          0.38764967106040177,
          0.1319788555563299,
          -0.12460114734914303,
          -0.38032278705019884,
          -0.6334244261080034,
          -0.8821624759716626,
          -1.1248234083624804,
          -1.359735559576353,
          -1.58528064638585,
          -1.7999049142102799,
          -2.002129840755133,
          -2.1905623213849172,
          -2.363904266063289,
          -2.520961541748459,
          -2.660652198640598,
          -2.7820139236115384,
          -2.884210669471069,
          -2.9665384144013878,
          -3.0284300118837453,
          -3.0694590977066416,
          -3.0893430271406315,
          -3.0879448220458787,
          -3.0652741144990623,
          -3.021487080439089,
          -2.9568853637887282,
          -2.8719139984637496,
          -2.7671583425846573,
          -2.643340046010816,
          -2.5013120789762286,
          -2.3420528560741434,
          -2.1666594960696006,
          -1.9763402639724361,
          -1.7724062474363498,
          -1.5562623248243868,
          -1.3293974871609207,
          -1.0933745806409496,
          -0.849819540359497,
          -0.6004101894287692,
          -0.3468646806445348,
          -0.09092966032601074,
          0.16563176413304095,
          0.42105217011161716,
          0.6735719953359,
          0.9214516593046626,
          1.1629835470625103,
          1.3965037727660399,
          1.6204036420051688,
          1.8331407339168722,
          2.0332495267479542,
          2.2193514936686167,
          2.3901645992877425,
          2.544512131449662,
          2.681330807471044,
          2.799678098974961,
          2.898738724862233
         ]
        },
        {
         "mode": "markers",
         "name": "Io(data)",
         "type": "scatter",
         "x": [
          0.28705404978245497,
          2.2661990500055254,
          3.269851880148053,
          3.315214639995247
         ],
         "y": [
          -0.19269239112486847,
          -1.4751151714330673,
          2.4752683038999246,
          2.5203794733504705
         ]
        }
       ],
       "layout": {
        "template": {
         "data": {
          "bar": [
           {
            "error_x": {
             "color": "#2a3f5f"
            },
            "error_y": {
             "color": "#2a3f5f"
            },
            "marker": {
             "line": {
              "color": "#E5ECF6",
              "width": 0.5
             }
            },
            "type": "bar"
           }
          ],
          "barpolar": [
           {
            "marker": {
             "line": {
              "color": "#E5ECF6",
              "width": 0.5
             }
            },
            "type": "barpolar"
           }
          ],
          "carpet": [
           {
            "aaxis": {
             "endlinecolor": "#2a3f5f",
             "gridcolor": "white",
             "linecolor": "white",
             "minorgridcolor": "white",
             "startlinecolor": "#2a3f5f"
            },
            "baxis": {
             "endlinecolor": "#2a3f5f",
             "gridcolor": "white",
             "linecolor": "white",
             "minorgridcolor": "white",
             "startlinecolor": "#2a3f5f"
            },
            "type": "carpet"
           }
          ],
          "choropleth": [
           {
            "colorbar": {
             "outlinewidth": 0,
             "ticks": ""
            },
            "type": "choropleth"
           }
          ],
          "contour": [
           {
            "colorbar": {
             "outlinewidth": 0,
             "ticks": ""
            },
            "colorscale": [
             [
              0,
              "#0d0887"
             ],
             [
              0.1111111111111111,
              "#46039f"
             ],
             [
              0.2222222222222222,
              "#7201a8"
             ],
             [
              0.3333333333333333,
              "#9c179e"
             ],
             [
              0.4444444444444444,
              "#bd3786"
             ],
             [
              0.5555555555555556,
              "#d8576b"
             ],
             [
              0.6666666666666666,
              "#ed7953"
             ],
             [
              0.7777777777777778,
              "#fb9f3a"
             ],
             [
              0.8888888888888888,
              "#fdca26"
             ],
             [
              1,
              "#f0f921"
             ]
            ],
            "type": "contour"
           }
          ],
          "contourcarpet": [
           {
            "colorbar": {
             "outlinewidth": 0,
             "ticks": ""
            },
            "type": "contourcarpet"
           }
          ],
          "heatmap": [
           {
            "colorbar": {
             "outlinewidth": 0,
             "ticks": ""
            },
            "colorscale": [
             [
              0,
              "#0d0887"
             ],
             [
              0.1111111111111111,
              "#46039f"
             ],
             [
              0.2222222222222222,
              "#7201a8"
             ],
             [
              0.3333333333333333,
              "#9c179e"
             ],
             [
              0.4444444444444444,
              "#bd3786"
             ],
             [
              0.5555555555555556,
              "#d8576b"
             ],
             [
              0.6666666666666666,
              "#ed7953"
             ],
             [
              0.7777777777777778,
              "#fb9f3a"
             ],
             [
              0.8888888888888888,
              "#fdca26"
             ],
             [
              1,
              "#f0f921"
             ]
            ],
            "type": "heatmap"
           }
          ],
          "heatmapgl": [
           {
            "colorbar": {
             "outlinewidth": 0,
             "ticks": ""
            },
            "colorscale": [
             [
              0,
              "#0d0887"
             ],
             [
              0.1111111111111111,
              "#46039f"
             ],
             [
              0.2222222222222222,
              "#7201a8"
             ],
             [
              0.3333333333333333,
              "#9c179e"
             ],
             [
              0.4444444444444444,
              "#bd3786"
             ],
             [
              0.5555555555555556,
              "#d8576b"
             ],
             [
              0.6666666666666666,
              "#ed7953"
             ],
             [
              0.7777777777777778,
              "#fb9f3a"
             ],
             [
              0.8888888888888888,
              "#fdca26"
             ],
             [
              1,
              "#f0f921"
             ]
            ],
            "type": "heatmapgl"
           }
          ],
          "histogram": [
           {
            "marker": {
             "colorbar": {
              "outlinewidth": 0,
              "ticks": ""
             }
            },
            "type": "histogram"
           }
          ],
          "histogram2d": [
           {
            "colorbar": {
             "outlinewidth": 0,
             "ticks": ""
            },
            "colorscale": [
             [
              0,
              "#0d0887"
             ],
             [
              0.1111111111111111,
              "#46039f"
             ],
             [
              0.2222222222222222,
              "#7201a8"
             ],
             [
              0.3333333333333333,
              "#9c179e"
             ],
             [
              0.4444444444444444,
              "#bd3786"
             ],
             [
              0.5555555555555556,
              "#d8576b"
             ],
             [
              0.6666666666666666,
              "#ed7953"
             ],
             [
              0.7777777777777778,
              "#fb9f3a"
             ],
             [
              0.8888888888888888,
              "#fdca26"
             ],
             [
              1,
              "#f0f921"
             ]
            ],
            "type": "histogram2d"
           }
          ],
          "histogram2dcontour": [
           {
            "colorbar": {
             "outlinewidth": 0,
             "ticks": ""
            },
            "colorscale": [
             [
              0,
              "#0d0887"
             ],
             [
              0.1111111111111111,
              "#46039f"
             ],
             [
              0.2222222222222222,
              "#7201a8"
             ],
             [
              0.3333333333333333,
              "#9c179e"
             ],
             [
              0.4444444444444444,
              "#bd3786"
             ],
             [
              0.5555555555555556,
              "#d8576b"
             ],
             [
              0.6666666666666666,
              "#ed7953"
             ],
             [
              0.7777777777777778,
              "#fb9f3a"
             ],
             [
              0.8888888888888888,
              "#fdca26"
             ],
             [
              1,
              "#f0f921"
             ]
            ],
            "type": "histogram2dcontour"
           }
          ],
          "mesh3d": [
           {
            "colorbar": {
             "outlinewidth": 0,
             "ticks": ""
            },
            "type": "mesh3d"
           }
          ],
          "parcoords": [
           {
            "line": {
             "colorbar": {
              "outlinewidth": 0,
              "ticks": ""
             }
            },
            "type": "parcoords"
           }
          ],
          "pie": [
           {
            "automargin": true,
            "type": "pie"
           }
          ],
          "scatter": [
           {
            "marker": {
             "colorbar": {
              "outlinewidth": 0,
              "ticks": ""
             }
            },
            "type": "scatter"
           }
          ],
          "scatter3d": [
           {
            "line": {
             "colorbar": {
              "outlinewidth": 0,
              "ticks": ""
             }
            },
            "marker": {
             "colorbar": {
              "outlinewidth": 0,
              "ticks": ""
             }
            },
            "type": "scatter3d"
           }
          ],
          "scattercarpet": [
           {
            "marker": {
             "colorbar": {
              "outlinewidth": 0,
              "ticks": ""
             }
            },
            "type": "scattercarpet"
           }
          ],
          "scattergeo": [
           {
            "marker": {
             "colorbar": {
              "outlinewidth": 0,
              "ticks": ""
             }
            },
            "type": "scattergeo"
           }
          ],
          "scattergl": [
           {
            "marker": {
             "colorbar": {
              "outlinewidth": 0,
              "ticks": ""
             }
            },
            "type": "scattergl"
           }
          ],
          "scattermapbox": [
           {
            "marker": {
             "colorbar": {
              "outlinewidth": 0,
              "ticks": ""
             }
            },
            "type": "scattermapbox"
           }
          ],
          "scatterpolar": [
           {
            "marker": {
             "colorbar": {
              "outlinewidth": 0,
              "ticks": ""
             }
            },
            "type": "scatterpolar"
           }
          ],
          "scatterpolargl": [
           {
            "marker": {
             "colorbar": {
              "outlinewidth": 0,
              "ticks": ""
             }
            },
            "type": "scatterpolargl"
           }
          ],
          "scatterternary": [
           {
            "marker": {
             "colorbar": {
              "outlinewidth": 0,
              "ticks": ""
             }
            },
            "type": "scatterternary"
           }
          ],
          "surface": [
           {
            "colorbar": {
             "outlinewidth": 0,
             "ticks": ""
            },
            "colorscale": [
             [
              0,
              "#0d0887"
             ],
             [
              0.1111111111111111,
              "#46039f"
             ],
             [
              0.2222222222222222,
              "#7201a8"
             ],
             [
              0.3333333333333333,
              "#9c179e"
             ],
             [
              0.4444444444444444,
              "#bd3786"
             ],
             [
              0.5555555555555556,
              "#d8576b"
             ],
             [
              0.6666666666666666,
              "#ed7953"
             ],
             [
              0.7777777777777778,
              "#fb9f3a"
             ],
             [
              0.8888888888888888,
              "#fdca26"
             ],
             [
              1,
              "#f0f921"
             ]
            ],
            "type": "surface"
           }
          ],
          "table": [
           {
            "cells": {
             "fill": {
              "color": "#EBF0F8"
             },
             "line": {
              "color": "white"
             }
            },
            "header": {
             "fill": {
              "color": "#C8D4E3"
             },
             "line": {
              "color": "white"
             }
            },
            "type": "table"
           }
          ]
         },
         "layout": {
          "annotationdefaults": {
           "arrowcolor": "#2a3f5f",
           "arrowhead": 0,
           "arrowwidth": 1
          },
          "coloraxis": {
           "colorbar": {
            "outlinewidth": 0,
            "ticks": ""
           }
          },
          "colorscale": {
           "diverging": [
            [
             0,
             "#8e0152"
            ],
            [
             0.1,
             "#c51b7d"
            ],
            [
             0.2,
             "#de77ae"
            ],
            [
             0.3,
             "#f1b6da"
            ],
            [
             0.4,
             "#fde0ef"
            ],
            [
             0.5,
             "#f7f7f7"
            ],
            [
             0.6,
             "#e6f5d0"
            ],
            [
             0.7,
             "#b8e186"
            ],
            [
             0.8,
             "#7fbc41"
            ],
            [
             0.9,
             "#4d9221"
            ],
            [
             1,
             "#276419"
            ]
           ],
           "sequential": [
            [
             0,
             "#0d0887"
            ],
            [
             0.1111111111111111,
             "#46039f"
            ],
            [
             0.2222222222222222,
             "#7201a8"
            ],
            [
             0.3333333333333333,
             "#9c179e"
            ],
            [
             0.4444444444444444,
             "#bd3786"
            ],
            [
             0.5555555555555556,
             "#d8576b"
            ],
            [
             0.6666666666666666,
             "#ed7953"
            ],
            [
             0.7777777777777778,
             "#fb9f3a"
            ],
            [
             0.8888888888888888,
             "#fdca26"
            ],
            [
             1,
             "#f0f921"
            ]
           ],
           "sequentialminus": [
            [
             0,
             "#0d0887"
            ],
            [
             0.1111111111111111,
             "#46039f"
            ],
            [
             0.2222222222222222,
             "#7201a8"
            ],
            [
             0.3333333333333333,
             "#9c179e"
            ],
            [
             0.4444444444444444,
             "#bd3786"
            ],
            [
             0.5555555555555556,
             "#d8576b"
            ],
            [
             0.6666666666666666,
             "#ed7953"
            ],
            [
             0.7777777777777778,
             "#fb9f3a"
            ],
            [
             0.8888888888888888,
             "#fdca26"
            ],
            [
             1,
             "#f0f921"
            ]
           ]
          },
          "colorway": [
           "#636efa",
           "#EF553B",
           "#00cc96",
           "#ab63fa",
           "#FFA15A",
           "#19d3f3",
           "#FF6692",
           "#B6E880",
           "#FF97FF",
           "#FECB52"
          ],
          "font": {
           "color": "#2a3f5f"
          },
          "geo": {
           "bgcolor": "white",
           "lakecolor": "white",
           "landcolor": "#E5ECF6",
           "showlakes": true,
           "showland": true,
           "subunitcolor": "white"
          },
          "hoverlabel": {
           "align": "left"
          },
          "hovermode": "closest",
          "mapbox": {
           "style": "light"
          },
          "paper_bgcolor": "white",
          "plot_bgcolor": "#E5ECF6",
          "polar": {
           "angularaxis": {
            "gridcolor": "white",
            "linecolor": "white",
            "ticks": ""
           },
           "bgcolor": "#E5ECF6",
           "radialaxis": {
            "gridcolor": "white",
            "linecolor": "white",
            "ticks": ""
           }
          },
          "scene": {
           "xaxis": {
            "backgroundcolor": "#E5ECF6",
            "gridcolor": "white",
            "gridwidth": 2,
            "linecolor": "white",
            "showbackground": true,
            "ticks": "",
            "zerolinecolor": "white"
           },
           "yaxis": {
            "backgroundcolor": "#E5ECF6",
            "gridcolor": "white",
            "gridwidth": 2,
            "linecolor": "white",
            "showbackground": true,
            "ticks": "",
            "zerolinecolor": "white"
           },
           "zaxis": {
            "backgroundcolor": "#E5ECF6",
            "gridcolor": "white",
            "gridwidth": 2,
            "linecolor": "white",
            "showbackground": true,
            "ticks": "",
            "zerolinecolor": "white"
           }
          },
          "shapedefaults": {
           "line": {
            "color": "#2a3f5f"
           }
          },
          "ternary": {
           "aaxis": {
            "gridcolor": "white",
            "linecolor": "white",
            "ticks": ""
           },
           "baxis": {
            "gridcolor": "white",
            "linecolor": "white",
            "ticks": ""
           },
           "bgcolor": "#E5ECF6",
           "caxis": {
            "gridcolor": "white",
            "linecolor": "white",
            "ticks": ""
           }
          },
          "title": {
           "x": 0.05
          },
          "xaxis": {
           "automargin": true,
           "gridcolor": "white",
           "linecolor": "white",
           "ticks": "",
           "title": {
            "standoff": 15
           },
           "zerolinecolor": "white",
           "zerolinewidth": 2
          },
          "yaxis": {
           "automargin": true,
           "gridcolor": "white",
           "linecolor": "white",
           "ticks": "",
           "title": {
            "standoff": 15
           },
           "zerolinecolor": "white",
           "zerolinewidth": 2
          }
         }
        }
       }
      },
      "text/html": [
       "<div>\n",
       "        \n",
       "        \n",
       "            <div id=\"b232c17b-337a-41c2-9951-9313c71d8ee1\" class=\"plotly-graph-div\" style=\"height:525px; width:100%;\"></div>\n",
       "            <script type=\"text/javascript\">\n",
       "                require([\"plotly\"], function(Plotly) {\n",
       "                    window.PLOTLYENV=window.PLOTLYENV || {};\n",
       "                    \n",
       "                if (document.getElementById(\"b232c17b-337a-41c2-9951-9313c71d8ee1\")) {\n",
       "                    Plotly.newPlot(\n",
       "                        'b232c17b-337a-41c2-9951-9313c71d8ee1',\n",
       "                        [{\"mode\": \"lines\", \"name\": \"Io(fit)\", \"type\": \"scatter\", \"x\": [0.0, 0.03434343434343434, 0.06868686868686869, 0.10303030303030303, 0.13737373737373737, 0.1717171717171717, 0.20606060606060606, 0.2404040404040404, 0.27474747474747474, 0.3090909090909091, 0.3434343434343434, 0.37777777777777777, 0.4121212121212121, 0.44646464646464645, 0.4808080808080808, 0.5151515151515151, 0.5494949494949495, 0.5838383838383838, 0.6181818181818182, 0.6525252525252525, 0.6868686868686869, 0.7212121212121212, 0.7555555555555555, 0.7898989898989899, 0.8242424242424242, 0.8585858585858586, 0.8929292929292929, 0.9272727272727272, 0.9616161616161616, 0.9959595959595959, 1.0303030303030303, 1.0646464646464646, 1.098989898989899, 1.1333333333333333, 1.1676767676767676, 1.202020202020202, 1.2363636363636363, 1.2707070707070707, 1.305050505050505, 1.3393939393939394, 1.3737373737373737, 1.408080808080808, 1.4424242424242424, 1.4767676767676767, 1.511111111111111, 1.5454545454545454, 1.5797979797979798, 1.614141414141414, 1.6484848484848484, 1.6828282828282828, 1.7171717171717171, 1.7515151515151515, 1.7858585858585858, 1.8202020202020202, 1.8545454545454545, 1.8888888888888888, 1.9232323232323232, 1.9575757575757575, 1.9919191919191919, 2.026262626262626, 2.0606060606060606, 2.094949494949495, 2.1292929292929292, 2.1636363636363636, 2.197979797979798, 2.2323232323232323, 2.2666666666666666, 2.301010101010101, 2.3353535353535353, 2.3696969696969696, 2.404040404040404, 2.4383838383838383, 2.4727272727272727, 2.507070707070707, 2.5414141414141413, 2.5757575757575757, 2.61010101010101, 2.6444444444444444, 2.6787878787878787, 2.713131313131313, 2.7474747474747474, 2.7818181818181817, 2.816161616161616, 2.8505050505050504, 2.8848484848484848, 2.919191919191919, 2.9535353535353535, 2.987878787878788, 3.022222222222222, 3.0565656565656565, 3.090909090909091, 3.125252525252525, 3.1595959595959595, 3.193939393939394, 3.228282828282828, 3.2626262626262625, 3.296969696969697, 3.3313131313131312, 3.3656565656565656, 3.4], \"y\": [-2.0388058548985115, -1.8390812265608514, -1.6266873757609701, -1.4030874597028733, -1.16982183290607, -0.9284974358775843, -0.6807767250806566, -0.42836622046027867, -0.17300474942040187, 0.08354853176128506, 0.339526256561887, 0.5931650234012974, 0.842717543516126, 1.0864646778342666, 1.3227272799294525, 1.5498777634709584, 1.766351314481658, 1.970656671164448, 2.161386397036013, 2.3372265765975073, 2.4969658667497248, 2.63950384159866, 2.7638585731649505, 2.8691733957746264, 2.954722807531986, 3.0199174682200742, 3.064308259198735, 3.0875893773321086, 3.08960044163183, 3.070327598103508, 3.0299036151853227, 2.968606969121283, 2.8868599255698912, 2.78522563066381, 2.664404231559861, 2.5252280532045144, 2.368655864541508, 2.195766273661065, 2.0077502973908494, 1.8059031565157988, 1.5916153531486896, 1.3663630917184404, 1.1316981095648648, 0.8892369871956761, 0.640650011846364, 0.38764967106040177, 0.1319788555563299, -0.12460114734914303, -0.38032278705019884, -0.6334244261080034, -0.8821624759716626, -1.1248234083624804, -1.359735559576353, -1.58528064638585, -1.7999049142102799, -2.002129840755133, -2.1905623213849172, -2.363904266063289, -2.520961541748459, -2.660652198640598, -2.7820139236115384, -2.884210669471069, -2.9665384144013878, -3.0284300118837453, -3.0694590977066416, -3.0893430271406315, -3.0879448220458787, -3.0652741144990623, -3.021487080439089, -2.9568853637887282, -2.8719139984637496, -2.7671583425846573, -2.643340046010816, -2.5013120789762286, -2.3420528560741434, -2.1666594960696006, -1.9763402639724361, -1.7724062474363498, -1.5562623248243868, -1.3293974871609207, -1.0933745806409496, -0.849819540359497, -0.6004101894287692, -0.3468646806445348, -0.09092966032601074, 0.16563176413304095, 0.42105217011161716, 0.6735719953359, 0.9214516593046626, 1.1629835470625103, 1.3965037727660399, 1.6204036420051688, 1.8331407339168722, 2.0332495267479542, 2.2193514936686167, 2.3901645992877425, 2.544512131449662, 2.681330807471044, 2.799678098974961, 2.898738724862233]}, {\"mode\": \"markers\", \"name\": \"Io(data)\", \"type\": \"scatter\", \"x\": [0.28705404978245497, 2.2661990500055254, 3.269851880148053, 3.315214639995247], \"y\": [-0.19269239112486847, -1.4751151714330673, 2.4752683038999246, 2.5203794733504705]}],\n",
       "                        {\"template\": {\"data\": {\"bar\": [{\"error_x\": {\"color\": \"#2a3f5f\"}, \"error_y\": {\"color\": \"#2a3f5f\"}, \"marker\": {\"line\": {\"color\": \"#E5ECF6\", \"width\": 0.5}}, \"type\": \"bar\"}], \"barpolar\": [{\"marker\": {\"line\": {\"color\": \"#E5ECF6\", \"width\": 0.5}}, \"type\": \"barpolar\"}], \"carpet\": [{\"aaxis\": {\"endlinecolor\": \"#2a3f5f\", \"gridcolor\": \"white\", \"linecolor\": \"white\", \"minorgridcolor\": \"white\", \"startlinecolor\": \"#2a3f5f\"}, \"baxis\": {\"endlinecolor\": \"#2a3f5f\", \"gridcolor\": \"white\", \"linecolor\": \"white\", \"minorgridcolor\": \"white\", \"startlinecolor\": \"#2a3f5f\"}, \"type\": \"carpet\"}], \"choropleth\": [{\"colorbar\": {\"outlinewidth\": 0, \"ticks\": \"\"}, \"type\": \"choropleth\"}], \"contour\": [{\"colorbar\": {\"outlinewidth\": 0, \"ticks\": \"\"}, \"colorscale\": [[0.0, \"#0d0887\"], [0.1111111111111111, \"#46039f\"], [0.2222222222222222, \"#7201a8\"], [0.3333333333333333, \"#9c179e\"], [0.4444444444444444, \"#bd3786\"], [0.5555555555555556, \"#d8576b\"], [0.6666666666666666, \"#ed7953\"], [0.7777777777777778, \"#fb9f3a\"], [0.8888888888888888, \"#fdca26\"], [1.0, \"#f0f921\"]], \"type\": \"contour\"}], \"contourcarpet\": [{\"colorbar\": {\"outlinewidth\": 0, \"ticks\": \"\"}, \"type\": \"contourcarpet\"}], \"heatmap\": [{\"colorbar\": {\"outlinewidth\": 0, \"ticks\": \"\"}, \"colorscale\": [[0.0, \"#0d0887\"], [0.1111111111111111, \"#46039f\"], [0.2222222222222222, \"#7201a8\"], [0.3333333333333333, \"#9c179e\"], [0.4444444444444444, \"#bd3786\"], [0.5555555555555556, \"#d8576b\"], [0.6666666666666666, \"#ed7953\"], [0.7777777777777778, \"#fb9f3a\"], [0.8888888888888888, \"#fdca26\"], [1.0, \"#f0f921\"]], \"type\": \"heatmap\"}], \"heatmapgl\": [{\"colorbar\": {\"outlinewidth\": 0, \"ticks\": \"\"}, \"colorscale\": [[0.0, \"#0d0887\"], [0.1111111111111111, \"#46039f\"], [0.2222222222222222, \"#7201a8\"], [0.3333333333333333, \"#9c179e\"], [0.4444444444444444, \"#bd3786\"], [0.5555555555555556, \"#d8576b\"], [0.6666666666666666, \"#ed7953\"], [0.7777777777777778, \"#fb9f3a\"], [0.8888888888888888, \"#fdca26\"], [1.0, \"#f0f921\"]], \"type\": \"heatmapgl\"}], \"histogram\": [{\"marker\": {\"colorbar\": {\"outlinewidth\": 0, \"ticks\": \"\"}}, \"type\": \"histogram\"}], \"histogram2d\": [{\"colorbar\": {\"outlinewidth\": 0, \"ticks\": \"\"}, \"colorscale\": [[0.0, \"#0d0887\"], [0.1111111111111111, \"#46039f\"], [0.2222222222222222, \"#7201a8\"], [0.3333333333333333, \"#9c179e\"], [0.4444444444444444, \"#bd3786\"], [0.5555555555555556, \"#d8576b\"], [0.6666666666666666, \"#ed7953\"], [0.7777777777777778, \"#fb9f3a\"], [0.8888888888888888, \"#fdca26\"], [1.0, \"#f0f921\"]], \"type\": \"histogram2d\"}], \"histogram2dcontour\": [{\"colorbar\": {\"outlinewidth\": 0, \"ticks\": \"\"}, \"colorscale\": [[0.0, \"#0d0887\"], [0.1111111111111111, \"#46039f\"], [0.2222222222222222, \"#7201a8\"], [0.3333333333333333, \"#9c179e\"], [0.4444444444444444, \"#bd3786\"], [0.5555555555555556, \"#d8576b\"], [0.6666666666666666, \"#ed7953\"], [0.7777777777777778, \"#fb9f3a\"], [0.8888888888888888, \"#fdca26\"], [1.0, \"#f0f921\"]], \"type\": \"histogram2dcontour\"}], \"mesh3d\": [{\"colorbar\": {\"outlinewidth\": 0, \"ticks\": \"\"}, \"type\": \"mesh3d\"}], \"parcoords\": [{\"line\": {\"colorbar\": {\"outlinewidth\": 0, \"ticks\": \"\"}}, \"type\": \"parcoords\"}], \"pie\": [{\"automargin\": true, \"type\": \"pie\"}], \"scatter\": [{\"marker\": {\"colorbar\": {\"outlinewidth\": 0, \"ticks\": \"\"}}, \"type\": \"scatter\"}], \"scatter3d\": [{\"line\": {\"colorbar\": {\"outlinewidth\": 0, \"ticks\": \"\"}}, \"marker\": {\"colorbar\": {\"outlinewidth\": 0, \"ticks\": \"\"}}, \"type\": \"scatter3d\"}], \"scattercarpet\": [{\"marker\": {\"colorbar\": {\"outlinewidth\": 0, \"ticks\": \"\"}}, \"type\": \"scattercarpet\"}], \"scattergeo\": [{\"marker\": {\"colorbar\": {\"outlinewidth\": 0, \"ticks\": \"\"}}, \"type\": \"scattergeo\"}], \"scattergl\": [{\"marker\": {\"colorbar\": {\"outlinewidth\": 0, \"ticks\": \"\"}}, \"type\": \"scattergl\"}], \"scattermapbox\": [{\"marker\": {\"colorbar\": {\"outlinewidth\": 0, \"ticks\": \"\"}}, \"type\": \"scattermapbox\"}], \"scatterpolar\": [{\"marker\": {\"colorbar\": {\"outlinewidth\": 0, \"ticks\": \"\"}}, \"type\": \"scatterpolar\"}], \"scatterpolargl\": [{\"marker\": {\"colorbar\": {\"outlinewidth\": 0, \"ticks\": \"\"}}, \"type\": \"scatterpolargl\"}], \"scatterternary\": [{\"marker\": {\"colorbar\": {\"outlinewidth\": 0, \"ticks\": \"\"}}, \"type\": \"scatterternary\"}], \"surface\": [{\"colorbar\": {\"outlinewidth\": 0, \"ticks\": \"\"}, \"colorscale\": [[0.0, \"#0d0887\"], [0.1111111111111111, \"#46039f\"], [0.2222222222222222, \"#7201a8\"], [0.3333333333333333, \"#9c179e\"], [0.4444444444444444, \"#bd3786\"], [0.5555555555555556, \"#d8576b\"], [0.6666666666666666, \"#ed7953\"], [0.7777777777777778, \"#fb9f3a\"], [0.8888888888888888, \"#fdca26\"], [1.0, \"#f0f921\"]], \"type\": \"surface\"}], \"table\": [{\"cells\": {\"fill\": {\"color\": \"#EBF0F8\"}, \"line\": {\"color\": \"white\"}}, \"header\": {\"fill\": {\"color\": \"#C8D4E3\"}, \"line\": {\"color\": \"white\"}}, \"type\": \"table\"}]}, \"layout\": {\"annotationdefaults\": {\"arrowcolor\": \"#2a3f5f\", \"arrowhead\": 0, \"arrowwidth\": 1}, \"coloraxis\": {\"colorbar\": {\"outlinewidth\": 0, \"ticks\": \"\"}}, \"colorscale\": {\"diverging\": [[0, \"#8e0152\"], [0.1, \"#c51b7d\"], [0.2, \"#de77ae\"], [0.3, \"#f1b6da\"], [0.4, \"#fde0ef\"], [0.5, \"#f7f7f7\"], [0.6, \"#e6f5d0\"], [0.7, \"#b8e186\"], [0.8, \"#7fbc41\"], [0.9, \"#4d9221\"], [1, \"#276419\"]], \"sequential\": [[0.0, \"#0d0887\"], [0.1111111111111111, \"#46039f\"], [0.2222222222222222, \"#7201a8\"], [0.3333333333333333, \"#9c179e\"], [0.4444444444444444, \"#bd3786\"], [0.5555555555555556, \"#d8576b\"], [0.6666666666666666, \"#ed7953\"], [0.7777777777777778, \"#fb9f3a\"], [0.8888888888888888, \"#fdca26\"], [1.0, \"#f0f921\"]], \"sequentialminus\": [[0.0, \"#0d0887\"], [0.1111111111111111, \"#46039f\"], [0.2222222222222222, \"#7201a8\"], [0.3333333333333333, \"#9c179e\"], [0.4444444444444444, \"#bd3786\"], [0.5555555555555556, \"#d8576b\"], [0.6666666666666666, \"#ed7953\"], [0.7777777777777778, \"#fb9f3a\"], [0.8888888888888888, \"#fdca26\"], [1.0, \"#f0f921\"]]}, \"colorway\": [\"#636efa\", \"#EF553B\", \"#00cc96\", \"#ab63fa\", \"#FFA15A\", \"#19d3f3\", \"#FF6692\", \"#B6E880\", \"#FF97FF\", \"#FECB52\"], \"font\": {\"color\": \"#2a3f5f\"}, \"geo\": {\"bgcolor\": \"white\", \"lakecolor\": \"white\", \"landcolor\": \"#E5ECF6\", \"showlakes\": true, \"showland\": true, \"subunitcolor\": \"white\"}, \"hoverlabel\": {\"align\": \"left\"}, \"hovermode\": \"closest\", \"mapbox\": {\"style\": \"light\"}, \"paper_bgcolor\": \"white\", \"plot_bgcolor\": \"#E5ECF6\", \"polar\": {\"angularaxis\": {\"gridcolor\": \"white\", \"linecolor\": \"white\", \"ticks\": \"\"}, \"bgcolor\": \"#E5ECF6\", \"radialaxis\": {\"gridcolor\": \"white\", \"linecolor\": \"white\", \"ticks\": \"\"}}, \"scene\": {\"xaxis\": {\"backgroundcolor\": \"#E5ECF6\", \"gridcolor\": \"white\", \"gridwidth\": 2, \"linecolor\": \"white\", \"showbackground\": true, \"ticks\": \"\", \"zerolinecolor\": \"white\"}, \"yaxis\": {\"backgroundcolor\": \"#E5ECF6\", \"gridcolor\": \"white\", \"gridwidth\": 2, \"linecolor\": \"white\", \"showbackground\": true, \"ticks\": \"\", \"zerolinecolor\": \"white\"}, \"zaxis\": {\"backgroundcolor\": \"#E5ECF6\", \"gridcolor\": \"white\", \"gridwidth\": 2, \"linecolor\": \"white\", \"showbackground\": true, \"ticks\": \"\", \"zerolinecolor\": \"white\"}}, \"shapedefaults\": {\"line\": {\"color\": \"#2a3f5f\"}}, \"ternary\": {\"aaxis\": {\"gridcolor\": \"white\", \"linecolor\": \"white\", \"ticks\": \"\"}, \"baxis\": {\"gridcolor\": \"white\", \"linecolor\": \"white\", \"ticks\": \"\"}, \"bgcolor\": \"#E5ECF6\", \"caxis\": {\"gridcolor\": \"white\", \"linecolor\": \"white\", \"ticks\": \"\"}}, \"title\": {\"x\": 0.05}, \"xaxis\": {\"automargin\": true, \"gridcolor\": \"white\", \"linecolor\": \"white\", \"ticks\": \"\", \"title\": {\"standoff\": 15}, \"zerolinecolor\": \"white\", \"zerolinewidth\": 2}, \"yaxis\": {\"automargin\": true, \"gridcolor\": \"white\", \"linecolor\": \"white\", \"ticks\": \"\", \"title\": {\"standoff\": 15}, \"zerolinecolor\": \"white\", \"zerolinewidth\": 2}}}},\n",
       "                        {\"responsive\": true}\n",
       "                    ).then(function(){\n",
       "                            \n",
       "var gd = document.getElementById('b232c17b-337a-41c2-9951-9313c71d8ee1');\n",
       "var x = new MutationObserver(function (mutations, observer) {{\n",
       "        var display = window.getComputedStyle(gd).display;\n",
       "        if (!display || display === 'none') {{\n",
       "            console.log([gd, 'removed!']);\n",
       "            Plotly.purge(gd);\n",
       "            observer.disconnect();\n",
       "        }}\n",
       "}});\n",
       "\n",
       "// Listen for the removal of the full notebook cells\n",
       "var notebookContainer = gd.closest('#notebook-container');\n",
       "if (notebookContainer) {{\n",
       "    x.observe(notebookContainer, {childList: true});\n",
       "}}\n",
       "\n",
       "// Listen for the clearing of the current output cell\n",
       "var outputEl = gd.closest('.output');\n",
       "if (outputEl) {{\n",
       "    x.observe(outputEl, {childList: true});\n",
       "}}\n",
       "\n",
       "                        })\n",
       "                };\n",
       "                });\n",
       "            </script>\n",
       "        </div>"
      ]
     },
     "metadata": {},
     "output_type": "display_data"
    }
   ],
   "source": [
    "fig3 = go.Figure()\n",
    "\n",
    "\n",
    "fig3.add_trace(go.Scatter(x = t0, y = p1iox[0]*np.sin(2*t1*np.pi/p1iox[1] + p1iox[2]+1.5),mode='lines', name='Io(fit)'))\n",
    "fig3.add_trace(go.Scatter(x = selectdata(iodat,0), y = selectdata(iodat,1), mode='markers',name='Io(data)'))"
   ]
  },
  {
   "cell_type": "code",
   "execution_count": 216,
   "metadata": {},
   "outputs": [
    {
     "data": {
      "application/vnd.plotly.v1+json": {
       "config": {
        "plotlyServerURL": "https://plot.ly"
       },
       "data": [
        {
         "mode": "lines",
         "name": "Europa(fit)",
         "type": "scatter",
         "x": [
          0,
          0.03434343434343434,
          0.06868686868686869,
          0.10303030303030303,
          0.13737373737373737,
          0.1717171717171717,
          0.20606060606060606,
          0.2404040404040404,
          0.27474747474747474,
          0.3090909090909091,
          0.3434343434343434,
          0.37777777777777777,
          0.4121212121212121,
          0.44646464646464645,
          0.4808080808080808,
          0.5151515151515151,
          0.5494949494949495,
          0.5838383838383838,
          0.6181818181818182,
          0.6525252525252525,
          0.6868686868686869,
          0.7212121212121212,
          0.7555555555555555,
          0.7898989898989899,
          0.8242424242424242,
          0.8585858585858586,
          0.8929292929292929,
          0.9272727272727272,
          0.9616161616161616,
          0.9959595959595959,
          1.0303030303030303,
          1.0646464646464646,
          1.098989898989899,
          1.1333333333333333,
          1.1676767676767676,
          1.202020202020202,
          1.2363636363636363,
          1.2707070707070707,
          1.305050505050505,
          1.3393939393939394,
          1.3737373737373737,
          1.408080808080808,
          1.4424242424242424,
          1.4767676767676767,
          1.511111111111111,
          1.5454545454545454,
          1.5797979797979798,
          1.614141414141414,
          1.6484848484848484,
          1.6828282828282828,
          1.7171717171717171,
          1.7515151515151515,
          1.7858585858585858,
          1.8202020202020202,
          1.8545454545454545,
          1.8888888888888888,
          1.9232323232323232,
          1.9575757575757575,
          1.9919191919191919,
          2.026262626262626,
          2.0606060606060606,
          2.094949494949495,
          2.1292929292929292,
          2.1636363636363636,
          2.197979797979798,
          2.2323232323232323,
          2.2666666666666666,
          2.301010101010101,
          2.3353535353535353,
          2.3696969696969696,
          2.404040404040404,
          2.4383838383838383,
          2.4727272727272727,
          2.507070707070707,
          2.5414141414141413,
          2.5757575757575757,
          2.61010101010101,
          2.6444444444444444,
          2.6787878787878787,
          2.713131313131313,
          2.7474747474747474,
          2.7818181818181817,
          2.816161616161616,
          2.8505050505050504,
          2.8848484848484848,
          2.919191919191919,
          2.9535353535353535,
          2.987878787878788,
          3.022222222222222,
          3.0565656565656565,
          3.090909090909091,
          3.125252525252525,
          3.1595959595959595,
          3.193939393939394,
          3.228282828282828,
          3.2626262626262625,
          3.296969696969697,
          3.3313131313131312,
          3.3656565656565656,
          3.4
         ],
         "y": [
          2.3604236628735644,
          2.5418634977068844,
          2.718627187381705,
          2.8903895481608077,
          3.056834597013446,
          3.2176561329142426,
          3.3725583001466584,
          3.5212561325746154,
          3.6634760778811657,
          3.7989565008096187,
          3.927448164481469,
          4.048714688905614,
          4.162532985835342,
          4.268693669173162,
          4.367001440168433,
          4.457275446699157,
          4.539349615977019,
          4.613072960063588,
          4.678309853635612,
          4.7349402834884895,
          4.782860069318824,
          4.821981055379971,
          4.852231272657965,
          4.873555071269486,
          4.885913222838291,
          4.8892829926617996,
          4.883658181535035,
          4.869049137155005,
          4.845482735084548,
          4.813002329310625,
          4.7716676724880704,
          4.721554806015465,
          4.6627559201454165,
          4.595379184386527,
          4.519548548509109,
          4.435403514520708,
          4.343098880030892,
          4.2428044534774685,
          4.134704741738008,
          4.018998610701304,
          3.8958989194233076,
          3.765632128540435,
          3.6284378836607343,
          3.4845685744993005,
          3.3342888705689098,
          3.1778752342801395,
          3.01561541234667,
          2.8478079064313175,
          2.674761424006805,
          2.4967943104412758,
          2.314233963353548,
          2.127416230315262,
          1.9366847910081402,
          1.7423905249728309,
          1.5448908661125735,
          1.344549145139028,
          1.141733921170101,
          0.9368183037093246,
          0.73017926625403,
          0.5221969527951833,
          0.31325397848465997,
          0.10373472575627772,
          -0.10597536280418252,
          -0.31549049353935277,
          -0.5244252314464951,
          -0.7323952092438764,
          -0.9390178344730011,
          -1.1439129933356593,
          -1.3467037499712282,
          -1.54701703988758,
          -1.7444843562700771,
          -1.9387424279059338,
          -2.1294338874770555,
          -2.3162079289916,
          -2.498720953145061,
          -2.6766371994235447,
          -2.8496293637863643,
          -3.017379200791704,
          -3.17957810905761,
          -3.335927698981223,
          -3.4861403416719288,
          -3.6299396980885015,
          -3.7670612274068884,
          -3.897252673683364,
          -4.0202745299177565,
          -4.135900478663067,
          -4.243917808370898,
          -4.344127804706741,
          -4.436346116115277,
          -4.520403092963158,
          -4.5961440996353415,
          -4.6634297990108635,
          -4.722136408794708,
          -4.772155929234184,
          -4.813396341800944,
          -4.845781778473064,
          -4.869252661305849,
          -4.883765812034521,
          -4.889294531507229,
          -4.885828648802199
         ]
        },
        {
         "mode": "markers",
         "name": "Europa(data)",
         "type": "scatter",
         "x": [
          1.30173770012334,
          2.2661990500055254,
          3.269851880148053,
          3.315214639995247
         ],
         "y": [
          4.7531103734446365,
          -1.784004474800206,
          -4.083418285821129,
          -3.8756075624468993
         ]
        }
       ],
       "layout": {
        "template": {
         "data": {
          "bar": [
           {
            "error_x": {
             "color": "#2a3f5f"
            },
            "error_y": {
             "color": "#2a3f5f"
            },
            "marker": {
             "line": {
              "color": "#E5ECF6",
              "width": 0.5
             }
            },
            "type": "bar"
           }
          ],
          "barpolar": [
           {
            "marker": {
             "line": {
              "color": "#E5ECF6",
              "width": 0.5
             }
            },
            "type": "barpolar"
           }
          ],
          "carpet": [
           {
            "aaxis": {
             "endlinecolor": "#2a3f5f",
             "gridcolor": "white",
             "linecolor": "white",
             "minorgridcolor": "white",
             "startlinecolor": "#2a3f5f"
            },
            "baxis": {
             "endlinecolor": "#2a3f5f",
             "gridcolor": "white",
             "linecolor": "white",
             "minorgridcolor": "white",
             "startlinecolor": "#2a3f5f"
            },
            "type": "carpet"
           }
          ],
          "choropleth": [
           {
            "colorbar": {
             "outlinewidth": 0,
             "ticks": ""
            },
            "type": "choropleth"
           }
          ],
          "contour": [
           {
            "colorbar": {
             "outlinewidth": 0,
             "ticks": ""
            },
            "colorscale": [
             [
              0,
              "#0d0887"
             ],
             [
              0.1111111111111111,
              "#46039f"
             ],
             [
              0.2222222222222222,
              "#7201a8"
             ],
             [
              0.3333333333333333,
              "#9c179e"
             ],
             [
              0.4444444444444444,
              "#bd3786"
             ],
             [
              0.5555555555555556,
              "#d8576b"
             ],
             [
              0.6666666666666666,
              "#ed7953"
             ],
             [
              0.7777777777777778,
              "#fb9f3a"
             ],
             [
              0.8888888888888888,
              "#fdca26"
             ],
             [
              1,
              "#f0f921"
             ]
            ],
            "type": "contour"
           }
          ],
          "contourcarpet": [
           {
            "colorbar": {
             "outlinewidth": 0,
             "ticks": ""
            },
            "type": "contourcarpet"
           }
          ],
          "heatmap": [
           {
            "colorbar": {
             "outlinewidth": 0,
             "ticks": ""
            },
            "colorscale": [
             [
              0,
              "#0d0887"
             ],
             [
              0.1111111111111111,
              "#46039f"
             ],
             [
              0.2222222222222222,
              "#7201a8"
             ],
             [
              0.3333333333333333,
              "#9c179e"
             ],
             [
              0.4444444444444444,
              "#bd3786"
             ],
             [
              0.5555555555555556,
              "#d8576b"
             ],
             [
              0.6666666666666666,
              "#ed7953"
             ],
             [
              0.7777777777777778,
              "#fb9f3a"
             ],
             [
              0.8888888888888888,
              "#fdca26"
             ],
             [
              1,
              "#f0f921"
             ]
            ],
            "type": "heatmap"
           }
          ],
          "heatmapgl": [
           {
            "colorbar": {
             "outlinewidth": 0,
             "ticks": ""
            },
            "colorscale": [
             [
              0,
              "#0d0887"
             ],
             [
              0.1111111111111111,
              "#46039f"
             ],
             [
              0.2222222222222222,
              "#7201a8"
             ],
             [
              0.3333333333333333,
              "#9c179e"
             ],
             [
              0.4444444444444444,
              "#bd3786"
             ],
             [
              0.5555555555555556,
              "#d8576b"
             ],
             [
              0.6666666666666666,
              "#ed7953"
             ],
             [
              0.7777777777777778,
              "#fb9f3a"
             ],
             [
              0.8888888888888888,
              "#fdca26"
             ],
             [
              1,
              "#f0f921"
             ]
            ],
            "type": "heatmapgl"
           }
          ],
          "histogram": [
           {
            "marker": {
             "colorbar": {
              "outlinewidth": 0,
              "ticks": ""
             }
            },
            "type": "histogram"
           }
          ],
          "histogram2d": [
           {
            "colorbar": {
             "outlinewidth": 0,
             "ticks": ""
            },
            "colorscale": [
             [
              0,
              "#0d0887"
             ],
             [
              0.1111111111111111,
              "#46039f"
             ],
             [
              0.2222222222222222,
              "#7201a8"
             ],
             [
              0.3333333333333333,
              "#9c179e"
             ],
             [
              0.4444444444444444,
              "#bd3786"
             ],
             [
              0.5555555555555556,
              "#d8576b"
             ],
             [
              0.6666666666666666,
              "#ed7953"
             ],
             [
              0.7777777777777778,
              "#fb9f3a"
             ],
             [
              0.8888888888888888,
              "#fdca26"
             ],
             [
              1,
              "#f0f921"
             ]
            ],
            "type": "histogram2d"
           }
          ],
          "histogram2dcontour": [
           {
            "colorbar": {
             "outlinewidth": 0,
             "ticks": ""
            },
            "colorscale": [
             [
              0,
              "#0d0887"
             ],
             [
              0.1111111111111111,
              "#46039f"
             ],
             [
              0.2222222222222222,
              "#7201a8"
             ],
             [
              0.3333333333333333,
              "#9c179e"
             ],
             [
              0.4444444444444444,
              "#bd3786"
             ],
             [
              0.5555555555555556,
              "#d8576b"
             ],
             [
              0.6666666666666666,
              "#ed7953"
             ],
             [
              0.7777777777777778,
              "#fb9f3a"
             ],
             [
              0.8888888888888888,
              "#fdca26"
             ],
             [
              1,
              "#f0f921"
             ]
            ],
            "type": "histogram2dcontour"
           }
          ],
          "mesh3d": [
           {
            "colorbar": {
             "outlinewidth": 0,
             "ticks": ""
            },
            "type": "mesh3d"
           }
          ],
          "parcoords": [
           {
            "line": {
             "colorbar": {
              "outlinewidth": 0,
              "ticks": ""
             }
            },
            "type": "parcoords"
           }
          ],
          "pie": [
           {
            "automargin": true,
            "type": "pie"
           }
          ],
          "scatter": [
           {
            "marker": {
             "colorbar": {
              "outlinewidth": 0,
              "ticks": ""
             }
            },
            "type": "scatter"
           }
          ],
          "scatter3d": [
           {
            "line": {
             "colorbar": {
              "outlinewidth": 0,
              "ticks": ""
             }
            },
            "marker": {
             "colorbar": {
              "outlinewidth": 0,
              "ticks": ""
             }
            },
            "type": "scatter3d"
           }
          ],
          "scattercarpet": [
           {
            "marker": {
             "colorbar": {
              "outlinewidth": 0,
              "ticks": ""
             }
            },
            "type": "scattercarpet"
           }
          ],
          "scattergeo": [
           {
            "marker": {
             "colorbar": {
              "outlinewidth": 0,
              "ticks": ""
             }
            },
            "type": "scattergeo"
           }
          ],
          "scattergl": [
           {
            "marker": {
             "colorbar": {
              "outlinewidth": 0,
              "ticks": ""
             }
            },
            "type": "scattergl"
           }
          ],
          "scattermapbox": [
           {
            "marker": {
             "colorbar": {
              "outlinewidth": 0,
              "ticks": ""
             }
            },
            "type": "scattermapbox"
           }
          ],
          "scatterpolar": [
           {
            "marker": {
             "colorbar": {
              "outlinewidth": 0,
              "ticks": ""
             }
            },
            "type": "scatterpolar"
           }
          ],
          "scatterpolargl": [
           {
            "marker": {
             "colorbar": {
              "outlinewidth": 0,
              "ticks": ""
             }
            },
            "type": "scatterpolargl"
           }
          ],
          "scatterternary": [
           {
            "marker": {
             "colorbar": {
              "outlinewidth": 0,
              "ticks": ""
             }
            },
            "type": "scatterternary"
           }
          ],
          "surface": [
           {
            "colorbar": {
             "outlinewidth": 0,
             "ticks": ""
            },
            "colorscale": [
             [
              0,
              "#0d0887"
             ],
             [
              0.1111111111111111,
              "#46039f"
             ],
             [
              0.2222222222222222,
              "#7201a8"
             ],
             [
              0.3333333333333333,
              "#9c179e"
             ],
             [
              0.4444444444444444,
              "#bd3786"
             ],
             [
              0.5555555555555556,
              "#d8576b"
             ],
             [
              0.6666666666666666,
              "#ed7953"
             ],
             [
              0.7777777777777778,
              "#fb9f3a"
             ],
             [
              0.8888888888888888,
              "#fdca26"
             ],
             [
              1,
              "#f0f921"
             ]
            ],
            "type": "surface"
           }
          ],
          "table": [
           {
            "cells": {
             "fill": {
              "color": "#EBF0F8"
             },
             "line": {
              "color": "white"
             }
            },
            "header": {
             "fill": {
              "color": "#C8D4E3"
             },
             "line": {
              "color": "white"
             }
            },
            "type": "table"
           }
          ]
         },
         "layout": {
          "annotationdefaults": {
           "arrowcolor": "#2a3f5f",
           "arrowhead": 0,
           "arrowwidth": 1
          },
          "coloraxis": {
           "colorbar": {
            "outlinewidth": 0,
            "ticks": ""
           }
          },
          "colorscale": {
           "diverging": [
            [
             0,
             "#8e0152"
            ],
            [
             0.1,
             "#c51b7d"
            ],
            [
             0.2,
             "#de77ae"
            ],
            [
             0.3,
             "#f1b6da"
            ],
            [
             0.4,
             "#fde0ef"
            ],
            [
             0.5,
             "#f7f7f7"
            ],
            [
             0.6,
             "#e6f5d0"
            ],
            [
             0.7,
             "#b8e186"
            ],
            [
             0.8,
             "#7fbc41"
            ],
            [
             0.9,
             "#4d9221"
            ],
            [
             1,
             "#276419"
            ]
           ],
           "sequential": [
            [
             0,
             "#0d0887"
            ],
            [
             0.1111111111111111,
             "#46039f"
            ],
            [
             0.2222222222222222,
             "#7201a8"
            ],
            [
             0.3333333333333333,
             "#9c179e"
            ],
            [
             0.4444444444444444,
             "#bd3786"
            ],
            [
             0.5555555555555556,
             "#d8576b"
            ],
            [
             0.6666666666666666,
             "#ed7953"
            ],
            [
             0.7777777777777778,
             "#fb9f3a"
            ],
            [
             0.8888888888888888,
             "#fdca26"
            ],
            [
             1,
             "#f0f921"
            ]
           ],
           "sequentialminus": [
            [
             0,
             "#0d0887"
            ],
            [
             0.1111111111111111,
             "#46039f"
            ],
            [
             0.2222222222222222,
             "#7201a8"
            ],
            [
             0.3333333333333333,
             "#9c179e"
            ],
            [
             0.4444444444444444,
             "#bd3786"
            ],
            [
             0.5555555555555556,
             "#d8576b"
            ],
            [
             0.6666666666666666,
             "#ed7953"
            ],
            [
             0.7777777777777778,
             "#fb9f3a"
            ],
            [
             0.8888888888888888,
             "#fdca26"
            ],
            [
             1,
             "#f0f921"
            ]
           ]
          },
          "colorway": [
           "#636efa",
           "#EF553B",
           "#00cc96",
           "#ab63fa",
           "#FFA15A",
           "#19d3f3",
           "#FF6692",
           "#B6E880",
           "#FF97FF",
           "#FECB52"
          ],
          "font": {
           "color": "#2a3f5f"
          },
          "geo": {
           "bgcolor": "white",
           "lakecolor": "white",
           "landcolor": "#E5ECF6",
           "showlakes": true,
           "showland": true,
           "subunitcolor": "white"
          },
          "hoverlabel": {
           "align": "left"
          },
          "hovermode": "closest",
          "mapbox": {
           "style": "light"
          },
          "paper_bgcolor": "white",
          "plot_bgcolor": "#E5ECF6",
          "polar": {
           "angularaxis": {
            "gridcolor": "white",
            "linecolor": "white",
            "ticks": ""
           },
           "bgcolor": "#E5ECF6",
           "radialaxis": {
            "gridcolor": "white",
            "linecolor": "white",
            "ticks": ""
           }
          },
          "scene": {
           "xaxis": {
            "backgroundcolor": "#E5ECF6",
            "gridcolor": "white",
            "gridwidth": 2,
            "linecolor": "white",
            "showbackground": true,
            "ticks": "",
            "zerolinecolor": "white"
           },
           "yaxis": {
            "backgroundcolor": "#E5ECF6",
            "gridcolor": "white",
            "gridwidth": 2,
            "linecolor": "white",
            "showbackground": true,
            "ticks": "",
            "zerolinecolor": "white"
           },
           "zaxis": {
            "backgroundcolor": "#E5ECF6",
            "gridcolor": "white",
            "gridwidth": 2,
            "linecolor": "white",
            "showbackground": true,
            "ticks": "",
            "zerolinecolor": "white"
           }
          },
          "shapedefaults": {
           "line": {
            "color": "#2a3f5f"
           }
          },
          "ternary": {
           "aaxis": {
            "gridcolor": "white",
            "linecolor": "white",
            "ticks": ""
           },
           "baxis": {
            "gridcolor": "white",
            "linecolor": "white",
            "ticks": ""
           },
           "bgcolor": "#E5ECF6",
           "caxis": {
            "gridcolor": "white",
            "linecolor": "white",
            "ticks": ""
           }
          },
          "title": {
           "x": 0.05
          },
          "xaxis": {
           "automargin": true,
           "gridcolor": "white",
           "linecolor": "white",
           "ticks": "",
           "title": {
            "standoff": 15
           },
           "zerolinecolor": "white",
           "zerolinewidth": 2
          },
          "yaxis": {
           "automargin": true,
           "gridcolor": "white",
           "linecolor": "white",
           "ticks": "",
           "title": {
            "standoff": 15
           },
           "zerolinecolor": "white",
           "zerolinewidth": 2
          }
         }
        }
       }
      },
      "text/html": [
       "<div>\n",
       "        \n",
       "        \n",
       "            <div id=\"06dc373b-0254-42ea-b417-5d36dbcaed5e\" class=\"plotly-graph-div\" style=\"height:525px; width:100%;\"></div>\n",
       "            <script type=\"text/javascript\">\n",
       "                require([\"plotly\"], function(Plotly) {\n",
       "                    window.PLOTLYENV=window.PLOTLYENV || {};\n",
       "                    \n",
       "                if (document.getElementById(\"06dc373b-0254-42ea-b417-5d36dbcaed5e\")) {\n",
       "                    Plotly.newPlot(\n",
       "                        '06dc373b-0254-42ea-b417-5d36dbcaed5e',\n",
       "                        [{\"mode\": \"lines\", \"name\": \"Europa(fit)\", \"type\": \"scatter\", \"x\": [0.0, 0.03434343434343434, 0.06868686868686869, 0.10303030303030303, 0.13737373737373737, 0.1717171717171717, 0.20606060606060606, 0.2404040404040404, 0.27474747474747474, 0.3090909090909091, 0.3434343434343434, 0.37777777777777777, 0.4121212121212121, 0.44646464646464645, 0.4808080808080808, 0.5151515151515151, 0.5494949494949495, 0.5838383838383838, 0.6181818181818182, 0.6525252525252525, 0.6868686868686869, 0.7212121212121212, 0.7555555555555555, 0.7898989898989899, 0.8242424242424242, 0.8585858585858586, 0.8929292929292929, 0.9272727272727272, 0.9616161616161616, 0.9959595959595959, 1.0303030303030303, 1.0646464646464646, 1.098989898989899, 1.1333333333333333, 1.1676767676767676, 1.202020202020202, 1.2363636363636363, 1.2707070707070707, 1.305050505050505, 1.3393939393939394, 1.3737373737373737, 1.408080808080808, 1.4424242424242424, 1.4767676767676767, 1.511111111111111, 1.5454545454545454, 1.5797979797979798, 1.614141414141414, 1.6484848484848484, 1.6828282828282828, 1.7171717171717171, 1.7515151515151515, 1.7858585858585858, 1.8202020202020202, 1.8545454545454545, 1.8888888888888888, 1.9232323232323232, 1.9575757575757575, 1.9919191919191919, 2.026262626262626, 2.0606060606060606, 2.094949494949495, 2.1292929292929292, 2.1636363636363636, 2.197979797979798, 2.2323232323232323, 2.2666666666666666, 2.301010101010101, 2.3353535353535353, 2.3696969696969696, 2.404040404040404, 2.4383838383838383, 2.4727272727272727, 2.507070707070707, 2.5414141414141413, 2.5757575757575757, 2.61010101010101, 2.6444444444444444, 2.6787878787878787, 2.713131313131313, 2.7474747474747474, 2.7818181818181817, 2.816161616161616, 2.8505050505050504, 2.8848484848484848, 2.919191919191919, 2.9535353535353535, 2.987878787878788, 3.022222222222222, 3.0565656565656565, 3.090909090909091, 3.125252525252525, 3.1595959595959595, 3.193939393939394, 3.228282828282828, 3.2626262626262625, 3.296969696969697, 3.3313131313131312, 3.3656565656565656, 3.4], \"y\": [2.3604236628735644, 2.5418634977068844, 2.718627187381705, 2.8903895481608077, 3.056834597013446, 3.2176561329142426, 3.3725583001466584, 3.5212561325746154, 3.6634760778811657, 3.7989565008096187, 3.927448164481469, 4.048714688905614, 4.162532985835342, 4.268693669173162, 4.367001440168433, 4.457275446699157, 4.539349615977019, 4.613072960063588, 4.678309853635612, 4.7349402834884895, 4.782860069318824, 4.821981055379971, 4.852231272657965, 4.873555071269486, 4.885913222838291, 4.8892829926617996, 4.883658181535035, 4.869049137155005, 4.845482735084548, 4.813002329310625, 4.7716676724880704, 4.721554806015465, 4.6627559201454165, 4.595379184386527, 4.519548548509109, 4.435403514520708, 4.343098880030892, 4.2428044534774685, 4.134704741738008, 4.018998610701304, 3.8958989194233076, 3.765632128540435, 3.6284378836607343, 3.4845685744993005, 3.3342888705689098, 3.1778752342801395, 3.01561541234667, 2.8478079064313175, 2.674761424006805, 2.4967943104412758, 2.314233963353548, 2.127416230315262, 1.9366847910081402, 1.7423905249728309, 1.5448908661125735, 1.344549145139028, 1.141733921170101, 0.9368183037093246, 0.73017926625403, 0.5221969527951833, 0.31325397848465997, 0.10373472575627772, -0.10597536280418252, -0.31549049353935277, -0.5244252314464951, -0.7323952092438764, -0.9390178344730011, -1.1439129933356593, -1.3467037499712282, -1.54701703988758, -1.7444843562700771, -1.9387424279059338, -2.1294338874770555, -2.3162079289916, -2.498720953145061, -2.6766371994235447, -2.8496293637863643, -3.017379200791704, -3.17957810905761, -3.335927698981223, -3.4861403416719288, -3.6299396980885015, -3.7670612274068884, -3.897252673683364, -4.0202745299177565, -4.135900478663067, -4.243917808370898, -4.344127804706741, -4.436346116115277, -4.520403092963158, -4.5961440996353415, -4.6634297990108635, -4.722136408794708, -4.772155929234184, -4.813396341800944, -4.845781778473064, -4.869252661305849, -4.883765812034521, -4.889294531507229, -4.885828648802199]}, {\"mode\": \"markers\", \"name\": \"Europa(data)\", \"type\": \"scatter\", \"x\": [1.30173770012334, 2.2661990500055254, 3.269851880148053, 3.315214639995247], \"y\": [4.7531103734446365, -1.784004474800206, -4.083418285821129, -3.8756075624468993]}],\n",
       "                        {\"template\": {\"data\": {\"bar\": [{\"error_x\": {\"color\": \"#2a3f5f\"}, \"error_y\": {\"color\": \"#2a3f5f\"}, \"marker\": {\"line\": {\"color\": \"#E5ECF6\", \"width\": 0.5}}, \"type\": \"bar\"}], \"barpolar\": [{\"marker\": {\"line\": {\"color\": \"#E5ECF6\", \"width\": 0.5}}, \"type\": \"barpolar\"}], \"carpet\": [{\"aaxis\": {\"endlinecolor\": \"#2a3f5f\", \"gridcolor\": \"white\", \"linecolor\": \"white\", \"minorgridcolor\": \"white\", \"startlinecolor\": \"#2a3f5f\"}, \"baxis\": {\"endlinecolor\": \"#2a3f5f\", \"gridcolor\": \"white\", \"linecolor\": \"white\", \"minorgridcolor\": \"white\", \"startlinecolor\": \"#2a3f5f\"}, \"type\": \"carpet\"}], \"choropleth\": [{\"colorbar\": {\"outlinewidth\": 0, \"ticks\": \"\"}, \"type\": \"choropleth\"}], \"contour\": [{\"colorbar\": {\"outlinewidth\": 0, \"ticks\": \"\"}, \"colorscale\": [[0.0, \"#0d0887\"], [0.1111111111111111, \"#46039f\"], [0.2222222222222222, \"#7201a8\"], [0.3333333333333333, \"#9c179e\"], [0.4444444444444444, \"#bd3786\"], [0.5555555555555556, \"#d8576b\"], [0.6666666666666666, \"#ed7953\"], [0.7777777777777778, \"#fb9f3a\"], [0.8888888888888888, \"#fdca26\"], [1.0, \"#f0f921\"]], \"type\": \"contour\"}], \"contourcarpet\": [{\"colorbar\": {\"outlinewidth\": 0, \"ticks\": \"\"}, \"type\": \"contourcarpet\"}], \"heatmap\": [{\"colorbar\": {\"outlinewidth\": 0, \"ticks\": \"\"}, \"colorscale\": [[0.0, \"#0d0887\"], [0.1111111111111111, \"#46039f\"], [0.2222222222222222, \"#7201a8\"], [0.3333333333333333, \"#9c179e\"], [0.4444444444444444, \"#bd3786\"], [0.5555555555555556, \"#d8576b\"], [0.6666666666666666, \"#ed7953\"], [0.7777777777777778, \"#fb9f3a\"], [0.8888888888888888, \"#fdca26\"], [1.0, \"#f0f921\"]], \"type\": \"heatmap\"}], \"heatmapgl\": [{\"colorbar\": {\"outlinewidth\": 0, \"ticks\": \"\"}, \"colorscale\": [[0.0, \"#0d0887\"], [0.1111111111111111, \"#46039f\"], [0.2222222222222222, \"#7201a8\"], [0.3333333333333333, \"#9c179e\"], [0.4444444444444444, \"#bd3786\"], [0.5555555555555556, \"#d8576b\"], [0.6666666666666666, \"#ed7953\"], [0.7777777777777778, \"#fb9f3a\"], [0.8888888888888888, \"#fdca26\"], [1.0, \"#f0f921\"]], \"type\": \"heatmapgl\"}], \"histogram\": [{\"marker\": {\"colorbar\": {\"outlinewidth\": 0, \"ticks\": \"\"}}, \"type\": \"histogram\"}], \"histogram2d\": [{\"colorbar\": {\"outlinewidth\": 0, \"ticks\": \"\"}, \"colorscale\": [[0.0, \"#0d0887\"], [0.1111111111111111, \"#46039f\"], [0.2222222222222222, \"#7201a8\"], [0.3333333333333333, \"#9c179e\"], [0.4444444444444444, \"#bd3786\"], [0.5555555555555556, \"#d8576b\"], [0.6666666666666666, \"#ed7953\"], [0.7777777777777778, \"#fb9f3a\"], [0.8888888888888888, \"#fdca26\"], [1.0, \"#f0f921\"]], \"type\": \"histogram2d\"}], \"histogram2dcontour\": [{\"colorbar\": {\"outlinewidth\": 0, \"ticks\": \"\"}, \"colorscale\": [[0.0, \"#0d0887\"], [0.1111111111111111, \"#46039f\"], [0.2222222222222222, \"#7201a8\"], [0.3333333333333333, \"#9c179e\"], [0.4444444444444444, \"#bd3786\"], [0.5555555555555556, \"#d8576b\"], [0.6666666666666666, \"#ed7953\"], [0.7777777777777778, \"#fb9f3a\"], [0.8888888888888888, \"#fdca26\"], [1.0, \"#f0f921\"]], \"type\": \"histogram2dcontour\"}], \"mesh3d\": [{\"colorbar\": {\"outlinewidth\": 0, \"ticks\": \"\"}, \"type\": \"mesh3d\"}], \"parcoords\": [{\"line\": {\"colorbar\": {\"outlinewidth\": 0, \"ticks\": \"\"}}, \"type\": \"parcoords\"}], \"pie\": [{\"automargin\": true, \"type\": \"pie\"}], \"scatter\": [{\"marker\": {\"colorbar\": {\"outlinewidth\": 0, \"ticks\": \"\"}}, \"type\": \"scatter\"}], \"scatter3d\": [{\"line\": {\"colorbar\": {\"outlinewidth\": 0, \"ticks\": \"\"}}, \"marker\": {\"colorbar\": {\"outlinewidth\": 0, \"ticks\": \"\"}}, \"type\": \"scatter3d\"}], \"scattercarpet\": [{\"marker\": {\"colorbar\": {\"outlinewidth\": 0, \"ticks\": \"\"}}, \"type\": \"scattercarpet\"}], \"scattergeo\": [{\"marker\": {\"colorbar\": {\"outlinewidth\": 0, \"ticks\": \"\"}}, \"type\": \"scattergeo\"}], \"scattergl\": [{\"marker\": {\"colorbar\": {\"outlinewidth\": 0, \"ticks\": \"\"}}, \"type\": \"scattergl\"}], \"scattermapbox\": [{\"marker\": {\"colorbar\": {\"outlinewidth\": 0, \"ticks\": \"\"}}, \"type\": \"scattermapbox\"}], \"scatterpolar\": [{\"marker\": {\"colorbar\": {\"outlinewidth\": 0, \"ticks\": \"\"}}, \"type\": \"scatterpolar\"}], \"scatterpolargl\": [{\"marker\": {\"colorbar\": {\"outlinewidth\": 0, \"ticks\": \"\"}}, \"type\": \"scatterpolargl\"}], \"scatterternary\": [{\"marker\": {\"colorbar\": {\"outlinewidth\": 0, \"ticks\": \"\"}}, \"type\": \"scatterternary\"}], \"surface\": [{\"colorbar\": {\"outlinewidth\": 0, \"ticks\": \"\"}, \"colorscale\": [[0.0, \"#0d0887\"], [0.1111111111111111, \"#46039f\"], [0.2222222222222222, \"#7201a8\"], [0.3333333333333333, \"#9c179e\"], [0.4444444444444444, \"#bd3786\"], [0.5555555555555556, \"#d8576b\"], [0.6666666666666666, \"#ed7953\"], [0.7777777777777778, \"#fb9f3a\"], [0.8888888888888888, \"#fdca26\"], [1.0, \"#f0f921\"]], \"type\": \"surface\"}], \"table\": [{\"cells\": {\"fill\": {\"color\": \"#EBF0F8\"}, \"line\": {\"color\": \"white\"}}, \"header\": {\"fill\": {\"color\": \"#C8D4E3\"}, \"line\": {\"color\": \"white\"}}, \"type\": \"table\"}]}, \"layout\": {\"annotationdefaults\": {\"arrowcolor\": \"#2a3f5f\", \"arrowhead\": 0, \"arrowwidth\": 1}, \"coloraxis\": {\"colorbar\": {\"outlinewidth\": 0, \"ticks\": \"\"}}, \"colorscale\": {\"diverging\": [[0, \"#8e0152\"], [0.1, \"#c51b7d\"], [0.2, \"#de77ae\"], [0.3, \"#f1b6da\"], [0.4, \"#fde0ef\"], [0.5, \"#f7f7f7\"], [0.6, \"#e6f5d0\"], [0.7, \"#b8e186\"], [0.8, \"#7fbc41\"], [0.9, \"#4d9221\"], [1, \"#276419\"]], \"sequential\": [[0.0, \"#0d0887\"], [0.1111111111111111, \"#46039f\"], [0.2222222222222222, \"#7201a8\"], [0.3333333333333333, \"#9c179e\"], [0.4444444444444444, \"#bd3786\"], [0.5555555555555556, \"#d8576b\"], [0.6666666666666666, \"#ed7953\"], [0.7777777777777778, \"#fb9f3a\"], [0.8888888888888888, \"#fdca26\"], [1.0, \"#f0f921\"]], \"sequentialminus\": [[0.0, \"#0d0887\"], [0.1111111111111111, \"#46039f\"], [0.2222222222222222, \"#7201a8\"], [0.3333333333333333, \"#9c179e\"], [0.4444444444444444, \"#bd3786\"], [0.5555555555555556, \"#d8576b\"], [0.6666666666666666, \"#ed7953\"], [0.7777777777777778, \"#fb9f3a\"], [0.8888888888888888, \"#fdca26\"], [1.0, \"#f0f921\"]]}, \"colorway\": [\"#636efa\", \"#EF553B\", \"#00cc96\", \"#ab63fa\", \"#FFA15A\", \"#19d3f3\", \"#FF6692\", \"#B6E880\", \"#FF97FF\", \"#FECB52\"], \"font\": {\"color\": \"#2a3f5f\"}, \"geo\": {\"bgcolor\": \"white\", \"lakecolor\": \"white\", \"landcolor\": \"#E5ECF6\", \"showlakes\": true, \"showland\": true, \"subunitcolor\": \"white\"}, \"hoverlabel\": {\"align\": \"left\"}, \"hovermode\": \"closest\", \"mapbox\": {\"style\": \"light\"}, \"paper_bgcolor\": \"white\", \"plot_bgcolor\": \"#E5ECF6\", \"polar\": {\"angularaxis\": {\"gridcolor\": \"white\", \"linecolor\": \"white\", \"ticks\": \"\"}, \"bgcolor\": \"#E5ECF6\", \"radialaxis\": {\"gridcolor\": \"white\", \"linecolor\": \"white\", \"ticks\": \"\"}}, \"scene\": {\"xaxis\": {\"backgroundcolor\": \"#E5ECF6\", \"gridcolor\": \"white\", \"gridwidth\": 2, \"linecolor\": \"white\", \"showbackground\": true, \"ticks\": \"\", \"zerolinecolor\": \"white\"}, \"yaxis\": {\"backgroundcolor\": \"#E5ECF6\", \"gridcolor\": \"white\", \"gridwidth\": 2, \"linecolor\": \"white\", \"showbackground\": true, \"ticks\": \"\", \"zerolinecolor\": \"white\"}, \"zaxis\": {\"backgroundcolor\": \"#E5ECF6\", \"gridcolor\": \"white\", \"gridwidth\": 2, \"linecolor\": \"white\", \"showbackground\": true, \"ticks\": \"\", \"zerolinecolor\": \"white\"}}, \"shapedefaults\": {\"line\": {\"color\": \"#2a3f5f\"}}, \"ternary\": {\"aaxis\": {\"gridcolor\": \"white\", \"linecolor\": \"white\", \"ticks\": \"\"}, \"baxis\": {\"gridcolor\": \"white\", \"linecolor\": \"white\", \"ticks\": \"\"}, \"bgcolor\": \"#E5ECF6\", \"caxis\": {\"gridcolor\": \"white\", \"linecolor\": \"white\", \"ticks\": \"\"}}, \"title\": {\"x\": 0.05}, \"xaxis\": {\"automargin\": true, \"gridcolor\": \"white\", \"linecolor\": \"white\", \"ticks\": \"\", \"title\": {\"standoff\": 15}, \"zerolinecolor\": \"white\", \"zerolinewidth\": 2}, \"yaxis\": {\"automargin\": true, \"gridcolor\": \"white\", \"linecolor\": \"white\", \"ticks\": \"\", \"title\": {\"standoff\": 15}, \"zerolinecolor\": \"white\", \"zerolinewidth\": 2}}}},\n",
       "                        {\"responsive\": true}\n",
       "                    ).then(function(){\n",
       "                            \n",
       "var gd = document.getElementById('06dc373b-0254-42ea-b417-5d36dbcaed5e');\n",
       "var x = new MutationObserver(function (mutations, observer) {{\n",
       "        var display = window.getComputedStyle(gd).display;\n",
       "        if (!display || display === 'none') {{\n",
       "            console.log([gd, 'removed!']);\n",
       "            Plotly.purge(gd);\n",
       "            observer.disconnect();\n",
       "        }}\n",
       "}});\n",
       "\n",
       "// Listen for the removal of the full notebook cells\n",
       "var notebookContainer = gd.closest('#notebook-container');\n",
       "if (notebookContainer) {{\n",
       "    x.observe(notebookContainer, {childList: true});\n",
       "}}\n",
       "\n",
       "// Listen for the clearing of the current output cell\n",
       "var outputEl = gd.closest('.output');\n",
       "if (outputEl) {{\n",
       "    x.observe(outputEl, {childList: true});\n",
       "}}\n",
       "\n",
       "                        })\n",
       "                };\n",
       "                });\n",
       "            </script>\n",
       "        </div>"
      ]
     },
     "metadata": {},
     "output_type": "display_data"
    }
   ],
   "source": [
    "fig4 = go.Figure()\n",
    "fig4.add_trace(go.Scatter(x = t0, y = p1geurox[0]*np.sin(2*t1*np.pi/(p1geurox[1]) + p1geurox[2]+0.8),mode='lines', name='Europa(fit)'))\n",
    "fig4.add_trace(go.Scatter(x = selectdata(eurodat,0), y = selectdata(eurodat,1), mode='markers',name='Europa(data)'))"
   ]
  },
  {
   "cell_type": "code",
   "execution_count": null,
   "metadata": {},
   "outputs": [],
   "source": []
  }
 ],
 "metadata": {
  "kernelspec": {
   "display_name": "Python 3",
   "language": "python",
   "name": "python3"
  },
  "language_info": {
   "codemirror_mode": {
    "name": "ipython",
    "version": 3
   },
   "file_extension": ".py",
   "mimetype": "text/x-python",
   "name": "python",
   "nbconvert_exporter": "python",
   "pygments_lexer": "ipython3",
   "version": "3.7.4"
  }
 },
 "nbformat": 4,
 "nbformat_minor": 2
}
