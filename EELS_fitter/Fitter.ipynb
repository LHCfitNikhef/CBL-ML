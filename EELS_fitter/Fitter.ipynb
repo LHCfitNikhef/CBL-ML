{
 "cells": [
  {
   "cell_type": "markdown",
   "metadata": {},
   "source": [
    "## Import packages"
   ]
  },
  {
   "cell_type": "code",
   "execution_count": 1,
   "metadata": {},
   "outputs": [
    {
     "name": "stdout",
     "output_type": "stream",
     "text": [
      "Importing packages...\n",
      "done\n"
     ]
    }
   ],
   "source": [
    "print('Importing packages...')\n",
    "\n",
    "import numpy as np\n",
    "import pandas as pd\n",
    "import matplotlib.pyplot as plt\n",
    "import matplotlib\n",
    "from matplotlib import rc\n",
    "from matplotlib import cm\n",
    "import os\n",
    "import csv\n",
    "import warnings\n",
    "import time\n",
    "import multiprocessing as mp\n",
    "from multiprocess import Pool\n",
    "from multiprocess import Process\n",
    "from copy import copy\n",
    "from sklearn.model_selection import train_test_split\n",
    "from sklearn.preprocessing import StandardScaler\n",
    "import tensorflow as tf\n",
    "from tensorflow import keras\n",
    "from tensorflow.keras import Sequential\n",
    "from tensorflow.keras import layers\n",
    "from tensorflow.keras import optimizers\n",
    "from tensorflow.keras.layers import Dense\n",
    "import tensorflow.compat.v1 as tf\n",
    "\n",
    "warnings.filterwarnings('ignore')\n",
    "print('done')"
   ]
  },
  {
   "cell_type": "markdown",
   "metadata": {},
   "source": [
    "## Import spectra\n"
   ]
  },
  {
   "cell_type": "code",
   "execution_count": 2,
   "metadata": {},
   "outputs": [
    {
     "name": "stdout",
     "output_type": "stream",
     "text": [
      "Importing datafiles...\n",
      "Files have been created \n",
      "\n",
      "\n",
      " Sample files:\n",
      "file14\n",
      "file15\n",
      "file16\n",
      "file19\n",
      "file20\n",
      "file21\n",
      "\n",
      " Vacuum files:\n",
      "file17\n",
      "file22\n",
      "file23\n",
      "\n",
      " Total samples file: \"df\" \n",
      "                   x             y     x_shifted        y_norm         log_y\n",
      "count  11886.000000  1.188600e+04  11886.000000  11886.000000  11886.000000\n",
      "mean      20.708500  2.943846e+04     20.750000      0.020192      8.097109\n",
      "std       14.297236  1.957346e+05     14.297236      0.134208      1.210722\n",
      "min       -4.041500  2.765300e+02     -4.000000      0.000190      5.622319\n",
      "25%        8.333500  1.351622e+03      8.375000      0.000932      7.209061\n",
      "50%       20.708500  3.076860e+03     20.750000      0.002106      8.031665\n",
      "75%       33.083500  5.665987e+03     33.125000      0.003879      8.642236\n",
      "max       45.458500  2.440470e+06     45.500000      1.640224     14.707701\n",
      "\n",
      " Total vacuum file: \"df_vacuum\" \n",
      "                  x             y    x_shifted       y_norm\n",
      "count  5943.000000  5.943000e+03  5943.000000  5943.000000\n",
      "mean     20.708500  3.373210e+04    20.750000     0.020192\n",
      "std      14.297837  2.576468e+05    14.297837     0.154224\n",
      "min      -4.041500 -1.340900e+02    -4.000000    -0.000080\n",
      "25%       8.333500  2.522015e+01     8.375000     0.000015\n",
      "50%      20.708500  7.105610e+01    20.750000     0.000042\n",
      "75%      33.083500  1.612730e+02    33.125000     0.000096\n",
      "max      45.458500  3.170580e+06    45.500000     1.887750\n",
      "done\n"
     ]
    }
   ],
   "source": [
    "print('Importing datafiles...')\n",
    "%run Load_data.py\n",
    "%run Functions.py\n",
    "print('done')"
   ]
  },
  {
   "cell_type": "code",
   "execution_count": null,
   "metadata": {},
   "outputs": [],
   "source": []
  },
  {
   "cell_type": "code",
   "execution_count": null,
   "metadata": {},
   "outputs": [],
   "source": [
    "\n",
    "\n"
   ]
  },
  {
   "cell_type": "markdown",
   "metadata": {},
   "source": [
    "## Derivatives\n",
    "In order to determine the values for $\\Delta$E$_I$ and $\\Delta$E$_{II}$, we calculate the derivatives of the intensity of each spectrum with respect to the change energy loss. We use the function 'smooth(y, window_len)' to smooth the functions and reveal underlying trends."
   ]
  },
  {
   "cell_type": "markdown",
   "metadata": {},
   "source": [
    "### In-sample"
   ]
  },
  {
   "cell_type": "code",
   "execution_count": 3,
   "metadata": {},
   "outputs": [],
   "source": [
    "wl1 = 50\n",
    "wl2 = 100\n",
    "\n",
    "df_dx = pd.DataFrame()\n",
    "\n",
    "all_files = [file14, file15, file16, file17, file19, file20, file21, file22, file23]\n",
    "\n",
    "for i,j in enumerate([14,15,16,17,19,20,21,22,23]):\n",
    "    df_dx['x%(j)s' % {\"j\": j}]  =  all_files[i]['x_shifted']\n",
    "    df_dx['y%(j)s' % {\"j\": j}]  =  smooth(all_files[i]['y_norm'], wl1)\n",
    "    df_dx['derivative y%(j)s' %{\"j\": j}] = np.divide(df_dx['y%(j)s'% {\"j\": j}].diff(), \\\n",
    "                                                     df_dx['x%(j)s'% {\"j\": j}].diff())\n",
    "    df_dx['smooth derivative y%(j)s' %{\"j\": j}] = smooth(df_dx['derivative y%(j)s' %{\"j\": j}], wl2)\n",
    "    "
   ]
  },
  {
   "cell_type": "markdown",
   "metadata": {},
   "source": [
    "Determine the first crossing with zero of the in-sample derivatives $\\Delta E_{I,min}$:"
   ]
  },
  {
   "cell_type": "code",
   "execution_count": 4,
   "metadata": {},
   "outputs": [
    {
     "name": "stdout",
     "output_type": "stream",
     "text": [
      "The value of dE1 is 2.65\n"
     ]
    }
   ],
   "source": [
    "li = []\n",
    "\n",
    "for i in ([14,15,16,19,20,21]):\n",
    "    crossing = df_dx[(df_dx['derivative y%(i)s' %{\"i\": i}] > 0) & (df_dx['x%(i)s'% {\"i\": i}] > 1)]['x%(i)s'% {\"i\": i}].min()\n",
    "    li.append(crossing)\n",
    "    \n",
    "dE1 = min(li)\n",
    "dE1_min = np.round(dE1, 3)\n",
    "print(\"The value of dE1 is\", dE1_min)\n"
   ]
  },
  {
   "cell_type": "markdown",
   "metadata": {},
   "source": [
    "### Create plot of the derivatives"
   ]
  },
  {
   "cell_type": "code",
   "execution_count": 5,
   "metadata": {},
   "outputs": [
    {
     "name": "stderr",
     "output_type": "stream",
     "text": [
      "findfont: Font family ['sans-serif'] not found. Falling back to DejaVu Sans.\n",
      "findfont: Font family ['sans-serif'] not found. Falling back to DejaVu Sans.\n",
      "findfont: Font family ['sans-serif'] not found. Falling back to DejaVu Sans.\n",
      "findfont: Font family ['sans-serif'] not found. Falling back to DejaVu Sans.\n"
     ]
    },
    {
     "data": {
      "image/png": "[encoded data removed]",
      "text/plain": [
       "<Figure size 504x972 with 2 Axes>"
      ]
     },
     "metadata": {
      "needs_background": "light"
     },
     "output_type": "display_data"
    }
   ],
   "source": [
    "nrows, ncols = 3,1\n",
    "gs = matplotlib.gridspec.GridSpec(nrows,ncols)\n",
    "plt.figure(figsize=(ncols*7,nrows*4.5))\n",
    "\n",
    "cm_subsection = np.linspace(0,1,24) \n",
    "colors = [cm.viridis(x) for x in cm_subsection]\n",
    "\n",
    "hfont = rc('font',**{'family':'sans-serif','sans-serif':['Sans Serif']})\n",
    "          \n",
    "for i in range(2):\n",
    "    ax = plt.subplot(gs[i])\n",
    "    ax.set_xlim([0,9])\n",
    "    ax.tick_params(which='major',direction='in',length=7)\n",
    "    ax.tick_params(which='minor',length=8)\n",
    "    plt.axhline(y=0, color='black', linewidth=1, alpha=.8)\n",
    "    plt.axvline(x=0, color='darkgray', linestyle='--', linewidth = 1)\n",
    "    #plt.axvline(x=dE1, color='darkgray', linestyle='--', linewidth = 1, label='$\\Delta$E1' %{'s': dE1})\n",
    "    \n",
    "    for j in ([17,22,23]):\n",
    "        if i == 0:\n",
    "            p2 = ax.plot(df_dx['x%(i)s'% {\"i\": j}],df_dx['derivative y%(i)s' %{\"i\": j}], color=colors[j], label='%(i)s' %{\"i\": j})\n",
    "\n",
    "    for j in ([14,15,16,19,20,21]):\n",
    "        k = j-3\n",
    "        \n",
    "        if i == 0:\n",
    "            p1 = ax.plot(df_dx['x%(i)s'% {\"i\": j}],df_dx['derivative y%(i)s' %{\"i\": j}], color=colors[-k], label='%(i)s' %{\"i\": j})\n",
    "            ax.set_ylim([-.002, .001])\n",
    "            ax.set_xlim([0, 6])\n",
    "            ax.set_ylabel('dI/dE',fontsize=18)\n",
    "            ax.set_yticks([-0.002, -0.001, 0, 0.001])\n",
    "            ax.ticklabel_format(style='sci', axis='y', scilimits=(0,0))\n",
    "            ax.legend(loc=2, fontsize=16)\n",
    "        \n",
    "    for j in ([17,22,23]):   \n",
    "        if i == 1: \n",
    "            ax.axhline(y=1, linestyle='-', color='gray')\n",
    "            p1 = ax.plot(df_dx['x%(i)s'% {\"i\": j}], \\\n",
    "                         np.divide(df_dx['derivative y14'],df_dx['derivative y%(i)s'%{\"i\": j}]), 'k--', label='Ratio sp4/sp'%{\"i\":j})\n",
    "            \n",
    "            ax.axvline(x=1.65, linestyle='--')\n",
    "            ax.set_ylim([-1, 2])\n",
    "            ax.set_xlim([.5,3.5])   \n",
    "            ax.set_ylabel('R = dI/dE(sample) / dI/dE(vac)', fontsize=18)\n",
    "            ax.set_xlabel('$\\Delta$E (eV)', fontsize=218)\n",
    "            ax.legend()  \n",
    "    \n",
    "    if i == 0:\n",
    "        ax.tick_params(labelbottom=True)\n",
    "        ax.tick_params(which='major', length= 10, labelsize=18)\n",
    "        ax.tick_params(which='minor', length= 10, labelsize=10)\n",
    "    if i == 1:\n",
    "        ax.set_xlabel('Energy loss (eV)', fontsize=24)\n",
    "        ax.tick_params(length= 10, labelsize=18)\n",
    "        ax.tick_params(which='major', length= 10, labelsize=18)\n",
    "        ax.tick_params(which='minor', length= 10, labelsize=10)\n",
    "    \n",
    "plt.tight_layout()\n",
    "#plt.savefig(\"Derivatives.pdf\")\n",
    "plt.show()"
   ]
  },
  {
   "cell_type": "markdown",
   "metadata": {},
   "source": [
    "## Where to add pseudo data? $\\rightarrow \\Delta E_{II} = \\Delta E_{pd,min}$ "
   ]
  },
  {
   "cell_type": "code",
   "execution_count": 6,
   "metadata": {},
   "outputs": [
    {
     "name": "stdout",
     "output_type": "stream",
     "text": [
      "The value for dE_II is 12.0\n"
     ]
    }
   ],
   "source": [
    "df_vacmean = pd.DataFrame()\n",
    "nbins = 200\n",
    "\n",
    "df_vacmean['x'] = np.linspace(df_vacuum['x_shifted'].min(),df_vacuum['x_shifted'].max(), nbins)\n",
    "df_vacmean['y'], df_vacmean['sigma'] = binned_statistics(df_vacuum['x_shifted'], (df_vacuum['y']), nbins)[0:2]\n",
    "df_vacmean['ratio'] = np.divide(df_vacmean['y'], df_vacmean['sigma'])\n",
    "\n",
    "dE2 = df_vacmean['x'][df_vacmean['ratio'] < 1].min()\n",
    "dE2 = np.round(dE2)\n",
    "print(\"The value for dE_II is\", (dE2))"
   ]
  },
  {
   "cell_type": "code",
   "execution_count": 7,
   "metadata": {},
   "outputs": [
    {
     "name": "stderr",
     "output_type": "stream",
     "text": [
      "findfont: Font family ['sans-serif'] not found. Falling back to DejaVu Sans.\n"
     ]
    },
    {
     "data": {
      "image/png": "[encoded data removed]",
      "text/plain": [
       "<Figure size 360x756 with 1 Axes>"
      ]
     },
     "metadata": {
      "needs_background": "light"
     },
     "output_type": "display_data"
    }
   ],
   "source": [
    "nrows, ncols = 3,1\n",
    "gs = matplotlib.gridspec.GridSpec(nrows,ncols)\n",
    "plt.figure(figsize=(ncols*5,nrows*3.5))\n",
    "\n",
    "cm_subsection = np.linspace(0,1,24) \n",
    "colors = [cm.viridis(x) for x in cm_subsection]\n",
    "\n",
    "hfont = rc('font',**{'family':'sans-serif','sans-serif':['Sans Serif']})\n",
    "\n",
    "ax = plt.subplot(gs[i])\n",
    "ax.set_title('Intensity to sigma ratio', fontsize=16)\n",
    "ax.set_xlim([-1,15])\n",
    "ax.set_xlabel('Energy loss (eV)', fontsize=14)\n",
    "ax.tick_params(which='major',direction='in',length=7, labelsize=14)\n",
    "ax.tick_params(which='minor',length=8)\n",
    "p1 = ax.plot(df_vacmean['x'],smooth(np.divide(df_vacmean['y'], df_vacmean['sigma']), 10), color=colors[0])\n",
    "ax.axhline(y=1, linestyle='-')\n",
    "ax.axvline(x=dE2, linestyle='dotted', linewidth='2')\n",
    "plt.show()"
   ]
  },
  {
   "cell_type": "code",
   "execution_count": null,
   "metadata": {},
   "outputs": [],
   "source": []
  },
  {
   "cell_type": "code",
   "execution_count": 8,
   "metadata": {},
   "outputs": [
    {
     "name": "stdout",
     "output_type": "stream",
     "text": [
      "The values of dE1 and dE2: 2.65 eV and 12.0 eV\n"
     ]
    }
   ],
   "source": [
    "print('The values of dE1 and dE2:', np.round(dE1,2), \"eV and\", dE2, \"eV\")"
   ]
  },
  {
   "cell_type": "markdown",
   "metadata": {},
   "source": [
    "## Window and prepare data\n",
    "* Drop all data for $\\Delta$E $> \\Delta$E$_1$\n",
    "* Calculate the binned mean and variance of the spectra together with the function 'binned_statistics(x,y,nbins)'\n",
    "* Returns two pd.DataFrames 'df_mean' and 'df_vacmean' with the mean and variance data of the in-sample and in-vacuum spectra\n",
    "\n"
   ]
  },
  {
   "cell_type": "code",
   "execution_count": 9,
   "metadata": {},
   "outputs": [
    {
     "name": "stdout",
     "output_type": "stream",
     "text": [
      "Training data points for DeltaE > DeltaE_I have been removed.\n",
      "Experimental mean and sigma are calculated.\n"
     ]
    }
   ],
   "source": [
    "df_window = df[(df['x_shifted'] < dE1) & (df['x_shifted'] > -.5)]\n",
    "df_window_vacuum = df_vacuum[(df_vacuum['x_shifted'] <= dE1) & (df_vacuum['x_shifted'] > -.5)]\n",
    "\n",
    "df_mean, df_vacmean = pd.DataFrame(), pd.DataFrame()\n",
    "nbins = 32\n",
    "\n",
    "df_mean['x'] = np.linspace(df_window['x_shifted'].min(),df_window['x_shifted'].max(), nbins)\n",
    "df_mean['y'], df_mean['sigma'] = binned_statistics(df_window['x_shifted'], np.log(df_window['y']), nbins)[0:2]\n",
    "\n",
    "df_vacmean['x'] = np.linspace(df_window_vacuum['x_shifted'].min(),df_window_vacuum['x_shifted'].max(), nbins)\n",
    "df_vacmean['y'], df_vacmean['sigma'] = binned_statistics(df_window_vacuum['x_shifted'], np.log(df_window_vacuum['y']), nbins)[0:2]\n",
    "\n",
    "print(\"Training data points for DeltaE > DeltaE_I have been removed.\")\n",
    "print(\"Experimental mean and sigma are calculated.\")"
   ]
  },
  {
   "cell_type": "markdown",
   "metadata": {},
   "source": [
    "### Create pseudo data for $\\Delta$E $ > \\Delta$E$_{II}$"
   ]
  },
  {
   "cell_type": "code",
   "execution_count": 10,
   "metadata": {},
   "outputs": [
    {
     "name": "stdout",
     "output_type": "stream",
     "text": [
      "Pseudo data points added for Delta E > DeltaE_II\n",
      "Training data set \"df_full\" has been created\n"
     ]
    }
   ],
   "source": [
    "min_x = dE2\n",
    "max_x = 20\n",
    "N_pseudo = 30\n",
    "\n",
    "df_pseudo = pd.DataFrame({'x':np.linspace(min_x, max_x, N_pseudo),'y': .5 * np.ones(N_pseudo), \\\n",
    "                    'sigma': .08 * np.ones(N_pseudo)})\n",
    "df_full = pd.concat([df_mean, df_pseudo])\n",
    "\n",
    "print('Pseudo data points added for Delta E > DeltaE_II')\n",
    "print('Training data set \"df_full\" has been created')"
   ]
  },
  {
   "cell_type": "markdown",
   "metadata": {},
   "source": [
    "# Initialize the NN model"
   ]
  },
  {
   "cell_type": "markdown",
   "metadata": {},
   "source": [
    "### Create architecture"
   ]
  },
  {
   "cell_type": "code",
   "execution_count": 11,
   "metadata": {},
   "outputs": [
    {
     "name": "stdout",
     "output_type": "stream",
     "text": [
      "NN is initialized.\n"
     ]
    }
   ],
   "source": [
    "def make_model(inputs, n_outputs):\n",
    "    hidden_layer_1 = tf.layers.dense(inputs, 10, activation=tf.nn.sigmoid)\n",
    "    hidden_layer_2 = tf.layers.dense(hidden_layer_1, 15, activation=tf.nn.sigmoid)\n",
    "    hidden_layer_3 = tf.layers.dense(hidden_layer_2, 5, activation=tf.nn.relu)\n",
    "    output = tf.layers.dense(hidden_layer_3, n_outputs, name='outputs', reuse=tf.AUTO_REUSE)\n",
    "    return output\n",
    "\n",
    "print(\"NN is initialized.\")"
   ]
  },
  {
   "cell_type": "markdown",
   "metadata": {},
   "source": [
    "### Prepare data for training"
   ]
  },
  {
   "cell_type": "markdown",
   "metadata": {},
   "source": [
    "Cost function: $\\chi^2 = 1/N \\sum (y - y_{pred})^2 / \\sigma^2$ \\\n",
    "Optimizer: AdamOptimizer\n",
    "\n",
    "Training points are generated by Monte Carlo sampling; for the set of training points $[\\Delta E_i, D_i, \\sigma_i]$, a set of MC training points is generated by adding a stochastic noise signal on top of the the data with a std equal to the corresponding error on that point. \n",
    "\n",
    "- **train_x**: $\\Delta E_i$\n",
    "- **train_y**: $D_i$ + rand.norm(0, $\\sigma_i$)\n",
    "\n",
    "Repetitive training of the NN (number of repetitions = $N_{rep}$) on each set of MC pseudo data yields a prediction that is distributed with a mean and std corresponding to the mean and error of the original training set. \n"
   ]
  },
  {
   "cell_type": "code",
   "execution_count": 12,
   "metadata": {},
   "outputs": [
    {
     "name": "stdout",
     "output_type": "stream",
     "text": [
      "WARNING:tensorflow:From <ipython-input-11-5eeb27ec4819>:2: dense (from tensorflow.python.keras.legacy_tf_layers.core) is deprecated and will be removed in a future version.\n",
      "Instructions for updating:\n",
      "Use keras.layers.Dense instead.\n",
      "WARNING:tensorflow:From /Users/laurienroest/opt/anaconda3/lib/python3.8/site-packages/tensorflow/python/keras/legacy_tf_layers/core.py:187: Layer.apply (from tensorflow.python.keras.engine.base_layer_v1) is deprecated and will be removed in a future version.\n",
      "Instructions for updating:\n",
      "Please use `layer.__call__` method instead.\n",
      "Dataset is split into train subset (80%) and validation subset (20%)\n"
     ]
    }
   ],
   "source": [
    "tf.compat.v1.get_default_graph\n",
    "tf.compat.v1.disable_eager_execution()\n",
    "\n",
    "x = tf.placeholder(\"float\", [None, 1], name=\"x\")\n",
    "y = tf.placeholder(\"float\", [None, 1], name=\"y\")\n",
    "sigma = tf.placeholder(\"float\", [None, 1], name=\"sigma\")\n",
    "\n",
    "predictions = make_model(x,1)\n",
    "\n",
    "df_train_full = df_full\n",
    "df_train_full = df_train_full.drop_duplicates(subset = ['x']) # Only keep one copy per x-value\n",
    "\n",
    "df_train, df_test = train_test_split(df_train_full, test_size=0.2)\n",
    "\n",
    "N_train = len(df_train['x'])\n",
    "N_test = len(df_test['x'])\n",
    "\n",
    "train_x = np.copy(df_train['x']).reshape(N_train,1)\n",
    "train_y = np.copy(df_train['y']).reshape(N_train,1)\n",
    "train_sigma = (np.copy(df_train['sigma'])).reshape(N_train,1)\n",
    "\n",
    "test_x = np.copy(df_test['x']).reshape(N_test,1)\n",
    "test_y = np.copy(df_test['y']).reshape(N_test,1)\n",
    "test_sigma = np.copy(df_test['sigma']).reshape(N_test,1)\n",
    "\n",
    "\n",
    "\n",
    "N_pred = 3000\n",
    "pred_min = -.5\n",
    "pred_max = 20\n",
    "predict_x = np.linspace(pred_min,pred_max,N_pred).reshape(N_pred,1)\n",
    "\n",
    "print(\"Dataset is split into train subset (80%) and validation subset (20%)\")"
   ]
  },
  {
   "cell_type": "code",
   "execution_count": 13,
   "metadata": {},
   "outputs": [
    {
     "name": "stderr",
     "output_type": "stream",
     "text": [
      "findfont: Font family ['sans-serif'] not found. Falling back to DejaVu Sans.\n"
     ]
    },
    {
     "data": {
      "image/png": "[encoded data removed]",
      "text/plain": [
       "<Figure size 432x288 with 1 Axes>"
      ]
     },
     "metadata": {
      "needs_background": "light"
     },
     "output_type": "display_data"
    }
   ],
   "source": [
    "plt.figure(figsize=(6,4))\n",
    "plt.plot(train_x, train_y, '.', label='train')\n",
    "plt.plot(test_x, test_y, '.', label='test')\n",
    "plt.axvline(x=dE1, color='lightgray')\n",
    "plt.axvline(x=dE2, color='lightgray')\n",
    "plt.title('Visualization of training data', fontsize=15)\n",
    "plt.ylabel('Log intensity', fontsize=14)\n",
    "plt.xlabel('Energy loss (eV)', fontsize=14)\n",
    "plt.legend(fontsize=14)\n",
    "plt.show()"
   ]
  },
  {
   "cell_type": "markdown",
   "metadata": {},
   "source": [
    "## Create MC replicas"
   ]
  },
  {
   "cell_type": "code",
   "execution_count": 14,
   "metadata": {},
   "outputs": [
    {
     "name": "stdout",
     "output_type": "stream",
     "text": [
      "MC pseudo data has been created for 1000 replicas\n"
     ]
    }
   ],
   "source": [
    "Nrep = 1000\n",
    "\n",
    "train_y_reps = np.zeros(shape=(N_train, Nrep))\n",
    "test_y_reps = np.zeros(shape=(N_test, Nrep))\n",
    "i=0\n",
    "while i < Nrep:\n",
    "        train_rep = np.random.normal(0, train_sigma)\n",
    "        test_rep = np.random.normal(0, test_sigma)\n",
    "        train_y_reps[:,i] = (train_y + train_rep).reshape(N_train)\n",
    "        test_y_reps[:,i] = (test_y + test_rep).reshape(N_test)\n",
    "        i+=1 \n",
    "        \n",
    "std_reps = np.std(train_y_reps, axis=1)\n",
    "mean_reps = np.mean(train_y_reps, axis=1)\n",
    "\n",
    "print('MC pseudo data has been created for 1000 replicas')"
   ]
  },
  {
   "cell_type": "code",
   "execution_count": null,
   "metadata": {},
   "outputs": [],
   "source": []
  },
  {
   "cell_type": "code",
   "execution_count": 28,
   "metadata": {
    "scrolled": false
   },
   "outputs": [],
   "source": [
    "import time\n",
    "from datetime import datetime\n",
    "now = datetime.now()\n",
    "\n",
    "def function_train():\n",
    "    \n",
    "    chi_array = []\n",
    "    \n",
    "    cost = tf.reduce_mean(tf.square((y-predictions)/sigma), name=\"cost_function\")\n",
    "    eta = 5e-3\n",
    "    optimizer = tf.train.RMSPropOptimizer(learning_rate=eta, decay=0.9, momentum=0.0, epsilon=1e-10).minimize(cost)\n",
    "    saver = tf.train.Saver(max_to_keep=100)\n",
    "    \n",
    "    print(\"Start training on\", '%04d'%(N_train), \"and validating on\",'%0.4d'%(N_test), \"samples\")\n",
    "    \n",
    "    Nrep = 10\n",
    "\n",
    "    for i in range(Nrep):\n",
    "\n",
    "        train_y = train_y_reps[:, i].reshape(N_train,1)\n",
    "        test_y = test_y_reps[:, i].reshape(N_test,1)\n",
    "        \n",
    "        ### Train and validate\n",
    "        prev_test_cost = 0\n",
    "        prev_epoch = 0\n",
    "        avg_cost = 0\n",
    "\n",
    "        array_train = []\n",
    "        array_test = []\n",
    "\n",
    "        with tf.Session() as sess:\n",
    "\n",
    "            sess.run(tf.global_variables_initializer())\n",
    "            \n",
    "            training_epochs = 25000\n",
    "            display_step = 1000\n",
    "\n",
    "            for epoch in range(training_epochs):\n",
    "\n",
    "                _, c = sess.run([optimizer, cost], \n",
    "                                feed_dict={\n",
    "                                    x: train_x,\n",
    "                                    y: train_y,\n",
    "                                    sigma: train_sigma\n",
    "                                })\n",
    "\n",
    "                avg_cost = c\n",
    "                \n",
    "                test_cost = cost.eval({x: test_x, y: test_y, sigma: test_sigma})\n",
    "\n",
    "\n",
    "                if epoch % display_step == 0:\n",
    "                    print(\"Epoch:\", '%04d' % (epoch+1), \"| Training cost=\", \"{:.9f}\".format(avg_cost), \"| Validation cost=\", \"{:.9f}\".format(test_cost))\n",
    "                    array_train.append(avg_cost)\n",
    "                    array_test.append(test_cost)\n",
    "                    saver.save(sess, 'Models/All_models/my-model.ckpt', global_step=epoch , write_meta_graph=False) \n",
    "\n",
    "                    \n",
    "                elif test_cost < prev_test_cost:\n",
    "                    prev_test_cost = test_cost\n",
    "                    prev_epoch = epoch\n",
    "\n",
    "            best_iteration = np.argmin(array_test) \n",
    "            best_epoch = best_iteration * display_step\n",
    "            best_model = 'Models/All_models/my-model.ckpt-%(s)s' % {'s': best_epoch}\n",
    "\n",
    "            print(\"Optimization %(i)s Finished! Best model after epoch %(s)s\" % {'i': i, 's': best_epoch})\n",
    "            \n",
    "\n",
    "\n",
    "            dt_string = now.strftime(\"%d.%m.%Y %H:%M:%S\")\n",
    "            d_string = now.strftime(\"%d.%m.%Y\")\n",
    "            t_string = now.strftime(\"%H:%M:%S\")\n",
    "            \n",
    "            saver.restore(sess, best_model)\n",
    "            saver.save(sess, 'Models/Best_models/%(s)s/best_model_%(i)s' % {'s': d_string, 'i': i})\n",
    "\n",
    "\n",
    "            predictions_values = sess.run(predictions, \n",
    "                                feed_dict={\n",
    "                                    x: train_x,\n",
    "                                    y: train_y \n",
    "                                }) \n",
    "\n",
    "\n",
    "            extrapolation = sess.run(predictions,\n",
    "                                feed_dict={\n",
    "                                    x: predict_x\n",
    "                                })\n",
    "            \n",
    "\n",
    "        sess.close()\n",
    "        \n",
    "\n",
    "        \n",
    "\n",
    "        a = np.array(train_x).reshape(N_train,)\n",
    "        b = np.array(train_y).reshape(N_train,)\n",
    "        c = np.array(predictions_values).reshape(N_train,)\n",
    "        \n",
    "        d = array_train\n",
    "        e = array_test\n",
    "       \n",
    "        k = np.array(predict_x).reshape(N_pred,)\n",
    "        l = np.array(extrapolation).reshape(N_pred,)\n",
    "        \n",
    "        path_to_data = 'Data/Results/%(date)s/'% {\"date\": d_string} \n",
    "        \n",
    "        np.savetxt(path_to_data + 'Predictions_%(i)s.csv' % {\"i\": i}, list(zip(a,b,c)),  delimiter=',', fmt='%f')\n",
    "        np.savetxt(path_to_data + 'Cost_%(i)s.csv' % {\"i\": i}, list(zip(d,e)),  delimiter=',',fmt='%f')\n",
    "        np.savetxt(path_to_data + 'Extrapolation_%(i)s.csv' % {\"i\":i}, list(zip(k, l)),  delimiter=',', fmt='%f')\n",
    " "
   ]
  },
  {
   "cell_type": "code",
   "execution_count": null,
   "metadata": {},
   "outputs": [],
   "source": [
    "\n"
   ]
  },
  {
   "cell_type": "markdown",
   "metadata": {},
   "source": [
    "## Serial training"
   ]
  },
  {
   "cell_type": "code",
   "execution_count": 29,
   "metadata": {
    "scrolled": true
   },
   "outputs": [
    {
     "name": "stdout",
     "output_type": "stream",
     "text": [
      "Start training on 0049 and validating on 0013 samples\n",
      "Epoch: 0001 | Training cost= 10720.620117188 | Validation cost= 8175.518066406\n",
      "Epoch: 1001 | Training cost= 19.039659500 | Validation cost= 55.380405426\n",
      "Epoch: 2001 | Training cost= 14.256082535 | Validation cost= 41.923042297\n",
      "Epoch: 3001 | Training cost= 11.165829659 | Validation cost= 34.398033142\n",
      "Epoch: 4001 | Training cost= 9.375081062 | Validation cost= 30.529554367\n",
      "Epoch: 5001 | Training cost= 8.343197823 | Validation cost= 28.814901352\n",
      "Epoch: 6001 | Training cost= 7.624627113 | Validation cost= 27.953172684\n",
      "Epoch: 7001 | Training cost= 6.878604412 | Validation cost= 27.182645798\n",
      "Epoch: 8001 | Training cost= 6.233345509 | Validation cost= 26.162034988\n",
      "Epoch: 9001 | Training cost= 5.626157284 | Validation cost= 25.008922577\n",
      "Epoch: 10001 | Training cost= 5.254929543 | Validation cost= 24.122486115\n",
      "Epoch: 11001 | Training cost= 5.039613724 | Validation cost= 23.526317596\n",
      "Epoch: 12001 | Training cost= 4.910371304 | Validation cost= 23.212524414\n",
      "Epoch: 13001 | Training cost= 4.810867310 | Validation cost= 22.892597198\n",
      "Epoch: 14001 | Training cost= 4.715313435 | Validation cost= 22.634874344\n",
      "Epoch: 15001 | Training cost= 4.537449837 | Validation cost= 22.329622269\n",
      "Epoch: 16001 | Training cost= 4.489101410 | Validation cost= 22.040132523\n",
      "Epoch: 17001 | Training cost= 4.441984653 | Validation cost= 21.763679504\n",
      "Epoch: 18001 | Training cost= 4.398004532 | Validation cost= 21.482734680\n",
      "Epoch: 19001 | Training cost= 4.337848663 | Validation cost= 21.052894592\n",
      "Epoch: 20001 | Training cost= 3.748794317 | Validation cost= 17.257905960\n",
      "Epoch: 21001 | Training cost= 2.650251150 | Validation cost= 9.856767654\n",
      "Epoch: 22001 | Training cost= 2.224724770 | Validation cost= 5.658780575\n",
      "Epoch: 23001 | Training cost= 2.098856211 | Validation cost= 3.995541096\n",
      "Epoch: 24001 | Training cost= 2.026861429 | Validation cost= 3.120337486\n",
      "Optimization 0 Finished! Best model after epoch 24000\n",
      "INFO:tensorflow:Restoring parameters from Models/All_models/my-model.ckpt-24000\n",
      "Epoch: 0001 | Training cost= 9950.211914062 | Validation cost= 7968.464355469\n",
      "Epoch: 1001 | Training cost= 4621.208984375 | Validation cost= 4191.158203125\n",
      "Epoch: 2001 | Training cost= 4531.521484375 | Validation cost= 4179.639160156\n",
      "Epoch: 3001 | Training cost= 4531.521484375 | Validation cost= 4179.639648438\n",
      "Epoch: 4001 | Training cost= 4531.521484375 | Validation cost= 4179.639160156\n",
      "Epoch: 5001 | Training cost= 4531.521484375 | Validation cost= 4179.638671875\n",
      "Epoch: 6001 | Training cost= 4531.521484375 | Validation cost= 4179.639160156\n",
      "Epoch: 7001 | Training cost= 4531.521972656 | Validation cost= 4179.639160156\n",
      "Epoch: 8001 | Training cost= 4531.521484375 | Validation cost= 4179.639160156\n",
      "Epoch: 9001 | Training cost= 4531.521484375 | Validation cost= 4179.639160156\n",
      "Epoch: 10001 | Training cost= 4531.521484375 | Validation cost= 4179.639648438\n",
      "Epoch: 11001 | Training cost= 4531.521484375 | Validation cost= 4179.639160156\n",
      "Epoch: 12001 | Training cost= 4531.521484375 | Validation cost= 4179.638671875\n",
      "Epoch: 13001 | Training cost= 4531.521484375 | Validation cost= 4179.639648438\n",
      "Epoch: 14001 | Training cost= 4531.521972656 | Validation cost= 4179.639160156\n",
      "Epoch: 15001 | Training cost= 4531.521484375 | Validation cost= 4179.639160156\n",
      "Epoch: 16001 | Training cost= 4531.521484375 | Validation cost= 4179.639160156\n",
      "Epoch: 17001 | Training cost= 4531.521484375 | Validation cost= 4179.639648438\n",
      "Epoch: 18001 | Training cost= 4531.521484375 | Validation cost= 4179.638671875\n",
      "Epoch: 19001 | Training cost= 4531.521484375 | Validation cost= 4179.638671875\n",
      "Epoch: 20001 | Training cost= 4531.521484375 | Validation cost= 4179.639160156\n",
      "Epoch: 21001 | Training cost= 4531.521972656 | Validation cost= 4179.639160156\n",
      "Epoch: 22001 | Training cost= 4531.521484375 | Validation cost= 4179.639160156\n",
      "Epoch: 23001 | Training cost= 4531.521484375 | Validation cost= 4179.639160156\n",
      "Epoch: 24001 | Training cost= 4531.521484375 | Validation cost= 4179.639648438\n",
      "Optimization 1 Finished! Best model after epoch 5000\n",
      "INFO:tensorflow:Restoring parameters from Models/All_models/my-model.ckpt-5000\n",
      "Epoch: 0001 | Training cost= 9062.934570312 | Validation cost= 7052.091308594\n",
      "Epoch: 1001 | Training cost= 15.173581123 | Validation cost= 50.730308533\n",
      "Epoch: 2001 | Training cost= 10.317643166 | Validation cost= 36.953960419\n",
      "Epoch: 3001 | Training cost= 7.702540874 | Validation cost= 30.344810486\n",
      "Epoch: 4001 | Training cost= 6.830682278 | Validation cost= 27.905984879\n",
      "Epoch: 5001 | Training cost= 5.671557903 | Validation cost= 22.302852631\n",
      "Epoch: 6001 | Training cost= 3.446316242 | Validation cost= 5.168407917\n",
      "Epoch: 7001 | Training cost= 2.760078669 | Validation cost= 1.752104878\n",
      "Epoch: 8001 | Training cost= 2.528847456 | Validation cost= 1.595366716\n",
      "Epoch: 9001 | Training cost= 2.393414259 | Validation cost= 1.607442975\n",
      "Epoch: 10001 | Training cost= 2.252715111 | Validation cost= 1.635783553\n",
      "Epoch: 11001 | Training cost= 2.120473862 | Validation cost= 1.637435913\n",
      "Epoch: 12001 | Training cost= 2.025496721 | Validation cost= 1.573204637\n",
      "Epoch: 13001 | Training cost= 1.947162032 | Validation cost= 1.550096631\n",
      "Epoch: 14001 | Training cost= 1.877454638 | Validation cost= 1.554185152\n",
      "Epoch: 15001 | Training cost= 1.814322352 | Validation cost= 1.576965809\n",
      "Epoch: 16001 | Training cost= 1.757748961 | Validation cost= 1.615995884\n",
      "Epoch: 17001 | Training cost= 1.707771778 | Validation cost= 1.670343518\n",
      "Epoch: 18001 | Training cost= 1.663406014 | Validation cost= 1.715180039\n",
      "Epoch: 19001 | Training cost= 1.622645378 | Validation cost= 1.747722030\n",
      "Epoch: 20001 | Training cost= 1.577889442 | Validation cost= 1.801496387\n",
      "Epoch: 21001 | Training cost= 1.534909606 | Validation cost= 1.966742992\n",
      "Epoch: 22001 | Training cost= 1.475060940 | Validation cost= 2.033132076\n",
      "Epoch: 23001 | Training cost= 1.447690725 | Validation cost= 2.144309044\n",
      "Epoch: 24001 | Training cost= 1.437620044 | Validation cost= 2.235254049\n",
      "Optimization 2 Finished! Best model after epoch 13000\n",
      "INFO:tensorflow:Restoring parameters from Models/All_models/my-model.ckpt-13000\n",
      "Epoch: 0001 | Training cost= 9098.641601562 | Validation cost= 7106.271484375\n",
      "Epoch: 1001 | Training cost= 18.507024765 | Validation cost= 71.430587769\n",
      "Epoch: 2001 | Training cost= 12.298875809 | Validation cost= 51.606037140\n",
      "Epoch: 3001 | Training cost= 8.967422485 | Validation cost= 39.882831573\n",
      "Epoch: 4001 | Training cost= 7.641192913 | Validation cost= 35.917301178\n",
      "Epoch: 5001 | Training cost= 7.463266850 | Validation cost= 34.889129639\n",
      "Epoch: 6001 | Training cost= 7.143287659 | Validation cost= 34.373634338\n",
      "Epoch: 7001 | Training cost= 6.452056408 | Validation cost= 32.793094635\n",
      "Epoch: 8001 | Training cost= 5.988135338 | Validation cost= 31.708290100\n",
      "Epoch: 9001 | Training cost= 5.546891212 | Validation cost= 30.467710495\n",
      "Epoch: 10001 | Training cost= 5.373702526 | Validation cost= 29.621009827\n",
      "Epoch: 11001 | Training cost= 5.141799450 | Validation cost= 29.121776581\n",
      "Epoch: 12001 | Training cost= 1.916169047 | Validation cost= 2.488028288\n",
      "Epoch: 13001 | Training cost= 1.703906775 | Validation cost= 2.279329777\n",
      "Epoch: 14001 | Training cost= 1.528084278 | Validation cost= 2.305291653\n",
      "Epoch: 15001 | Training cost= 1.614932179 | Validation cost= 2.385595083\n",
      "Epoch: 16001 | Training cost= 1.587524891 | Validation cost= 2.354865789\n",
      "Epoch: 17001 | Training cost= 1.527827978 | Validation cost= 2.232955456\n",
      "Epoch: 18001 | Training cost= 1.514648438 | Validation cost= 2.231102228\n",
      "Epoch: 19001 | Training cost= 1.499690294 | Validation cost= 2.231157780\n",
      "Epoch: 20001 | Training cost= 1.490674257 | Validation cost= 2.237382650\n",
      "Epoch: 21001 | Training cost= 1.470433235 | Validation cost= 2.189871073\n",
      "Epoch: 22001 | Training cost= 1.463690162 | Validation cost= 2.214292049\n",
      "Epoch: 23001 | Training cost= 1.452865005 | Validation cost= 2.232912779\n",
      "Epoch: 24001 | Training cost= 1.442673802 | Validation cost= 2.256348372\n",
      "Optimization 3 Finished! Best model after epoch 21000\n",
      "INFO:tensorflow:Restoring parameters from Models/All_models/my-model.ckpt-21000\n",
      "Epoch: 0001 | Training cost= 8964.642578125 | Validation cost= 6787.765136719\n",
      "Epoch: 1001 | Training cost= 19.423187256 | Validation cost= 44.231815338\n"
     ]
    },
    {
     "name": "stdout",
     "output_type": "stream",
     "text": [
      "Epoch: 2001 | Training cost= 13.552214622 | Validation cost= 35.731266022\n",
      "Epoch: 3001 | Training cost= 9.945284843 | Validation cost= 30.900037766\n",
      "Epoch: 4001 | Training cost= 8.468137741 | Validation cost= 28.746187210\n",
      "Epoch: 5001 | Training cost= 7.703015804 | Validation cost= 27.135761261\n",
      "Epoch: 6001 | Training cost= 7.188170910 | Validation cost= 26.660657883\n",
      "Epoch: 7001 | Training cost= 6.809579849 | Validation cost= 25.650535583\n",
      "Epoch: 8001 | Training cost= 4.405245304 | Validation cost= 13.941923141\n",
      "Epoch: 9001 | Training cost= 2.723119259 | Validation cost= 6.732543945\n",
      "Epoch: 10001 | Training cost= 2.403989792 | Validation cost= 5.813376427\n",
      "Epoch: 11001 | Training cost= 2.102124214 | Validation cost= 4.936864853\n",
      "Epoch: 12001 | Training cost= 1.950729370 | Validation cost= 4.146101952\n",
      "Epoch: 13001 | Training cost= 1.732394218 | Validation cost= 3.310798883\n",
      "Epoch: 14001 | Training cost= 1.579986930 | Validation cost= 2.675148487\n",
      "Epoch: 15001 | Training cost= 1.509428978 | Validation cost= 2.407523155\n",
      "Epoch: 16001 | Training cost= 1.425279737 | Validation cost= 2.611956120\n",
      "Epoch: 17001 | Training cost= 1.287999392 | Validation cost= 2.716879606\n",
      "Epoch: 18001 | Training cost= 1.320419192 | Validation cost= 3.014777660\n",
      "Epoch: 19001 | Training cost= 1.312799692 | Validation cost= 3.359968662\n",
      "Epoch: 20001 | Training cost= 1.199641943 | Validation cost= 3.402772188\n",
      "Epoch: 21001 | Training cost= 1.206966281 | Validation cost= 3.523867607\n",
      "Epoch: 22001 | Training cost= 1.208894730 | Validation cost= 3.616480589\n",
      "Epoch: 23001 | Training cost= 1.162045240 | Validation cost= 3.652413607\n",
      "Epoch: 24001 | Training cost= 1.199960589 | Validation cost= 3.844954967\n",
      "Optimization 4 Finished! Best model after epoch 15000\n",
      "INFO:tensorflow:Restoring parameters from Models/All_models/my-model.ckpt-15000\n",
      "Epoch: 0001 | Training cost= 10121.558593750 | Validation cost= 7802.798828125\n",
      "Epoch: 1001 | Training cost= 17.153709412 | Validation cost= 47.555850983\n",
      "Epoch: 2001 | Training cost= 11.930949211 | Validation cost= 37.349098206\n",
      "Epoch: 3001 | Training cost= 9.328700066 | Validation cost= 33.881111145\n",
      "Epoch: 4001 | Training cost= 9.410766602 | Validation cost= 33.039699554\n",
      "Epoch: 5001 | Training cost= 8.865210533 | Validation cost= 32.733482361\n",
      "Epoch: 6001 | Training cost= 7.757256508 | Validation cost= 32.553379059\n",
      "Epoch: 7001 | Training cost= 6.635675430 | Validation cost= 31.473850250\n",
      "Epoch: 8001 | Training cost= 6.488564491 | Validation cost= 30.390552521\n",
      "Epoch: 9001 | Training cost= 6.168312550 | Validation cost= 29.155242920\n",
      "Epoch: 10001 | Training cost= 5.792421818 | Validation cost= 28.141736984\n",
      "Epoch: 11001 | Training cost= 5.267326355 | Validation cost= 27.643686295\n",
      "Epoch: 12001 | Training cost= 5.251523972 | Validation cost= 27.285945892\n",
      "Epoch: 13001 | Training cost= 5.409344673 | Validation cost= 26.991092682\n",
      "Epoch: 14001 | Training cost= 5.443656921 | Validation cost= 26.762083054\n",
      "Epoch: 15001 | Training cost= 5.698260307 | Validation cost= 26.360748291\n",
      "Epoch: 16001 | Training cost= 5.276981831 | Validation cost= 26.396205902\n",
      "Epoch: 17001 | Training cost= 5.218976498 | Validation cost= 26.176576614\n",
      "Epoch: 18001 | Training cost= 5.137199402 | Validation cost= 25.981763840\n",
      "Epoch: 19001 | Training cost= 5.056547165 | Validation cost= 25.859231949\n",
      "Epoch: 20001 | Training cost= 4.917747974 | Validation cost= 25.756446838\n",
      "Epoch: 21001 | Training cost= 4.865444660 | Validation cost= 25.627559662\n",
      "Epoch: 22001 | Training cost= 4.897209167 | Validation cost= 25.452770233\n",
      "Epoch: 23001 | Training cost= 4.831225872 | Validation cost= 25.556552887\n",
      "Epoch: 24001 | Training cost= 4.785290718 | Validation cost= 25.628427505\n",
      "Optimization 5 Finished! Best model after epoch 22000\n",
      "INFO:tensorflow:Restoring parameters from Models/All_models/my-model.ckpt-22000\n",
      "Epoch: 0001 | Training cost= 9730.027343750 | Validation cost= 7679.310546875\n",
      "Epoch: 1001 | Training cost= 17.625751495 | Validation cost= 50.558437347\n",
      "Epoch: 2001 | Training cost= 10.354602814 | Validation cost= 34.388343811\n",
      "Epoch: 3001 | Training cost= 7.892394543 | Validation cost= 30.228605270\n",
      "Epoch: 4001 | Training cost= 7.120808601 | Validation cost= 29.326190948\n",
      "Epoch: 5001 | Training cost= 6.634594440 | Validation cost= 27.791557312\n",
      "Epoch: 6001 | Training cost= 5.152052402 | Validation cost= 20.193119049\n",
      "Epoch: 7001 | Training cost= 2.178129673 | Validation cost= 3.138741732\n",
      "Epoch: 8001 | Training cost= 1.943277121 | Validation cost= 2.052281857\n",
      "Epoch: 9001 | Training cost= 1.834899068 | Validation cost= 1.845274687\n",
      "Epoch: 10001 | Training cost= 1.742538571 | Validation cost= 1.737862468\n",
      "Epoch: 11001 | Training cost= 1.688810349 | Validation cost= 1.678379059\n",
      "Epoch: 12001 | Training cost= 1.649034142 | Validation cost= 1.637214422\n",
      "Epoch: 13001 | Training cost= 1.620448351 | Validation cost= 1.609240770\n",
      "Epoch: 14001 | Training cost= 1.599895835 | Validation cost= 1.587883711\n",
      "Epoch: 15001 | Training cost= 1.583423257 | Validation cost= 1.567907214\n",
      "Epoch: 16001 | Training cost= 1.569192529 | Validation cost= 1.547807455\n",
      "Epoch: 17001 | Training cost= 1.556357741 | Validation cost= 1.527662754\n",
      "Epoch: 18001 | Training cost= 1.544525743 | Validation cost= 1.508076310\n",
      "Epoch: 19001 | Training cost= 1.533418894 | Validation cost= 1.489490509\n",
      "Epoch: 20001 | Training cost= 1.522748232 | Validation cost= 1.471935868\n",
      "Epoch: 21001 | Training cost= 1.512603641 | Validation cost= 1.455434918\n",
      "Epoch: 22001 | Training cost= 1.502838969 | Validation cost= 1.439710498\n",
      "Epoch: 23001 | Training cost= 1.493413329 | Validation cost= 1.424426198\n",
      "Epoch: 24001 | Training cost= 1.484181881 | Validation cost= 1.409217000\n",
      "Optimization 6 Finished! Best model after epoch 24000\n",
      "INFO:tensorflow:Restoring parameters from Models/All_models/my-model.ckpt-24000\n",
      "Epoch: 0001 | Training cost= 8953.414062500 | Validation cost= 7146.140136719\n",
      "Epoch: 1001 | Training cost= 13.133675575 | Validation cost= 47.421878815\n",
      "Epoch: 2001 | Training cost= 8.140573502 | Validation cost= 37.763359070\n",
      "Epoch: 3001 | Training cost= 5.962768555 | Validation cost= 33.906913757\n",
      "Epoch: 4001 | Training cost= 5.268276215 | Validation cost= 32.525852203\n",
      "Epoch: 5001 | Training cost= 5.068418980 | Validation cost= 31.900033951\n",
      "Epoch: 6001 | Training cost= 4.757663727 | Validation cost= 31.178941727\n",
      "Epoch: 7001 | Training cost= 4.480250359 | Validation cost= 30.388710022\n",
      "Epoch: 8001 | Training cost= 4.152387142 | Validation cost= 29.551170349\n",
      "Epoch: 9001 | Training cost= 3.953586102 | Validation cost= 28.802835464\n",
      "Epoch: 10001 | Training cost= 3.846478462 | Validation cost= 28.176931381\n",
      "Epoch: 11001 | Training cost= 3.633787155 | Validation cost= 27.650352478\n",
      "Epoch: 12001 | Training cost= 3.585112572 | Validation cost= 27.241100311\n",
      "Epoch: 13001 | Training cost= 3.427582502 | Validation cost= 26.872226715\n",
      "Epoch: 14001 | Training cost= 3.353374481 | Validation cost= 26.585090637\n",
      "Epoch: 15001 | Training cost= 3.276020527 | Validation cost= 26.336585999\n",
      "Epoch: 16001 | Training cost= 3.182646990 | Validation cost= 26.070953369\n",
      "Epoch: 17001 | Training cost= 2.159869194 | Validation cost= 20.446254730\n",
      "Epoch: 18001 | Training cost= 1.096035480 | Validation cost= 4.275578022\n",
      "Epoch: 19001 | Training cost= 1.057971597 | Validation cost= 4.051245689\n",
      "Epoch: 20001 | Training cost= 1.024679422 | Validation cost= 3.903498173\n",
      "Epoch: 21001 | Training cost= 0.987983465 | Validation cost= 3.772985935\n",
      "Epoch: 22001 | Training cost= 0.924346089 | Validation cost= 3.577413082\n",
      "Epoch: 23001 | Training cost= 0.916326165 | Validation cost= 3.497930765\n",
      "Epoch: 24001 | Training cost= 0.912542820 | Validation cost= 3.438031912\n",
      "Optimization 7 Finished! Best model after epoch 24000\n",
      "INFO:tensorflow:Restoring parameters from Models/All_models/my-model.ckpt-24000\n",
      "Epoch: 0001 | Training cost= 10487.771484375 | Validation cost= 7818.757324219\n",
      "Epoch: 1001 | Training cost= 21.820350647 | Validation cost= 64.119331360\n",
      "Epoch: 2001 | Training cost= 15.883125305 | Validation cost= 50.040439606\n",
      "Epoch: 3001 | Training cost= 12.230683327 | Validation cost= 41.619960785\n",
      "Epoch: 4001 | Training cost= 10.025714874 | Validation cost= 36.298641205\n",
      "Epoch: 5001 | Training cost= 7.991362095 | Validation cost= 30.300516129\n",
      "Epoch: 6001 | Training cost= 4.079527855 | Validation cost= 5.069559574\n"
     ]
    },
    {
     "name": "stdout",
     "output_type": "stream",
     "text": [
      "Epoch: 7001 | Training cost= 3.365227938 | Validation cost= 4.524956226\n",
      "Epoch: 8001 | Training cost= 2.981544733 | Validation cost= 4.697145939\n",
      "Epoch: 9001 | Training cost= 2.807151556 | Validation cost= 4.944725513\n",
      "Epoch: 10001 | Training cost= 2.607434273 | Validation cost= 5.040033817\n",
      "Epoch: 11001 | Training cost= 2.320273161 | Validation cost= 4.378890991\n",
      "Epoch: 12001 | Training cost= 2.169502974 | Validation cost= 4.528001308\n",
      "Epoch: 13001 | Training cost= 2.060718060 | Validation cost= 4.328609943\n",
      "Epoch: 14001 | Training cost= 1.963676333 | Validation cost= 4.194242477\n",
      "Epoch: 15001 | Training cost= 1.912705421 | Validation cost= 4.090384483\n",
      "Epoch: 16001 | Training cost= 1.859859109 | Validation cost= 4.060946941\n",
      "Epoch: 17001 | Training cost= 1.824723482 | Validation cost= 4.006601810\n",
      "Epoch: 18001 | Training cost= 1.767999172 | Validation cost= 4.015243053\n",
      "Epoch: 19001 | Training cost= 1.756983399 | Validation cost= 4.003785133\n",
      "Epoch: 20001 | Training cost= 1.711698890 | Validation cost= 3.969966888\n",
      "Epoch: 21001 | Training cost= 1.686992049 | Validation cost= 3.933753490\n",
      "Epoch: 22001 | Training cost= 1.641935110 | Validation cost= 3.900717497\n",
      "Epoch: 23001 | Training cost= 1.635193229 | Validation cost= 3.880514860\n",
      "Epoch: 24001 | Training cost= 1.605154753 | Validation cost= 3.892541170\n",
      "Optimization 8 Finished! Best model after epoch 23000\n",
      "INFO:tensorflow:Restoring parameters from Models/All_models/my-model.ckpt-23000\n",
      "Epoch: 0001 | Training cost= 9477.273437500 | Validation cost= 7617.534667969\n",
      "Epoch: 1001 | Training cost= 7.854193211 | Validation cost= 39.011718750\n",
      "Epoch: 2001 | Training cost= 5.951756001 | Validation cost= 29.365207672\n",
      "Epoch: 3001 | Training cost= 4.790728092 | Validation cost= 23.602617264\n",
      "Epoch: 4001 | Training cost= 2.547475815 | Validation cost= 8.297591209\n",
      "Epoch: 5001 | Training cost= 1.851436377 | Validation cost= 2.454967022\n",
      "Epoch: 6001 | Training cost= 1.732764721 | Validation cost= 2.062843800\n",
      "Epoch: 7001 | Training cost= 1.665943980 | Validation cost= 1.939522624\n",
      "Epoch: 8001 | Training cost= 1.619145274 | Validation cost= 1.834368467\n",
      "Epoch: 9001 | Training cost= 1.582141757 | Validation cost= 1.739722133\n",
      "Epoch: 10001 | Training cost= 1.549610734 | Validation cost= 1.663253188\n",
      "Epoch: 11001 | Training cost= 1.519576192 | Validation cost= 1.608208418\n",
      "Epoch: 12001 | Training cost= 1.491904736 | Validation cost= 1.592835903\n",
      "Epoch: 13001 | Training cost= 1.459446907 | Validation cost= 1.577653646\n",
      "Epoch: 14001 | Training cost= 1.430325747 | Validation cost= 1.561529875\n",
      "Epoch: 15001 | Training cost= 1.405048966 | Validation cost= 1.551112652\n",
      "Epoch: 16001 | Training cost= 1.382954597 | Validation cost= 1.532740235\n",
      "Epoch: 17001 | Training cost= 1.362007260 | Validation cost= 1.496824861\n",
      "Epoch: 18001 | Training cost= 1.343649745 | Validation cost= 1.455007434\n",
      "Epoch: 19001 | Training cost= 1.288104057 | Validation cost= 1.441030502\n",
      "Epoch: 20001 | Training cost= 1.251993537 | Validation cost= 1.361763835\n",
      "Epoch: 21001 | Training cost= 1.238651156 | Validation cost= 1.304852247\n",
      "Epoch: 22001 | Training cost= 1.228197336 | Validation cost= 1.266715169\n",
      "Epoch: 23001 | Training cost= 1.212044001 | Validation cost= 1.232032657\n",
      "Epoch: 24001 | Training cost= 1.203838944 | Validation cost= 1.207944989\n",
      "Optimization 9 Finished! Best model after epoch 24000\n",
      "INFO:tensorflow:Restoring parameters from Models/All_models/my-model.ckpt-24000\n"
     ]
    }
   ],
   "source": [
    "function_train()\n"
   ]
  },
  {
   "cell_type": "code",
   "execution_count": null,
   "metadata": {},
   "outputs": [],
   "source": []
  }
 ],
 "metadata": {
  "kernelspec": {
   "display_name": "Python 3",
   "language": "python",
   "name": "python3"
  },
  "language_info": {
   "codemirror_mode": {
    "name": "ipython",
    "version": 3
   },
   "file_extension": ".py",
   "mimetype": "text/x-python",
   "name": "python",
   "nbconvert_exporter": "python",
   "pygments_lexer": "ipython3",
   "version": "3.8.3"
  }
 },
 "nbformat": 4,
 "nbformat_minor": 4
}
