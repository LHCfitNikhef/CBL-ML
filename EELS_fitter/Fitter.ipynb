{
 "cells": [
  {
   "cell_type": "markdown",
   "metadata": {},
   "source": [
    "## Import packages"
   ]
  },
  {
   "cell_type": "code",
   "execution_count": 105,
   "metadata": {},
   "outputs": [
    {
     "name": "stdout",
     "output_type": "stream",
     "text": [
      "Importing packages...\n"
     ]
    }
   ],
   "source": [
    "print('Importing packages...')\n",
    "\n",
    "import numpy as np\n",
    "import pandas as pd\n",
    "import matplotlib.pyplot as plt\n",
    "import matplotlib\n",
    "from matplotlib import rc\n",
    "from matplotlib import cm\n",
    "import os\n",
    "import csv\n",
    "import warnings\n",
    "import time\n",
    "import multiprocessing as mp\n",
    "from multiprocess import Pool\n",
    "from multiprocess import Process\n",
    "from copy import copy\n",
    "from sklearn.model_selection import train_test_split\n",
    "from sklearn.preprocessing import StandardScaler\n",
    "import tensorflow as tf\n",
    "from tensorflow import keras\n",
    "from tensorflow.keras import Sequential\n",
    "from tensorflow.keras import layers\n",
    "from tensorflow.keras import optimizers\n",
    "from tensorflow.keras.layers import Dense\n",
    "import tensorflow.compat.v1 as tf\n",
    "\n",
    "warnings.filterwarnings('ignore')"
   ]
  },
  {
   "cell_type": "markdown",
   "metadata": {},
   "source": [
    "## Import spectra\n"
   ]
  },
  {
   "cell_type": "code",
   "execution_count": 109,
   "metadata": {},
   "outputs": [
    {
     "name": "stdout",
     "output_type": "stream",
     "text": [
      "Importing datafiles...\n",
      "Files have been created \n",
      "\n",
      "\n",
      " Sample files:\n",
      "file14\n",
      "file15\n",
      "file16\n",
      "file19\n",
      "file20\n",
      "file21\n",
      "\n",
      " Vacuum files:\n",
      "file17\n",
      "file22\n",
      "file23\n",
      "\n",
      " Total samples file: \"df\" \n",
      "                   x             y     x_shifted        y_norm         log_y\n",
      "count  11886.000000  1.188600e+04  11886.000000  11886.000000  11886.000000\n",
      "mean      20.708500  2.943846e+04     20.750000      0.020192      8.097109\n",
      "std       14.297236  1.957346e+05     14.297236      0.134208      1.210722\n",
      "min       -4.041500  2.765300e+02     -4.000000      0.000190      5.622319\n",
      "25%        8.333500  1.351622e+03      8.375000      0.000932      7.209061\n",
      "50%       20.708500  3.076860e+03     20.750000      0.002106      8.031665\n",
      "75%       33.083500  5.665987e+03     33.125000      0.003879      8.642236\n",
      "max       45.458500  2.440470e+06     45.500000      1.640224     14.707701\n",
      "\n",
      " Total vacuum file: \"df_vacuum\" \n",
      "                  x             y    x_shifted       y_norm\n",
      "count  5943.000000  5.943000e+03  5943.000000  5943.000000\n",
      "mean     20.708500  3.373210e+04    20.750000     0.020192\n",
      "std      14.297837  2.576468e+05    14.297837     0.154224\n",
      "min      -4.041500 -1.340900e+02    -4.000000    -0.000080\n",
      "25%       8.333500  2.522015e+01     8.375000     0.000015\n",
      "50%      20.708500  7.105610e+01    20.750000     0.000042\n",
      "75%      33.083500  1.612730e+02    33.125000     0.000096\n",
      "max      45.458500  3.170580e+06    45.500000     1.887750\n"
     ]
    }
   ],
   "source": [
    "print('Importing datafiles...')\n",
    "\n",
    "%run Load_data.py\n",
    "%run Functions.py"
   ]
  },
  {
   "cell_type": "code",
   "execution_count": null,
   "metadata": {},
   "outputs": [],
   "source": []
  },
  {
   "cell_type": "code",
   "execution_count": null,
   "metadata": {},
   "outputs": [],
   "source": [
    "\n",
    "\n"
   ]
  },
  {
   "cell_type": "markdown",
   "metadata": {},
   "source": [
    "## Derivatives\n",
    "In order to determine the values for $\\Delta$E$_I$ and $\\Delta$E$_{II}$, we calculate the derivatives of the intensity of each spectrum with respect to the change energy loss. We use the function 'smooth(y, window_len)' to smooth the functions and reveal underlying trends."
   ]
  },
  {
   "cell_type": "markdown",
   "metadata": {},
   "source": [
    "### In-sample"
   ]
  },
  {
   "cell_type": "code",
   "execution_count": 22,
   "metadata": {},
   "outputs": [],
   "source": [
    "wl1 = 50\n",
    "wl2 = 100\n",
    "\n",
    "df_dx = pd.DataFrame()\n",
    "\n",
    "all_files = [file14, file15, file16, file17, file19, file20, file21, file22, file23]\n",
    "\n",
    "for i,j in enumerate([14,15,16,17,19,20,21,22,23]):\n",
    "    df_dx['x%(j)s' % {\"j\": j}]  =  all_files[i]['x_shifted']\n",
    "    df_dx['y%(j)s' % {\"j\": j}]  =  smooth(all_files[i]['y_norm'], wl1)\n",
    "    df_dx['derivative y%(j)s' %{\"j\": j}] = np.divide(df_dx['y%(j)s'% {\"j\": j}].diff(), \\\n",
    "                                                     df_dx['x%(j)s'% {\"j\": j}].diff())\n",
    "    df_dx['smooth derivative y%(j)s' %{\"j\": j}] = smooth(df_dx['derivative y%(j)s' %{\"j\": j}], wl2)\n",
    "    "
   ]
  },
  {
   "cell_type": "markdown",
   "metadata": {},
   "source": [
    "Determine the first crossing with zero of the in-sample derivatives $\\Delta E_{I,min}$:"
   ]
  },
  {
   "cell_type": "code",
   "execution_count": 59,
   "metadata": {},
   "outputs": [
    {
     "name": "stdout",
     "output_type": "stream",
     "text": [
      "The value of dE1 is 2.65\n"
     ]
    }
   ],
   "source": [
    "li = []\n",
    "\n",
    "for i in ([14,15,16,19,20,21]):\n",
    "    crossing = df_dx[(df_dx['derivative y%(i)s' %{\"i\": i}] > 0) & (df_dx['x%(i)s'% {\"i\": i}] > 1)]['x%(i)s'% {\"i\": i}].min()\n",
    "    li.append(crossing)\n",
    "    \n",
    "dE1 = min(li)\n",
    "dE1_min = np.round(dE1, 3)\n",
    "print(\"The value of dE1 is\", dE1_min)\n"
   ]
  },
  {
   "cell_type": "markdown",
   "metadata": {},
   "source": [
    "### Create plot of the derivatives"
   ]
  },
  {
   "cell_type": "code",
   "execution_count": 60,
   "metadata": {},
   "outputs": [
    {
     "data": {
      "image/png": "[encoded data removed]",
      "text/plain": [
       "<Figure size 504x972 with 2 Axes>"
      ]
     },
     "metadata": {
      "needs_background": "light"
     },
     "output_type": "display_data"
    }
   ],
   "source": [
    "nrows, ncols = 3,1\n",
    "gs = matplotlib.gridspec.GridSpec(nrows,ncols)\n",
    "plt.figure(figsize=(ncols*7,nrows*4.5))\n",
    "\n",
    "cm_subsection = np.linspace(0,1,24) \n",
    "colors = [cm.viridis(x) for x in cm_subsection]\n",
    "\n",
    "hfont = rc('font',**{'family':'sans-serif','sans-serif':['Sans Serif']})\n",
    "          \n",
    "for i in range(2):\n",
    "    ax = plt.subplot(gs[i])\n",
    "    ax.set_xlim([0,9])\n",
    "    ax.tick_params(which='major',direction='in',length=7)\n",
    "    ax.tick_params(which='minor',length=8)\n",
    "    plt.axhline(y=0, color='black', linewidth=1, alpha=.8)\n",
    "    plt.axvline(x=0, color='darkgray', linestyle='--', linewidth = 1)\n",
    "    #plt.axvline(x=dE1, color='darkgray', linestyle='--', linewidth = 1, label='$\\Delta$E1' %{'s': dE1})\n",
    "    \n",
    "    for j in ([17,22,23]):\n",
    "        if i == 0:\n",
    "            p2 = ax.plot(df_dx['x%(i)s'% {\"i\": j}],df_dx['derivative y%(i)s' %{\"i\": j}], color=colors[j], label='%(i)s' %{\"i\": j})\n",
    "\n",
    "    for j in ([14,15,16,19,20,21]):\n",
    "        k = j-3\n",
    "        \n",
    "        if i == 0:\n",
    "            p1 = ax.plot(df_dx['x%(i)s'% {\"i\": j}],df_dx['derivative y%(i)s' %{\"i\": j}], color=colors[-k], label='%(i)s' %{\"i\": j})\n",
    "            ax.set_ylim([-.002, .001])\n",
    "            ax.set_xlim([0, 6])\n",
    "            ax.set_ylabel('dI/dE',fontsize=18)\n",
    "            ax.set_yticks([-0.002, -0.001, 0, 0.001])\n",
    "            ax.ticklabel_format(style='sci', axis='y', scilimits=(0,0))\n",
    "            ax.legend(loc=2, fontsize=16)\n",
    "        \n",
    "    for j in ([17,22,23]):   \n",
    "        if i == 1: \n",
    "            ax.axhline(y=1, linestyle='-', color='gray')\n",
    "            p1 = ax.plot(df_dx['x%(i)s'% {\"i\": j}], \\\n",
    "                         np.divide(df_dx['derivative y14'],df_dx['derivative y%(i)s'%{\"i\": j}]), 'k--', label='Ratio sp4/sp'%{\"i\":j})\n",
    "            \n",
    "            ax.axvline(x=1.65, linestyle='--')\n",
    "            ax.set_ylim([-1, 2])\n",
    "            ax.set_xlim([.5,3.5])   \n",
    "            ax.set_ylabel('R = dI/dE(sample) / dI/dE(vac)', fontsize=18)\n",
    "            ax.set_xlabel('$\\Delta$E (eV)', fontsize=218)\n",
    "            ax.legend()  \n",
    "    \n",
    "    if i == 0:\n",
    "        ax.tick_params(labelbottom=True)\n",
    "        ax.tick_params(which='major', length= 10, labelsize=18)\n",
    "        ax.tick_params(which='minor', length= 10, labelsize=10)\n",
    "    if i == 1:\n",
    "        ax.set_xlabel('Energy loss (eV)', fontsize=24)\n",
    "        ax.tick_params(length= 10, labelsize=18)\n",
    "        ax.tick_params(which='major', length= 10, labelsize=18)\n",
    "        ax.tick_params(which='minor', length= 10, labelsize=10)\n",
    "    \n",
    "plt.tight_layout()\n",
    "#plt.savefig(\"Derivatives.pdf\")\n",
    "plt.show()"
   ]
  },
  {
   "cell_type": "markdown",
   "metadata": {},
   "source": [
    "## Where to add pseudo data? $\\rightarrow \\Delta E_{pd,min}$ "
   ]
  },
  {
   "cell_type": "code",
   "execution_count": 64,
   "metadata": {},
   "outputs": [
    {
     "name": "stdout",
     "output_type": "stream",
     "text": [
      "The value for dE_II is 12.0\n"
     ]
    }
   ],
   "source": [
    "df_window = df_vacuum[(df_vacuum['x_shifted'] < 20) & (df_vacuum['x_shifted'] > 0)]\n",
    "df_window_vacuum = df_vacuum[(df_vacuum['x_shifted'] <= dE1) & (df_vacuum['x_shifted'] > -.5)]\n",
    "\n",
    "df_mean, df_vacmean = pd.DataFrame(), pd.DataFrame()\n",
    "nbins = 150\n",
    "\n",
    "df_mean['x'] = np.linspace(df_window['x_shifted'].min(),df_window['x_shifted'].max(), nbins)\n",
    "df_mean['y'], df_mean['sigma'] = binned_statistics(df_window['x_shifted'], (df_window['y']), nbins)[0:2]\n",
    "\n",
    "dE2 = df_mean['x'][np.divide(df_mean['y'], df_mean['sigma']) < 1].min()\n",
    "dE2 = np.round(dE2)\n",
    "print(\"The value for dE_II is\", (dE2))"
   ]
  },
  {
   "cell_type": "code",
   "execution_count": 65,
   "metadata": {},
   "outputs": [
    {
     "data": {
      "image/png": "[encoded data removed]",
      "text/plain": [
       "<Figure size 360x756 with 1 Axes>"
      ]
     },
     "metadata": {
      "needs_background": "light"
     },
     "output_type": "display_data"
    }
   ],
   "source": [
    "nrows, ncols = 3,1\n",
    "gs = matplotlib.gridspec.GridSpec(nrows,ncols)\n",
    "plt.figure(figsize=(ncols*5,nrows*3.5))\n",
    "\n",
    "cm_subsection = np.linspace(0,1,24) \n",
    "colors = [cm.viridis(x) for x in cm_subsection]\n",
    "\n",
    "hfont = rc('font',**{'family':'sans-serif','sans-serif':['Sans Serif']})\n",
    "\n",
    "ax = plt.subplot(gs[i])\n",
    "ax.set_title('Intensity to sigma ratio', fontsize=16)\n",
    "ax.set_xlim([-1,15])\n",
    "ax.set_xlabel('Energy loss (eV)', fontsize=14)\n",
    "ax.tick_params(which='major',direction='in',length=7, labelsize=14)\n",
    "ax.tick_params(which='minor',length=8)\n",
    "p1 = ax.plot(df_mean['x'],smooth(np.divide(df_mean['y'], df_mean['sigma']), 10), color=colors[0])\n",
    "ax.axhline(y=1, linestyle='--')\n",
    "ax.axvline(x=np.round(dE2), linestyle='dotted')\n",
    "plt.show()"
   ]
  },
  {
   "cell_type": "code",
   "execution_count": null,
   "metadata": {},
   "outputs": [],
   "source": []
  },
  {
   "cell_type": "code",
   "execution_count": 71,
   "metadata": {},
   "outputs": [
    {
     "name": "stdout",
     "output_type": "stream",
     "text": [
      "The values of dE1 and dE2: 2.65 eV and 12.0 eV\n"
     ]
    }
   ],
   "source": [
    "print('The values of dE1 and dE2:', np.round(dE1,2), \"eV and\", dE2, \"eV\")"
   ]
  },
  {
   "cell_type": "markdown",
   "metadata": {},
   "source": [
    "## Window and prepare data\n",
    "* Drop all data for $\\Delta$E $> \\Delta$E$_1$\n",
    "* Calculate the binned mean and variance of the spectra together with the function 'binned_statistics(x,y,nbins)'\n",
    "* Returns two pd.DataFrames 'df_mean' and 'df_vacmean' with the mean and variance data of the in-sample and in-vacuum spectra\n",
    "\n"
   ]
  },
  {
   "cell_type": "code",
   "execution_count": 81,
   "metadata": {},
   "outputs": [
    {
     "name": "stdout",
     "output_type": "stream",
     "text": [
      "Training data points for DeltaE > DeltaE_I have been removed.\n",
      "Experimental mean and sigma are calculated.\n"
     ]
    }
   ],
   "source": [
    "df_window = df[(df['x_shifted'] < dE1) & (df['x_shifted'] > -.5)]\n",
    "df_window_vacuum = df_vacuum[(df_vacuum['x_shifted'] <= dE1) & (df_vacuum['x_shifted'] > -.5)]\n",
    "\n",
    "df_mean, df_vacmean = pd.DataFrame(), pd.DataFrame()\n",
    "nbins = 32\n",
    "\n",
    "df_mean['x'] = np.linspace(df_window['x_shifted'].min(),df_window['x_shifted'].max(), nbins)\n",
    "df_mean['y'], df_mean['sigma'] = binned_statistics(df_window['x_shifted'], np.log(df_window['y']), nbins)[0:2]\n",
    "\n",
    "df_vacmean['x'] = np.linspace(df_window_vacuum['x_shifted'].min(),df_window_vacuum['x_shifted'].max(), nbins)\n",
    "df_vacmean['y'], df_vacmean['sigma'] = binned_statistics(df_window_vacuum['x_shifted'], np.log(df_window_vacuum['y']), nbins)[0:2]\n",
    "\n",
    "print(\"Training data points for DeltaE > DeltaE_I have been removed.\")\n",
    "print(\"Experimental mean and sigma are calculated.\")"
   ]
  },
  {
   "cell_type": "markdown",
   "metadata": {},
   "source": [
    "### Create pseudo data for $\\Delta$E $ > \\Delta$E$_{II}$"
   ]
  },
  {
   "cell_type": "code",
   "execution_count": 80,
   "metadata": {},
   "outputs": [
    {
     "name": "stdout",
     "output_type": "stream",
     "text": [
      "Pseudo data points added for Delta E > DeltaE_II\n",
      "Training data set \"df_full\" has been created\n"
     ]
    }
   ],
   "source": [
    "min_x = dE2\n",
    "max_x = 20\n",
    "N_pseudo = 30\n",
    "\n",
    "df_pseudo = pd.DataFrame({'x':np.linspace(min_x, max_x, N_pseudo),'y': .5 * np.ones(N_pseudo), \\\n",
    "                    'sigma': .08 * np.ones(N_pseudo)})\n",
    "df_full = pd.concat([df_mean, df_pseudo])\n",
    "\n",
    "print('Pseudo data points added for Delta E > DeltaE_II')\n",
    "print('Training data set \"df_full\" has been created')"
   ]
  },
  {
   "cell_type": "markdown",
   "metadata": {},
   "source": [
    "# Initialize the NN model"
   ]
  },
  {
   "cell_type": "markdown",
   "metadata": {},
   "source": [
    "### Create architecture"
   ]
  },
  {
   "cell_type": "code",
   "execution_count": 82,
   "metadata": {},
   "outputs": [
    {
     "name": "stdout",
     "output_type": "stream",
     "text": [
      "NN is initialized.\n"
     ]
    }
   ],
   "source": [
    "def make_model(inputs, n_outputs):\n",
    "    hidden_layer_1 = tf.layers.dense(inputs, 10, activation=tf.nn.sigmoid)\n",
    "    hidden_layer_2 = tf.layers.dense(hidden_layer_1, 15, activation=tf.nn.sigmoid)\n",
    "    hidden_layer_3 = tf.layers.dense(hidden_layer_2, 5, activation=tf.nn.relu)\n",
    "    output = tf.layers.dense(hidden_layer_3, n_outputs, name='outputs', reuse=tf.AUTO_REUSE)\n",
    "    return output\n",
    "\n",
    "print(\"NN is initialized.\")"
   ]
  },
  {
   "cell_type": "markdown",
   "metadata": {},
   "source": [
    "### Prepare data for training"
   ]
  },
  {
   "cell_type": "markdown",
   "metadata": {},
   "source": [
    "Cost function: $\\chi^2 = 1/N \\sum (y - y_{pred})^2 / \\sigma^2$ \\\n",
    "Optimizer: AdamOptimizer\n",
    "\n",
    "Training points are generated by Monte Carlo sampling; for the set of training points $[\\Delta E_i, D_i, \\sigma_i]$, a set of MC training points is generated by adding a stochastic noise signal on top of the the data with a std equal to the corresponding error on that point. \n",
    "\n",
    "- **train_x**: $\\Delta E_i$\n",
    "- **train_y**: $D_i$ + rand.norm(0, $\\sigma_i$)\n",
    "\n",
    "Repetitive training of the NN (number of repetitions = $N_{rep}$) on each set of MC pseudo data yields a prediction that is distributed with a mean and std corresponding to the mean and error of the original training set. \n"
   ]
  },
  {
   "cell_type": "code",
   "execution_count": 83,
   "metadata": {},
   "outputs": [
    {
     "name": "stdout",
     "output_type": "stream",
     "text": [
      "WARNING:tensorflow:From <ipython-input-82-5eeb27ec4819>:2: dense (from tensorflow.python.keras.legacy_tf_layers.core) is deprecated and will be removed in a future version.\n",
      "Instructions for updating:\n",
      "Use keras.layers.Dense instead.\n",
      "WARNING:tensorflow:From /Users/laurienroest/opt/anaconda3/lib/python3.8/site-packages/tensorflow/python/keras/legacy_tf_layers/core.py:187: Layer.apply (from tensorflow.python.keras.engine.base_layer_v1) is deprecated and will be removed in a future version.\n",
      "Instructions for updating:\n",
      "Please use `layer.__call__` method instead.\n",
      "Dataset is split into train subset (80%) and validation subset (20%)\n"
     ]
    }
   ],
   "source": [
    "tf.compat.v1.get_default_graph\n",
    "tf.compat.v1.disable_eager_execution()\n",
    "\n",
    "x = tf.placeholder(\"float\", [None, 1], name=\"x\")\n",
    "y = tf.placeholder(\"float\", [None, 1], name=\"y\")\n",
    "sigma = tf.placeholder(\"float\", [None, 1], name=\"sigma\")\n",
    "\n",
    "df_train_full = df_full\n",
    "df_train_full = df_train_full.drop_duplicates(subset = ['x']) # Only keep one copy per x-value\n",
    "df_train, df_test = train_test_split(df_train_full, test_size=0.2)\n",
    "\n",
    "N_train = len(df_train['x'])\n",
    "N_test = len(df_test['x'])\n",
    "\n",
    "train_x = np.copy(df_train['x']).reshape(N_train,1)\n",
    "train_y = np.copy(df_train['y']).reshape(N_train,1)\n",
    "train_sigma = (np.copy(df_train['sigma'])).reshape(N_train,1)\n",
    "\n",
    "test_x = np.copy(df_test['x']).reshape(N_test,1)\n",
    "test_y = np.copy(df_test['y']).reshape(N_test,1)\n",
    "test_sigma = np.copy(df_test['sigma']).reshape(N_test,1)\n",
    "\n",
    "predictions = make_model(x,1)\n",
    "N_pred = 30000\n",
    "predict_x = np.linspace(-.3,12,N_pred).reshape(N_pred,1)\n",
    "\n",
    "train_sigma.shape\n",
    "\n",
    "print(\"Dataset is split into train subset (80%) and validation subset (20%)\")"
   ]
  },
  {
   "cell_type": "code",
   "execution_count": 92,
   "metadata": {},
   "outputs": [
    {
     "data": {
      "image/png": "[encoded data removed]",
      "text/plain": [
       "<Figure size 432x288 with 1 Axes>"
      ]
     },
     "metadata": {
      "needs_background": "light"
     },
     "output_type": "display_data"
    }
   ],
   "source": [
    "plt.figure(figsize=(6,4))\n",
    "plt.plot(train_x, train_y, '.', label='train')\n",
    "plt.plot(test_x, test_y, '.', label='test')\n",
    "plt.axvline(x=dE1, color='lightgray')\n",
    "plt.axvline(x=dE2, color='lightgray')\n",
    "plt.title('Visualization of training data', fontsize=15)\n",
    "plt.ylabel('Log intensity', fontsize=14)\n",
    "plt.xlabel('Energy loss (eV)', fontsize=14)\n",
    "plt.legend(fontsize=14)\n",
    "plt.show()"
   ]
  },
  {
   "cell_type": "markdown",
   "metadata": {},
   "source": [
    "## Create MC replicas"
   ]
  },
  {
   "cell_type": "code",
   "execution_count": 95,
   "metadata": {},
   "outputs": [
    {
     "name": "stdout",
     "output_type": "stream",
     "text": [
      "MC pseudo data has been created for 1000 replicas\n"
     ]
    }
   ],
   "source": [
    "Nrep = 1000\n",
    "\n",
    "train_y_reps = np.zeros(shape=(N_train, Nrep))\n",
    "test_y_reps = np.zeros(shape=(N_test, Nrep))\n",
    "i=0\n",
    "while i < Nrep:\n",
    "        train_rep = np.random.normal(0, train_sigma)\n",
    "        test_rep = np.random.normal(0, test_sigma)\n",
    "        train_y_reps[:,i] = (train_y + train_rep).reshape(N_train)\n",
    "        test_y_reps[:,i] = (test_y + test_rep).reshape(N_test)\n",
    "        i+=1 \n",
    "        \n",
    "std_reps = np.std(train_y_reps, axis=1)\n",
    "mean_reps = np.mean(train_y_reps, axis=1)\n",
    "\n",
    "print('MC pseudo data has been created for 1000 replicas')"
   ]
  },
  {
   "cell_type": "code",
   "execution_count": null,
   "metadata": {},
   "outputs": [],
   "source": []
  },
  {
   "cell_type": "code",
   "execution_count": 101,
   "metadata": {
    "scrolled": false
   },
   "outputs": [],
   "source": [
    "import time\n",
    "from datetime import datetime\n",
    "now = datetime.now()\n",
    "\n",
    "def function_train(it):\n",
    "    \n",
    "    chi_array = []\n",
    "    \n",
    "    processor = 'processor' + str(it)\n",
    "    \n",
    "    cost = tf.reduce_mean(tf.square((y-predictions)/sigma), name=\"cost_function\")\n",
    "    custom_cost = tf.reduce_mean(tf.square((y-predictions)/sigma), name=\"custom_cost_function\")\n",
    "    eta = 5e-3\n",
    "    optimizer = tf.train.RMSPropOptimizer(learning_rate=eta, decay=0.9, momentum=0.0, epsilon=1e-10).minimize(cost)\n",
    "    #optimizer = tf.train.GradientDescentOptimizer(learning_rate=eta)\n",
    "    saver = tf.train.Saver(max_to_keep=40)\n",
    "    \n",
    "    print(\"%(p)s starts training on\" %{'p': processor}, '%04d' %(N_train), \"and validating on\", '%0.4d' %(N_test), \"samples\")\n",
    "    \n",
    "    Nrep = 100\n",
    "\n",
    "    for i in range(Nrep):\n",
    "\n",
    "        train_y = train_y_reps[:, i + it].reshape(N_train,1)\n",
    "        test_y = test_y_reps[:, i+ it].reshape(N_test,1)\n",
    "        \n",
    "        ### Train and validate\n",
    "        prev_test_cost = 100\n",
    "        prev_epoch=0\n",
    "        avg_cost = 0.0\n",
    "\n",
    "        array_train = []\n",
    "        array_test = []\n",
    "\n",
    "        with tf.Session() as sess:\n",
    "\n",
    "            sess.run(tf.global_variables_initializer())\n",
    "            \n",
    "            training_epochs = 25000\n",
    "            max_rising_epochs = 50000 #The amount of epochs the minimzer is allowed to overfit before it stops\n",
    "            display_step = 1000\n",
    "\n",
    "            for epoch in range(training_epochs):\n",
    "\n",
    "                _, c = sess.run([optimizer, cost], \n",
    "                                feed_dict={\n",
    "                                    x: train_x,\n",
    "                                    y: train_y,\n",
    "                                    sigma: train_sigma\n",
    "                                })\n",
    "\n",
    "                avg_cost = c\n",
    "                \n",
    "                test_cost = cost.eval({x: test_x, y: test_y, sigma: test_sigma})\n",
    "\n",
    "\n",
    "                if epoch % display_step == 0:\n",
    "                    print(\"Epoch:\", '%04d' % (epoch+1), \"| Training cost=\", \"{:.9f}\".format(avg_cost), \"| Validation cost=\", \"{:.9f}\".format(test_cost))\n",
    "                    array_train.append(avg_cost)\n",
    "                    array_test.append(test_cost)\n",
    "                    saver.save(sess, 'Models/%(processor)s/my-model.ckpt' %{'processor': processor} , global_step=epoch , write_meta_graph=False) \n",
    "\n",
    "                    \n",
    "                elif test_cost < prev_test_cost:\n",
    "                    prev_test_cost = test_cost\n",
    "                    prev_epoch = epoch\n",
    "\n",
    "            best_iteration = np.argmin(array_test) \n",
    "            best_epoch = best_iteration * display_step\n",
    "            best_model = 'Models/%(processor)s/my-model.ckpt-%(s)s' % {'processor': processor, 's': best_epoch}\n",
    "\n",
    "            print(\"Optimization %(i)s Finished! Best model after epoch %(s)s\" % {'i': i, 's': best_epoch})\n",
    "            \n",
    "\n",
    "\n",
    "            dt_string = now.strftime(\"%d.%m.%Y %H:%M:%S\")\n",
    "            d_string = now.strftime(\"%d.%m.%Y\")\n",
    "            t_string = now.strftime(\"%H:%M:%S\")\n",
    "            \n",
    "            saver.restore(sess, best_model)\n",
    "            saver.save(sess, 'Models/Best_model/%(s)s_x2_processor%(it)s_%(i)s' % {'s': d_string, 'it': it, 'i': i})\n",
    "\n",
    "\n",
    "            predictions_values = sess.run(predictions, \n",
    "                                feed_dict={\n",
    "                                    x: train_x,\n",
    "                                    y: train_y \n",
    "                                }) \n",
    "\n",
    "\n",
    "            extrapolation = sess.run(predictions,\n",
    "                                feed_dict={\n",
    "                                    x: predict_x\n",
    "                                })\n",
    "            \n",
    "\n",
    "        sess.close()\n",
    "        \n",
    "\n",
    "        \n",
    "\n",
    "        a = np.array(train_x).reshape(N_train,)\n",
    "        b = np.array(train_y).reshape(N_train,)\n",
    "        c = np.array(predictions_values).reshape(N_train,)\n",
    "        d = array_train\n",
    "        e = array_test\n",
    "       \n",
    "        k = np.array(predict_x).reshape(N_pred,)\n",
    "        l = np.array(extrapolation).reshape(N_pred,)\n",
    "        \n",
    "        np.savetxt('Data/Results/Sabrya/%(date)s/x2_xyp1p2_e%(epoch)s_%(i)s.csv' % {\"date\": d_string, \"epoch\": processor, \"i\": i+10 }, list(zip(a,b,c)),  delimiter=',', fmt='%f')\n",
    "        np.savetxt('Data/Results/Sabrya/%(date)s/x2_chi_e%(epoch)s_%(i)s.csv' % {\"date\": d_string, \"epoch\": processor, \"i\": i +10}, list(zip(d,e)),  delimiter=',',fmt='%f')\n",
    "        np.savetxt('Data/Results/Sabrya/%(date)s/x2_extrapolation_e%(epoch)s_%(i)s.csv' % {\"date\": d_string, \"epoch\": processor, \"i\": i +10}, list(zip(k, l)),  delimiter=',', fmt='%f')\n",
    " "
   ]
  },
  {
   "cell_type": "code",
   "execution_count": null,
   "metadata": {},
   "outputs": [],
   "source": [
    "\n"
   ]
  },
  {
   "cell_type": "markdown",
   "metadata": {},
   "source": [
    "## Serial training"
   ]
  },
  {
   "cell_type": "code",
   "execution_count": 103,
   "metadata": {
    "scrolled": true
   },
   "outputs": [
    {
     "name": "stdout",
     "output_type": "stream",
     "text": [
      "processor1 starts training on 0049 and validating on 0013 samples\n",
      "Epoch: 0001 | Training cost= 6327.348144531 | Validation cost= 17314.863281250\n",
      "Epoch: 1001 | Training cost= 22.783351898 | Validation cost= 30.387296677\n",
      "Epoch: 2001 | Training cost= 10.875130653 | Validation cost= 13.901780128\n",
      "Epoch: 3001 | Training cost= 5.404064655 | Validation cost= 5.341341019\n",
      "Epoch: 4001 | Training cost= 3.214826822 | Validation cost= 3.545120239\n"
     ]
    },
    {
     "ename": "KeyboardInterrupt",
     "evalue": "",
     "output_type": "error",
     "traceback": [
      "\u001b[0;31m---------------------------------------------------------------------------\u001b[0m",
      "\u001b[0;31mKeyboardInterrupt\u001b[0m                         Traceback (most recent call last)",
      "\u001b[0;32m<ipython-input-103-fb144bc586ed>\u001b[0m in \u001b[0;36m<module>\u001b[0;34m\u001b[0m\n\u001b[0;32m----> 1\u001b[0;31m \u001b[0mfunction_train\u001b[0m\u001b[0;34m(\u001b[0m\u001b[0;36m1\u001b[0m\u001b[0;34m)\u001b[0m\u001b[0;34m\u001b[0m\u001b[0;34m\u001b[0m\u001b[0m\n\u001b[0m",
      "\u001b[0;32m<ipython-input-101-1a3301088f52>\u001b[0m in \u001b[0;36mfunction_train\u001b[0;34m(it)\u001b[0m\n\u001b[1;32m     43\u001b[0m             \u001b[0;32mfor\u001b[0m \u001b[0mepoch\u001b[0m \u001b[0;32min\u001b[0m \u001b[0mrange\u001b[0m\u001b[0;34m(\u001b[0m\u001b[0mtraining_epochs\u001b[0m\u001b[0;34m)\u001b[0m\u001b[0;34m:\u001b[0m\u001b[0;34m\u001b[0m\u001b[0;34m\u001b[0m\u001b[0m\n\u001b[1;32m     44\u001b[0m \u001b[0;34m\u001b[0m\u001b[0m\n\u001b[0;32m---> 45\u001b[0;31m                 _, c = sess.run([optimizer, cost], \n\u001b[0m\u001b[1;32m     46\u001b[0m                                 feed_dict={\n\u001b[1;32m     47\u001b[0m                                     \u001b[0mx\u001b[0m\u001b[0;34m:\u001b[0m \u001b[0mtrain_x\u001b[0m\u001b[0;34m,\u001b[0m\u001b[0;34m\u001b[0m\u001b[0;34m\u001b[0m\u001b[0m\n",
      "\u001b[0;32m~/opt/anaconda3/lib/python3.8/site-packages/tensorflow/python/client/session.py\u001b[0m in \u001b[0;36mrun\u001b[0;34m(self, fetches, feed_dict, options, run_metadata)\u001b[0m\n\u001b[1;32m    955\u001b[0m \u001b[0;34m\u001b[0m\u001b[0m\n\u001b[1;32m    956\u001b[0m     \u001b[0;32mtry\u001b[0m\u001b[0;34m:\u001b[0m\u001b[0;34m\u001b[0m\u001b[0;34m\u001b[0m\u001b[0m\n\u001b[0;32m--> 957\u001b[0;31m       result = self._run(None, fetches, feed_dict, options_ptr,\n\u001b[0m\u001b[1;32m    958\u001b[0m                          run_metadata_ptr)\n\u001b[1;32m    959\u001b[0m       \u001b[0;32mif\u001b[0m \u001b[0mrun_metadata\u001b[0m\u001b[0;34m:\u001b[0m\u001b[0;34m\u001b[0m\u001b[0;34m\u001b[0m\u001b[0m\n",
      "\u001b[0;32m~/opt/anaconda3/lib/python3.8/site-packages/tensorflow/python/client/session.py\u001b[0m in \u001b[0;36m_run\u001b[0;34m(self, handle, fetches, feed_dict, options, run_metadata)\u001b[0m\n\u001b[1;32m   1132\u001b[0m                             'feed with key ' + str(feed) + '.')\n\u001b[1;32m   1133\u001b[0m \u001b[0;34m\u001b[0m\u001b[0m\n\u001b[0;32m-> 1134\u001b[0;31m           \u001b[0msubfeed_dtype\u001b[0m \u001b[0;34m=\u001b[0m \u001b[0msubfeed_t\u001b[0m\u001b[0;34m.\u001b[0m\u001b[0mdtype\u001b[0m\u001b[0;34m.\u001b[0m\u001b[0mas_numpy_dtype\u001b[0m\u001b[0;34m\u001b[0m\u001b[0;34m\u001b[0m\u001b[0m\n\u001b[0m\u001b[1;32m   1135\u001b[0m           if isinstance(subfeed_val, int) and _convert_to_numpy_obj(\n\u001b[1;32m   1136\u001b[0m               subfeed_dtype, subfeed_val) != subfeed_val:\n",
      "\u001b[0;32m~/opt/anaconda3/lib/python3.8/site-packages/tensorflow/python/framework/ops.py\u001b[0m in \u001b[0;36mdtype\u001b[0;34m(self)\u001b[0m\n\u001b[1;32m    395\u001b[0m     \u001b[0;32mreturn\u001b[0m \u001b[0mself\u001b[0m\u001b[0;34m.\u001b[0m\u001b[0m_op\u001b[0m\u001b[0;34m\u001b[0m\u001b[0;34m\u001b[0m\u001b[0m\n\u001b[1;32m    396\u001b[0m \u001b[0;34m\u001b[0m\u001b[0m\n\u001b[0;32m--> 397\u001b[0;31m   \u001b[0;34m@\u001b[0m\u001b[0mproperty\u001b[0m\u001b[0;34m\u001b[0m\u001b[0;34m\u001b[0m\u001b[0m\n\u001b[0m\u001b[1;32m    398\u001b[0m   \u001b[0;32mdef\u001b[0m \u001b[0mdtype\u001b[0m\u001b[0;34m(\u001b[0m\u001b[0mself\u001b[0m\u001b[0;34m)\u001b[0m\u001b[0;34m:\u001b[0m\u001b[0;34m\u001b[0m\u001b[0;34m\u001b[0m\u001b[0m\n\u001b[1;32m    399\u001b[0m     \u001b[0;34m\"\"\"The `DType` of elements in this tensor.\"\"\"\u001b[0m\u001b[0;34m\u001b[0m\u001b[0;34m\u001b[0m\u001b[0m\n",
      "\u001b[0;31mKeyboardInterrupt\u001b[0m: "
     ]
    }
   ],
   "source": [
    "function_train(1)\n"
   ]
  },
  {
   "cell_type": "code",
   "execution_count": null,
   "metadata": {},
   "outputs": [],
   "source": []
  }
 ],
 "metadata": {
  "kernelspec": {
   "display_name": "Python 3",
   "language": "python",
   "name": "python3"
  },
  "language_info": {
   "codemirror_mode": {
    "name": "ipython",
    "version": 3
   },
   "file_extension": ".py",
   "mimetype": "text/x-python",
   "name": "python",
   "nbconvert_exporter": "python",
   "pygments_lexer": "ipython3",
   "version": "3.8.3"
  }
 },
 "nbformat": 4,
 "nbformat_minor": 4
}
