{
 "cells": [
  {
   "cell_type": "code",
   "execution_count": 15,
   "metadata": {},
   "outputs": [
    {
     "name": "stdout",
     "output_type": "stream",
     "text": [
      "Files have been created \n",
      "\n",
      "\n",
      " Sample files:\n",
      "file14\n",
      "file15\n",
      "file16\n",
      "file19\n",
      "file20\n",
      "file21\n",
      "\n",
      " Vacuum files:\n",
      "file17\n",
      "file22\n",
      "file23\n",
      "\n",
      " Ex. file at position 14: \n",
      "         x        y  x_shifted    y_norm\n",
      "0 -4.0415  636.127     -4.000  0.000432\n",
      "1 -4.0165  498.927     -3.975  0.000339\n",
      "2 -3.9915  498.176     -3.950  0.000339\n",
      "3 -3.9665  577.528     -3.925  0.000392\n",
      "4 -3.9415  569.234     -3.900  0.000387\n",
      "\n",
      " Ex. total sample dataframe: \n",
      "                   x             y     x_shifted        y_norm         log_y\n",
      "count  11886.000000  1.188600e+04  11886.000000  11886.000000  11886.000000\n",
      "mean      20.708500  2.943846e+04     20.750000      0.020192      8.097109\n",
      "std       14.297236  1.957346e+05     14.297236      0.134208      1.210722\n",
      "min       -4.041500  2.765300e+02     -4.000000      0.000190      5.622319\n",
      "25%        8.333500  1.351622e+03      8.375000      0.000932      7.209061\n",
      "50%       20.708500  3.076860e+03     20.750000      0.002106      8.031665\n",
      "75%       33.083500  5.665987e+03     33.125000      0.003879      8.642236\n",
      "max       45.458500  2.440470e+06     45.500000      1.640224     14.707701\n"
     ]
    }
   ],
   "source": [
    "%run EELSfitter_Load_data.py"
   ]
  },
  {
   "cell_type": "code",
   "execution_count": null,
   "metadata": {},
   "outputs": [],
   "source": []
  }
 ],
 "metadata": {
  "kernelspec": {
   "display_name": "Python 3",
   "language": "python",
   "name": "python3"
  },
  "language_info": {
   "codemirror_mode": {
    "name": "ipython",
    "version": 3
   },
   "file_extension": ".py",
   "mimetype": "text/x-python",
   "name": "python",
   "nbconvert_exporter": "python",
   "pygments_lexer": "ipython3",
   "version": "3.8.3"
  }
 },
 "nbformat": 4,
 "nbformat_minor": 4
}
