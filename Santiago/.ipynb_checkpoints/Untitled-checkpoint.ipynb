{
 "cells": [
  {
   "cell_type": "code",
   "execution_count": 27,
   "metadata": {},
   "outputs": [],
   "source": [
    "import photutils\n",
    "import astropy \n",
    "import astroplan\n",
    "import numpy as np\n",
    "import scipy\n",
    "import matplotlib.pyplot as plt\n",
    "from astropy.io import fits\n",
    "import rospkg"
   ]
  },
  {
   "cell_type": "markdown",
   "metadata": {},
   "source": [
    "# Master Dark"
   ]
  },
  {
   "cell_type": "markdown",
   "metadata": {},
   "source": [
    "## Open fits files  (only data from day 23.11.2019)"
   ]
  },
  {
   "cell_type": "code",
   "execution_count": 30,
   "metadata": {},
   "outputs": [],
   "source": [
    "dir = '/home/pedroildefonso/astro_lab/Santiago/Data/Selected_data/23_10_2019/Dark/0_1/' # directory where fits files are found"
   ]
  },
  {
   "cell_type": "code",
   "execution_count": 31,
   "metadata": {},
   "outputs": [],
   "source": [
    "file1,file2,file3,file4,file5 = dir+'dark__0020.fits',dir+'dark__0021.fits',dir+'dark__0022.fits',dir+'dark__0023.fits', dir+'dark__0024.fits'#file names\n",
    "head1,head2,head3,head4,head5 = fits.getheader(file1),fits.getheader(file2),fits.getheader(file3),fits.getheader(file4),fits.getheader(file5) # header information\n",
    "dark1,dark2,dark3,dark4,dark5 = fits.getdata(file1),fits.getdata(file2),fits.getdata(file3),fits.getdata(file4),fits.getdata(file5)  # data matrices"
   ]
  },
  {
   "cell_type": "code",
   "execution_count": 33,
   "metadata": {},
   "outputs": [],
   "source": [
    "alldark = np.asarray([dark1,dark2,dark3,dark4,dark5])\n",
    "medianflat,meanflat,sumflat = np.median(alldark,axis=0),np.mean(alldark,axis=0),np.sum(alldark,axis=0)"
   ]
  },
  {
   "cell_type": "markdown",
   "metadata": {},
   "source": [
    "# Master Flat"
   ]
  },
  {
   "cell_type": "code",
   "execution_count": null,
   "metadata": {},
   "outputs": [],
   "source": [
    "allflat = np.asarray([flat1,flat2])\n",
    "medianflat,meanflat,sumflat = np.median(allflat,axis=0),np.mean(allflat,axis=0),np.sum(allflat,axis=0)"
   ]
  }
 ],
 "metadata": {
  "kernelspec": {
   "display_name": "Python 3",
   "language": "python",
   "name": "python3"
  },
  "language_info": {
   "codemirror_mode": {
    "name": "ipython",
    "version": 3
   },
   "file_extension": ".py",
   "mimetype": "text/x-python",
   "name": "python",
   "nbconvert_exporter": "python",
   "pygments_lexer": "ipython3",
   "version": "3.5.2"
  }
 },
 "nbformat": 4,
 "nbformat_minor": 2
}
