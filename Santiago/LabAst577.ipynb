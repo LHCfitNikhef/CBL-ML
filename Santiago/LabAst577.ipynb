{
 "cells": [
  {
   "cell_type": "markdown",
   "metadata": {},
   "source": [
    "# LabAst577 - Observational Astronomy\n",
    "# Notebook with some basic data reduction and analysis with python "
   ]
  },
  {
   "cell_type": "markdown",
   "metadata": {},
   "source": [
    "## First, import necessary libraries"
   ]
  },
  {
   "cell_type": "code",
   "execution_count": null,
   "metadata": {},
   "outputs": [],
   "source": [
    "import numpy as np\n",
    "import scipy\n",
    "import matplotlib.pyplot as plt\n",
    "from astropy.io import fits"
   ]
  },
  {
   "cell_type": "markdown",
   "metadata": {},
   "source": [
    "## Let's open fits files"
   ]
  },
  {
   "cell_type": "code",
   "execution_count": null,
   "metadata": {},
   "outputs": [],
   "source": [
    "dir = '/Volumes/VselenaNovo/surveys/CIGEO/20191025/' # directory where fits files are found\n",
    "file1,file2 = dir+'flat_2019-10-25_17-59-11_Blue_0024.fits',dir+'flat_2019-10-25_17-59-19_Blue_0025.fits' #file names\n",
    "head1,head2 = fits.getheader(file1),fits.getheader(file2) # header information\n",
    "flat1,flat2 = fits.getdata(file1),fits.getdata(file2)  # data matrices"
   ]
  },
  {
   "cell_type": "markdown",
   "metadata": {},
   "source": [
    "## Plot fits files"
   ]
  },
  {
   "cell_type": "code",
   "execution_count": null,
   "metadata": {},
   "outputs": [],
   "source": [
    "#one plot\n",
    "lo,up = np.percentile(flat1,1),np.percentile(flat1,99)\n",
    "plt.figure()\n",
    "plt.imshow(flat1,cmap='gray',clim=(lo,up))\n",
    "plt.colorbar()\n",
    "plt.xlabel('xpix')\n",
    "plt.ylabel('ypix')"
   ]
  },
  {
   "cell_type": "code",
   "execution_count": null,
   "metadata": {},
   "outputs": [],
   "source": [
    "#two plots\n",
    "fig,ax = plt.subplots(1,2)\n",
    "ax[0].imshow(flat1,cmap='gray',clim=(lo,up))\n",
    "ax[1].imshow(flat2,cmap='gray',clim=(lo,up))"
   ]
  },
  {
   "cell_type": "markdown",
   "metadata": {},
   "source": [
    "## Stack two images"
   ]
  },
  {
   "cell_type": "code",
   "execution_count": null,
   "metadata": {},
   "outputs": [],
   "source": [
    "allflat = np.asarray([flat1,flat2])\n",
    "medianflat,meanflat,sumflat = np.median(allflat,axis=0),np.mean(allflat,axis=0),np.sum(allflat,axis=0)"
   ]
  },
  {
   "cell_type": "code",
   "execution_count": null,
   "metadata": {},
   "outputs": [],
   "source": [
    "#plot them\n",
    "lo,up = np.percentile(medianflat,5),np.percentile(medianflat,95)\n",
    "plt.figure()\n",
    "plt.imshow(medianflat,cmap='gray',clim=(lo,up))\n",
    "plt.colorbar()\n",
    "lo,up = np.percentile(sumflat,5),np.percentile(sumflat,95)\n",
    "plt.figure()\n",
    "plt.imshow(sumflat,cmap='gray',clim=(lo,up))\n",
    "plt.colorbar()"
   ]
  },
  {
   "cell_type": "markdown",
   "metadata": {},
   "source": [
    "## Shift image to align with another"
   ]
  },
  {
   "cell_type": "code",
   "execution_count": null,
   "metadata": {},
   "outputs": [],
   "source": [
    "#First load two other images: \n",
    "data1 = fits.getdata(dir+'hip93124_2019-10-25_19-12-11_Green_0187.fits')\n",
    "data2 = fits.getdata(dir+'hip93124_2019-10-25_19-19-44_Green_0220.fits')\n",
    "head2 = fits.getheader(dir+'hip93124_2019-10-25_19-19-44_Green_0220.fits')"
   ]
  },
  {
   "cell_type": "code",
   "execution_count": null,
   "metadata": {},
   "outputs": [],
   "source": [
    "## Obtain rough position with the mouse\n",
    "pos1 = [818,615]\n",
    "pos2 = [841,621]"
   ]
  },
  {
   "cell_type": "code",
   "execution_count": null,
   "metadata": {},
   "outputs": [],
   "source": [
    "## Get centroid\n",
    "from photutils import centroid_com, centroid_2dg  #load centroid libraries\n",
    "subdata1 = data1[pos1[1]-30:pos1[1]+30,pos1[0]-30:pos1[0]+30]#select subportion of 60x60 image\n",
    "subdata2 = data2[pos2[1]-30:pos2[1]+30,pos2[0]-30:pos2[0]+30]#select subportion of 60x60 image\n",
    "plt.imshow(subdata1)\n",
    "center1,center2 = centroid_2dg(subdata1)+pos1-[30,30],centroid_2dg(subdata2)+pos2-[30,30]\n",
    "ccenter1,ccenter2 = centroid_com(subdata1)+pos1-[30,30],centroid_com(subdata2)+pos2-[30,30]\n",
    "print(center1,center2)\n",
    "print(ccenter1,ccenter2)"
   ]
  },
  {
   "cell_type": "code",
   "execution_count": null,
   "metadata": {},
   "outputs": [],
   "source": [
    "## Shift image\n",
    "shiftdat = np.roll(data2,-np.int(np.round(center2[1]-center1[1])),axis=0) #shift in y\n",
    "shiftdata2 = np.roll(shiftdat,-np.int(np.round(center2[0]-center1[0])),axis=1) #shift in x"
   ]
  },
  {
   "cell_type": "code",
   "execution_count": null,
   "metadata": {},
   "outputs": [],
   "source": [
    "## Save image\n",
    "head2['PROCESS'] = 'shifted'\n",
    "fits.writeto(dir+'hip93124_2019-10-25_19-19-44_Green_0220_shifted.fits',shiftdata2,head2,overwrite=True)"
   ]
  },
  {
   "cell_type": "markdown",
   "metadata": {},
   "source": [
    "## Get background and background noise"
   ]
  },
  {
   "cell_type": "code",
   "execution_count": null,
   "metadata": {},
   "outputs": [],
   "source": [
    "#Load an image\n",
    "image = fits.getdata(dir+'ngc6946_2019-10-25_20-23-17_black_0327.fits')"
   ]
  },
  {
   "cell_type": "code",
   "execution_count": null,
   "metadata": {},
   "outputs": [],
   "source": [
    "from photutils import Background2D,MedianBackground\n",
    "from astropy.stats import SigmaClip\n",
    "sigma_clip = SigmaClip(sigma=3.0) \n",
    "bkg_estimator = MedianBackground()\n",
    "bkg = Background2D(image,(50,50),filter_size=(3,3),sigma_clip=sigma_clip,\n",
    "                   bkg_estimator=bkg_estimator)\n",
    "print(\"      Median background found: %f, median bkg noise: %f\"\n",
    "      %(bkg.background_median,bkg.background_rms_median)  )"
   ]
  },
  {
   "cell_type": "code",
   "execution_count": null,
   "metadata": {},
   "outputs": [],
   "source": [
    "fig,ax = plt.subplots(1,3,figsize=(12,6))\n",
    "lo,up = np.percentile(image,1),np.percentile(image,99)\n",
    "ax[0].imshow(image,cmap='gray',clim=(lo,up))\n",
    "ax[1].imshow(bkg.background,cmap='gray',clim=(lo,up))\n",
    "lo,up = np.percentile(image-bkg.background,1),np.percentile(image-bkg.background,99)\n",
    "ax[2].imshow(image-bkg.background,cmap='gray',clim=(lo,up))"
   ]
  },
  {
   "cell_type": "code",
   "execution_count": null,
   "metadata": {},
   "outputs": [],
   "source": [
    "plt.imshow(bkg.background_rms,cmap='gray')\n",
    "plt.colorbar()"
   ]
  },
  {
   "cell_type": "markdown",
   "metadata": {},
   "source": [
    "## Get astrometry with astrometry.net"
   ]
  },
  {
   "cell_type": "code",
   "execution_count": null,
   "metadata": {},
   "outputs": [],
   "source": [
    "#Run a command on terminal\n",
    "import os\n",
    "ra,dec = '20:34:52.3', '+60:09:14'\n",
    "file = 'ngc6946_2019-10-25_20-23-17_black_0327.fits'\n",
    "outfile = 'ngc6946_2019-10-25_20-23-17_black_0327_astrometry.fits'\n",
    "os.system(\"solve-field --ra \"+str(ra)+\" --dec \"+str(dec)+\n",
    "          \" --radius 0.5 --dir \"+dir+\" --new-fits \"+dir+outfile+\n",
    "          \" --cpulimit 1800 \"+file)#--overwrite"
   ]
  },
  {
   "cell_type": "markdown",
   "metadata": {},
   "source": [
    "## Other tools\n",
    "\n",
    "### Better alignment:\n",
    "https://github.com/toros-astro/astroalign\n",
    "\n",
    "### RGB color composite:\n",
    "http://docs.astropy.org/en/stable/visualization/rgb.html\n",
    "\n",
    "### To do aperture photometry:\n",
    "https://photutils.readthedocs.io/en/stable/aperture.html\n",
    "\n",
    "### To do PSF photometry:\n",
    "https://photutils.readthedocs.io/en/stable/psf.html\n",
    "\n",
    "### To do surface photometry:\n",
    "https://photutils.readthedocs.io/en/stable/isophote.html\n",
    "\n",
    "### To analyze time-series:\n",
    "https://docs.astropy.org/en/stable/timeseries/\n",
    "\n",
    "### On model fitting:\n",
    "https://emcee.readthedocs.io/en/stable/tutorials/line/"
   ]
  }
 ],
 "metadata": {
  "kernelspec": {
   "display_name": "Python 2",
   "language": "python",
   "name": "python2"
  },
  "language_info": {
   "codemirror_mode": {
    "name": "ipython",
    "version": 3
   },
   "file_extension": ".py",
   "mimetype": "text/x-python",
   "name": "python",
   "nbconvert_exporter": "python",
   "pygments_lexer": "ipython3",
   "version": "3.5.2"
  }
 },
 "nbformat": 4,
 "nbformat_minor": 2
}
