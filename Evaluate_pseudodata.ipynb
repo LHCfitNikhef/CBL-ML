{
 "cells": [
  {
   "cell_type": "code",
   "execution_count": 58,
   "metadata": {},
   "outputs": [],
   "source": [
    "import pandas as pd\n",
    "import glob\n",
    "import matplotlib.pyplot as plt\n",
    "from copy import copy\n",
    "import numpy as np\n",
    "import pandas as pd\n",
    "import matplotlib.pyplot as plt\n",
    "import os\n",
    "import fnmatch\n",
    "import csv\n",
    "import pickle\n",
    "import warnings\n",
    "import torch\n",
    "import scipy\n",
    "from scipy import optimize\n",
    "from scipy.optimize import leastsq\n",
    "from io import StringIO\n",
    "from scipy.signal import savgol_filter\n",
    "from datetime import datetime\n",
    "\n",
    "now = datetime.now()\n",
    "d_string = now.strftime(\"%d.%m.%Y\")\n",
    "\n",
    "%store -r\n"
   ]
  },
  {
   "cell_type": "raw",
   "metadata": {},
   "source": [
    "Use data of today, insert desired time and energy below."
   ]
  },
  {
   "cell_type": "code",
   "execution_count": 59,
   "metadata": {},
   "outputs": [],
   "source": [
    "minval = -1\n",
    "maxval = +1\n",
    "\n",
    "\n",
    "path_1 = r'Data/Results/%(now)s/' % {\"now\": d_string} # use your path\n",
    "path_2 = r'xyp_%(energy)s_%(time)sms_*' % {\"energy\": energy, \"time\": time}\n",
    "all_files = glob.glob(path_1 + path_2)\n",
    "\n",
    "li = []\n",
    "\n",
    "for filename in all_files:\n",
    "    df = pd.read_csv(filename, index_col=None, header=0)\n",
    "    li.append(df)\n",
    "\n",
    "frame = pd.concat(li, axis=0, ignore_index=True)\n"
   ]
  },
  {
   "cell_type": "code",
   "execution_count": 60,
   "metadata": {},
   "outputs": [],
   "source": [
    "pseudo_x = frame.iloc[:,0]\n",
    "pseudo_y = frame.iloc[:,1]\n",
    "pseudo_pred = frame.iloc[:,2]\n",
    "\n"
   ]
  },
  {
   "cell_type": "code",
   "execution_count": 61,
   "metadata": {},
   "outputs": [],
   "source": [
    "%run Functions.ipynb\n"
   ]
  },
  {
   "cell_type": "code",
   "execution_count": 62,
   "metadata": {},
   "outputs": [],
   "source": [
    "pseudo_mean, pseudo_std, pseudo_meanvector, pseudo_stdvector = get_mean_pseudodata(pseudo_x, pseudo_pred)\n",
    "pseudo_xvector = np.linspace(minval, maxval, nbins)\n"
   ]
  },
  {
   "cell_type": "code",
   "execution_count": null,
   "metadata": {},
   "outputs": [],
   "source": []
  },
  {
   "cell_type": "code",
   "execution_count": null,
   "metadata": {},
   "outputs": [],
   "source": []
  },
  {
   "cell_type": "code",
   "execution_count": null,
   "metadata": {},
   "outputs": [],
   "source": []
  },
  {
   "cell_type": "markdown",
   "metadata": {},
   "source": [
    "## Find the residuals"
   ]
  },
  {
   "cell_type": "code",
   "execution_count": 63,
   "metadata": {},
   "outputs": [],
   "source": [
    "def residuals(prediction, y, std):\n",
    "    res = np.divide((prediction - y), std)\n",
    "    return res"
   ]
  },
  {
   "cell_type": "code",
   "execution_count": 67,
   "metadata": {},
   "outputs": [
    {
     "name": "stdout",
     "output_type": "stream",
     "text": [
      "1.145303\n",
      "168\n"
     ]
    },
    {
     "data": {
      "text/plain": [
       "(168,)"
      ]
     },
     "execution_count": 67,
     "metadata": {},
     "output_type": "execute_result"
    }
   ],
   "source": [
    "chi = np.loadtxt('Data/Results/%(date)s/aaa chidistribution_%(energy)s_%(time)sms_e%(epoch)s_Nrep=%(i)s.csv' % {\"date\": d_string, \"energy\":energy, \"time\": time, \"epoch\": training_epochs, \"i\": Nrep })\n",
    "\n",
    "best_value = min(chi)\n",
    "print(best_value)\n",
    "best_try = (np.where(chi == best_value))\n",
    "best_try = int(np.rint(best_try))\n",
    "N_train = int(np.divide(pseudo_pred.shape , Nrep))\n",
    "print(N_train)\n",
    "\n",
    "best_pred = pseudo_pred[best_try*N_train :(best_try+1)*N_train]\n",
    "best_y = pseudo_y[best_try*N_train :(best_try+1)*N_train]\n",
    "\n",
    "best_y.shape"
   ]
  },
  {
   "cell_type": "code",
   "execution_count": null,
   "metadata": {},
   "outputs": [],
   "source": []
  },
  {
   "cell_type": "code",
   "execution_count": null,
   "metadata": {},
   "outputs": [],
   "source": []
  }
 ],
 "metadata": {
  "kernelspec": {
   "display_name": "Python 3",
   "language": "python",
   "name": "python3"
  },
  "language_info": {
   "codemirror_mode": {
    "name": "ipython",
    "version": 3
   },
   "file_extension": ".py",
   "mimetype": "text/x-python",
   "name": "python",
   "nbconvert_exporter": "python",
   "pygments_lexer": "ipython3",
   "version": "3.7.4"
  }
 },
 "nbformat": 4,
 "nbformat_minor": 2
}
