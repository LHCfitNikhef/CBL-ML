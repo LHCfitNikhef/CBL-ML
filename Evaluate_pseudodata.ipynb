{
 "cells": [
  {
   "cell_type": "code",
   "execution_count": 2,
   "metadata": {},
   "outputs": [],
   "source": [
    "import pandas as pd\n",
    "import glob\n",
    "import matplotlib.pyplot as plt\n",
    "from copy import copy\n",
    "import numpy as np\n",
    "import pandas as pd\n",
    "import matplotlib.pyplot as plt\n",
    "import os\n",
    "import fnmatch\n",
    "import csv\n",
    "import pickle\n",
    "import warnings\n",
    "import torch\n",
    "import scipy\n",
    "from scipy import optimize\n",
    "from scipy.optimize import leastsq\n",
    "from io import StringIO\n",
    "from scipy.signal import savgol_filter\n",
    "from datetime import datetime\n",
    "\n",
    "now = datetime.now()\n",
    "d_string = now.strftime(\"%d.%m.%Y\")\n",
    "\n"
   ]
  },
  {
   "cell_type": "markdown",
   "metadata": {},
   "source": [
    "## Load predictions and training data"
   ]
  },
  {
   "cell_type": "code",
   "execution_count": 211,
   "metadata": {},
   "outputs": [],
   "source": [
    "#train_energy = pd.read_csv('Data/Results/%(now)s/train_energy.csv' % {\"now\": d_string}, header=None, names=['energy'])\n",
    "#train_time = pd.read_csv('Data/Results/%(now)s/train_time.csv' % {\"now\": d_string}, header=None, names=['time'])\n",
    "#N_train = len(train_energy)"
   ]
  },
  {
   "cell_type": "code",
   "execution_count": 11,
   "metadata": {},
   "outputs": [
    {
     "name": "stdout",
     "output_type": "stream",
     "text": [
      "               0         1         2    3    4\n",
      "0       0.033501  0.102166  0.102345  0.1  2.0\n",
      "1      -0.325543  0.103743  0.103038  0.1  2.0\n",
      "2       0.303909  0.102542  0.102371  0.1  2.0\n",
      "3      -0.373005  0.540013  0.562950  1.0  0.6\n",
      "4      -0.029276  0.102413  0.102360  0.1  2.0\n",
      "...          ...       ...       ...  ...  ...\n",
      "361635 -0.360869  0.104664  0.103547  0.1  2.0\n",
      "361636  0.828239  0.103443  0.102477  0.1  2.0\n",
      "361637 -0.580306  0.103470  0.102875  0.1  2.0\n",
      "361638 -0.978961  0.103231  0.102538  0.1  2.0\n",
      "361639 -0.213194  0.102526  0.102576  0.1  2.0\n",
      "\n",
      "[361640 rows x 5 columns]\n"
     ]
    }
   ],
   "source": [
    "path_1 = r'Data/Results/%(now)s/' % {\"now\": d_string} # use your path\n",
    "path_2 = r'xyp1p2_all_e30000_round3_*'\n",
    "all_files = glob.glob(path_1 + path_2)\n",
    "li = []\n",
    "\n",
    "for filename in all_files:\n",
    "    df = pd.read_csv(filename, delimiter=\",\", skiprows=1, header=None, usecols=[0,1,2,3,4])\n",
    "    li.append(df)\n",
    "frame = pd.concat(li, axis=0, ignore_index=True)\n",
    "print(frame)"
   ]
  },
  {
   "cell_type": "code",
   "execution_count": 12,
   "metadata": {},
   "outputs": [],
   "source": [
    "pseudo_x = frame.iloc[:,0]\n",
    "pseudo_y = frame.iloc[:,1]\n",
    "pseudo_pred = frame.iloc[:,2]\n",
    "pseudo_time = frame.iloc[:,3]\n",
    "pseudo_energy = frame.iloc[:,4]"
   ]
  },
  {
   "cell_type": "markdown",
   "metadata": {},
   "source": [
    "## Load Chi2 training data"
   ]
  },
  {
   "cell_type": "code",
   "execution_count": 13,
   "metadata": {},
   "outputs": [],
   "source": [
    "path_3 = r'chi_all_*' \n",
    "\n",
    "all_files_chi = glob.glob(path_1 + path_3)\n",
    "chi2_array = []\n",
    "chi2_index = []\n",
    "\n",
    "for filename in all_files_chi:\n",
    "    df = pd.read_csv(filename, delimiter=\",\", skiprows=1, header=None, usecols=[0,1])\n",
    "    best_try = np.where(df[1] == min(df[1]))[0]\n",
    "    chi2_array.append(min(df[1]))\n",
    "    chi2_index.append(max(best_try))"
   ]
  },
  {
   "cell_type": "code",
   "execution_count": null,
   "metadata": {},
   "outputs": [],
   "source": []
  },
  {
   "cell_type": "markdown",
   "metadata": {},
   "source": [
    "## Load extrapolation data"
   ]
  },
  {
   "cell_type": "code",
   "execution_count": 43,
   "metadata": {},
   "outputs": [],
   "source": [
    "path_4 = r'extrapolation_e30000_round3_*'\n",
    "all_files_ex = glob.glob(path_1 + path_4)\n",
    "lo=[]\n",
    "\n",
    "for filename in all_files_ex:\n",
    "    df = pd.read_csv(filename, delimiter=\",\", skiprows=1, header=None, usecols=[0,3], names=['dE', 'D'])\n",
    "    lo.append(df)\n",
    "extrapolation = pd.concat(lo, axis=0, ignore_index=True)\n"
   ]
  },
  {
   "cell_type": "code",
   "execution_count": null,
   "metadata": {},
   "outputs": [],
   "source": []
  },
  {
   "cell_type": "markdown",
   "metadata": {},
   "source": [
    "## Load interpolation data"
   ]
  },
  {
   "cell_type": "code",
   "execution_count": 52,
   "metadata": {},
   "outputs": [
    {
     "name": "stdout",
     "output_type": "stream",
     "text": [
      "1662\n"
     ]
    }
   ],
   "source": [
    "path_5 = r'extrapolation_e30000_round2*.csv'\n",
    "all_files_int = glob.glob(path_1 + path_5)\n",
    "la = []\n",
    "for filename in all_files_int:\n",
    "    df = pd.read_csv(filename, delimiter=\",\", skiprows=1, header=None, usecols=[0,1,2,3], names=['dE', 'time', 'energy', 'D'])\n",
    "    la.append(df)\n",
    "interpolation = pd.concat(la, axis=0, ignore_index=True)\n",
    "N_interpol = int(np.divide(len(interpolation), 20))\n",
    "\n"
   ]
  },
  {
   "cell_type": "code",
   "execution_count": null,
   "metadata": {},
   "outputs": [],
   "source": []
  },
  {
   "cell_type": "code",
   "execution_count": null,
   "metadata": {},
   "outputs": [],
   "source": [
    "\n"
   ]
  },
  {
   "cell_type": "code",
   "execution_count": null,
   "metadata": {},
   "outputs": [],
   "source": []
  },
  {
   "cell_type": "code",
   "execution_count": null,
   "metadata": {},
   "outputs": [],
   "source": []
  }
 ],
 "metadata": {
  "kernelspec": {
   "display_name": "Python 3",
   "language": "python",
   "name": "python3"
  },
  "language_info": {
   "codemirror_mode": {
    "name": "ipython",
    "version": 3
   },
   "file_extension": ".py",
   "mimetype": "text/x-python",
   "name": "python",
   "nbconvert_exporter": "python",
   "pygments_lexer": "ipython3",
   "version": "3.7.4"
  }
 },
 "nbformat": 4,
 "nbformat_minor": 2
}
