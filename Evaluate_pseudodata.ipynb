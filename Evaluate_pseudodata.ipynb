{
 "cells": [
  {
   "cell_type": "code",
   "execution_count": 83,
   "metadata": {},
   "outputs": [],
   "source": [
    "import pandas as pd\n",
    "import glob\n",
    "import matplotlib.pyplot as plt\n",
    "from copy import copy\n",
    "import numpy as np\n",
    "import pandas as pd\n",
    "import matplotlib.pyplot as plt\n",
    "import os\n",
    "import fnmatch\n",
    "import csv\n",
    "import pickle\n",
    "import warnings\n",
    "import torch\n",
    "import scipy\n",
    "from scipy import optimize\n",
    "from scipy.optimize import leastsq\n",
    "from io import StringIO\n",
    "from scipy.signal import savgol_filter\n",
    "from datetime import datetime\n",
    "\n",
    "now = datetime.now()\n",
    "d_string = now.strftime(\"%d.%m.%Y\")\n",
    "\n"
   ]
  },
  {
   "cell_type": "markdown",
   "metadata": {},
   "source": [
    "## Load predictions and training data"
   ]
  },
  {
   "cell_type": "code",
   "execution_count": 84,
   "metadata": {},
   "outputs": [],
   "source": [
    "#train_energy = pd.read_csv('Data/Results/%(now)s/train_energy.csv' % {\"now\": d_string}, header=None, names=['energy'])\n",
    "#train_time = pd.read_csv('Data/Results/%(now)s/train_time.csv' % {\"now\": d_string}, header=None, names=['time'])\n",
    "#N_train = len(train_energy)"
   ]
  },
  {
   "cell_type": "code",
   "execution_count": 204,
   "metadata": {},
   "outputs": [
    {
     "name": "stdout",
     "output_type": "stream",
     "text": [
      "               0         1         2    3    4\n",
      "0      -0.571214  0.102656  0.102833  0.1  2.0\n",
      "1       0.299703  0.102790  0.102469  0.1  2.0\n",
      "2      -0.107796  0.103107  0.102478  0.1  2.0\n",
      "3      -0.528998  0.106378  0.104495  0.1  2.0\n",
      "4       0.763290  0.102372  0.102453  0.1  2.0\n",
      "...          ...       ...       ...  ...  ...\n",
      "216703  0.348984  0.103404  0.102473  0.1  2.0\n",
      "216704 -0.286687  0.103265  0.102742  0.1  2.0\n",
      "216705 -0.222261  0.102037  0.102561  0.1  2.0\n",
      "216706  0.538280  0.101547  0.102472  0.1  2.0\n",
      "216707  0.838398  0.102143  0.102472  0.1  2.0\n",
      "\n",
      "[216708 rows x 5 columns]\n"
     ]
    }
   ],
   "source": [
    "path_1 = r'Data/Results/%(now)s/' % {\"now\": d_string} # use your path\n",
    "path_2 = r'xyp1p2_all_e50000_round2_*'\n",
    "all_files = glob.glob(path_1 + path_2)\n",
    "li = []\n",
    "\n",
    "for filename in all_files:\n",
    "    df = pd.read_csv(filename, delimiter=\",\", skiprows=1, header=None, usecols=[0,1,2,3,4])\n",
    "    li.append(df)\n",
    "frame = pd.concat(li, axis=0, ignore_index=True)\n",
    "print(frame)"
   ]
  },
  {
   "cell_type": "code",
   "execution_count": 205,
   "metadata": {},
   "outputs": [],
   "source": [
    "pseudo_x = frame.iloc[:,0]\n",
    "pseudo_y = frame.iloc[:,1]\n",
    "pseudo_pred = frame.iloc[:,2]\n",
    "pseudo_time = frame.iloc[:,3]\n",
    "pseudo_energy = frame.iloc[:,4]\n"
   ]
  },
  {
   "cell_type": "markdown",
   "metadata": {},
   "source": [
    "## Load Chi2 training data"
   ]
  },
  {
   "cell_type": "code",
   "execution_count": 244,
   "metadata": {},
   "outputs": [],
   "source": [
    "path_3 = r'chi_all_e50000_round1_*.csv*' \n",
    "\n",
    "all_files_chi = glob.glob(path_1 + path_3)\n",
    "chi2_array = []\n",
    "chi2_index = []\n",
    "\n",
    "for filename in all_files_chi:\n",
    "    df = pd.read_csv(filename, delimiter=\",\", skiprows=1, header=None, usecols=[0,1])\n",
    "    best_try = np.where(df[1] == min(df[1]))[0]\n",
    "    chi2_array.append(min(df[1]))\n",
    "    chi2_index.append(max(best_try))"
   ]
  },
  {
   "cell_type": "code",
   "execution_count": 207,
   "metadata": {},
   "outputs": [
    {
     "name": "stdout",
     "output_type": "stream",
     "text": [
      "1.118454\n"
     ]
    }
   ],
   "source": [
    "print(chi2_array[6])"
   ]
  },
  {
   "cell_type": "markdown",
   "metadata": {},
   "source": [
    "## Load extrapolation data"
   ]
  },
  {
   "cell_type": "code",
   "execution_count": 245,
   "metadata": {},
   "outputs": [
    {
     "name": "stdout",
     "output_type": "stream",
     "text": [
      "4.0\n"
     ]
    }
   ],
   "source": [
    "path_4 = r'extrapolation_e50000_round1_*'\n",
    "all_files_ex = glob.glob(path_1 + path_4)\n",
    "high_energy = []\n",
    "\n",
    "for filename in all_files_ex:\n",
    "    df = pd.read_csv(filename, delimiter=\",\", skiprows=1001, nrows = 1000, header=None, usecols=[0,1,2,3], names=['dE', 'time', 'energy', 'D'])\n",
    "    high_energy.append(df)\n",
    "extrapolation = pd.concat(high_energy, axis=0, ignore_index=True)\n",
    "\n",
    "print(max(extrapolation['energy']))\n"
   ]
  },
  {
   "cell_type": "code",
   "execution_count": 249,
   "metadata": {},
   "outputs": [
    {
     "data": {
      "image/png": "[encoded data removed]",
      "text/plain": [
       "<Figure size 720x360 with 1 Axes>"
      ]
     },
     "metadata": {
      "needs_background": "light"
     },
     "output_type": "display_data"
    }
   ],
   "source": [
    "x = extrapolation['dE']\n",
    "y = extrapolation['D']\n",
    "\n",
    "plt.figure(figsize=(10,5))\n",
    "plt.plot(x,y,'.')\n",
    "plt.xlabel('dE')\n",
    "plt.ylabel('Intensity')\n",
    "plt.title('Predictions on $E_{beam}$ = 400 keV')\n",
    "plt.savefig('Data/Results/04.05.2020/#Predictions_400.png')\n",
    "plt.show()"
   ]
  },
  {
   "cell_type": "markdown",
   "metadata": {},
   "source": [
    "## Load interpolation data"
   ]
  },
  {
   "cell_type": "code",
   "execution_count": 247,
   "metadata": {},
   "outputs": [
    {
     "name": "stdout",
     "output_type": "stream",
     "text": [
      "1.2\n"
     ]
    }
   ],
   "source": [
    "path_5 = r'extrapolation_e50000_round1*.csv'\n",
    "\n",
    "all_files_int = glob.glob(path_1 + path_5)\n",
    "\n",
    "del all_files_int[5]\n",
    "del all_files_int[8]\n",
    "\n",
    "low_energy = []\n",
    "for filename in all_files_int:\n",
    "    df = pd.read_csv(filename, delimiter=\",\", skiprows=1, header=None, usecols=[0,1,2,3], nrows=1000, names=['dE', 'time', 'energy', 'D'])\n",
    "    low_energy.append(df)\n",
    "interpolation = pd.concat(low_energy, axis=0, ignore_index=True)\n",
    "print(max(interpolation['energy']))\n",
    "\n"
   ]
  },
  {
   "cell_type": "code",
   "execution_count": 248,
   "metadata": {},
   "outputs": [
    {
     "data": {
      "image/png": "[encoded data removed]",
      "text/plain": [
       "<Figure size 720x360 with 1 Axes>"
      ]
     },
     "metadata": {
      "needs_background": "light"
     },
     "output_type": "display_data"
    }
   ],
   "source": [
    "x = interpolation['dE']\n",
    "y = interpolation['D']\n",
    "\n",
    "plt.figure(figsize=(10,5))\n",
    "plt.plot(x,y,'.')\n",
    "plt.xlabel('dE')\n",
    "plt.ylabel('Intensity')\n",
    "plt.title('Predictions on $E_{beam}$ = 120 keV')\n",
    "#plt.savefig('Data/Results/04.05.2020/#Predictions_80.png')\n",
    "plt.show()\n"
   ]
  },
  {
   "cell_type": "code",
   "execution_count": null,
   "metadata": {},
   "outputs": [],
   "source": [
    "\n"
   ]
  },
  {
   "cell_type": "code",
   "execution_count": null,
   "metadata": {},
   "outputs": [],
   "source": []
  },
  {
   "cell_type": "code",
   "execution_count": null,
   "metadata": {},
   "outputs": [],
   "source": []
  }
 ],
 "metadata": {
  "kernelspec": {
   "display_name": "Python 3",
   "language": "python",
   "name": "python3"
  },
  "language_info": {
   "codemirror_mode": {
    "name": "ipython",
    "version": 3
   },
   "file_extension": ".py",
   "mimetype": "text/x-python",
   "name": "python",
   "nbconvert_exporter": "python",
   "pygments_lexer": "ipython3",
   "version": "3.7.4"
  }
 },
 "nbformat": 4,
 "nbformat_minor": 2
}
