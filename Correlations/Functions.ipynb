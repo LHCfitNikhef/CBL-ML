{
 "cells": [
  {
   "cell_type": "code",
   "execution_count": 3,
   "metadata": {},
   "outputs": [],
   "source": [
    "import numpy as np\n",
    "from copy import copy\n",
    "\n",
    "def ewd(x, y, nbins):  \n",
    "    \"\"\"Apply Equal Width Discretization (EWD) to the training data to determine variances\"\"\"\n",
    "    \n",
    "    df_train = np.array(np.c_[x,y])\n",
    "    xdata = np.array(copy(df_train[:,0]))\n",
    "    xdata = np.squeeze(xdata)\n",
    "    df_train = df_train[np.argsort(df_train[:,0])]\n",
    "    cuts1, cuts2 = pd.cut(xdata, nbins, retbins=True)\n",
    "    \n",
    "    return df_train, cuts1, cuts2\n",
    "\n",
    "def binned_statistics(x,y, nbins):\n",
    "    \"\"\"Find the mean, variance and number of counts within the bins described by ewd\"\"\"\n",
    "    \n",
    "    df_train, cuts1, cuts2 = ewd(x,y, nbins)\n",
    "    mean, edges, binnum = scipy.stats.binned_statistic(df_train[:,0], df_train[:,1], statistic='mean', bins=cuts2)\n",
    "    var, edges, binnum = scipy.stats.binned_statistic(df_train[:,0], df_train[:,1], statistic='std', bins=cuts2)\n",
    "    count, edges, binnum = scipy.stats.binned_statistic(df_train[:,0], df_train[:,1], statistic='count', bins=cuts2)\n",
    "    \n",
    "    \n",
    "    return mean, var, count\n",
    "\n"
   ]
  },
  {
   "cell_type": "code",
   "execution_count": null,
   "metadata": {},
   "outputs": [],
   "source": []
  }
 ],
 "metadata": {
  "kernelspec": {
   "display_name": "Python 3",
   "language": "python",
   "name": "python3"
  },
  "language_info": {
   "codemirror_mode": {
    "name": "ipython",
    "version": 3
   },
   "file_extension": ".py",
   "mimetype": "text/x-python",
   "name": "python",
   "nbconvert_exporter": "python",
   "pygments_lexer": "ipython3",
   "version": "3.8.3"
  }
 },
 "nbformat": 4,
 "nbformat_minor": 4
}
